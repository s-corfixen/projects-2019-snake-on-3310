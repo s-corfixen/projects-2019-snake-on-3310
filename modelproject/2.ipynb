
{
 "cells": [
  {
   "cell_type": "code",
   "execution_count": 1,
   "metadata": {},
   "outputs": [],
   "source": [
    "%matplotlib inline\n",
    "import numpy as np\n",
    "import matplotlib.pyplot as plt\n",
    "from matplotlib.figure import Figure\n",
    "import ipywidgets as widgets\n",
    "import time\n",
    "from scipy import linalg\n",
    "from scipy import optimize\n",
    "import sympy as sm\n",
    "import pandas as pd\n",
    "\n",
    "sm.init_printing(use_unicode=True)"
   ]
  },
  {
   "cell_type": "markdown",
   "metadata": {},
   "source": []
  },
  {
   "cell_type": "code",
   "execution_count": 38,
   "metadata": {},
   "outputs": [],
   "source": [
    "mu_t = sm.symbols(\"mu_t\")\n",
    "mu_t1 = sm.symbols(\"mu_t-1\")\n",
    "b_t = sm.symbols(\"b_t\")\n",
    "a_t = sm.symbols(\"a_t\")\n",
    "p_t = sm.symbols(\"P_t\")\n",
    "v = sm.symbols(\"v\")\n",
    "v_h = sm.symbols(\"v^H\")\n",
    "v_l = sm.symbols(\"v^L\")\n",
    "d_t = sm.symbols(\"d_t\")\n",
    "sd_t = sm.symbols(\"s(d_t)\")\n",
    "s_a = sm.symbols(\"s_t^a\")\n",
    "s_b = sm.symbols(\"s_t^b\")\n",
    "theta_t = sm.symbols(\"theta_t\")\n",
    "theta_t1 = sm.symbols(\"theta_t-1\")\n",
    "pi = sm.symbols(\"pi\")\n",
    "beta_b = sm.symbols(\"beta_B\")\n",
    "beta_s = sm.symbols(\"beta_S\")\n",
    "spib = sm.symbols(\"Pi_buy\")\n",
    "spis = sm.symbols(\"Pi_sell\")\n",
    "pvh=sm.symbols(\"p(v_h)\")\n",
    "pb=sm.symbols(\"p(Buy)\")\n",
    "pbvh= sm.symbols('p(Buy|v_h)\\space')\n",
    "pbvl= sm.symbols('p(Buy|v_l)\\space')\n",
    "pvhb= sm.symbols('p(v_h|Buy)\\space')\n",
    "pvlb=sm.symbols('p(v_l|Buy)\\space')\n",
    "theta_p=sm.symbols(\"theta^p\")\n",
    "theta_m=sm.symbols(\"theta^m\")"
   ]
  },
  {
   "cell_type": "code",
   "execution_count": 43,
   "metadata": {},
   "outputs": [
    {
     "data": {
      "image/png": "[encoded data removed]",
      "text/latex": [
       "$\\displaystyle \\mu_{t} = \\theta_{t} v^{H} + v^{L} \\left(1 - \\theta_{t}\\right)$"
      ],
      "text/plain": [
       "μₜ = θₜ⋅v__H + v__L⋅(1 - θₜ)"
      ]
     },
     "execution_count": 43,
     "metadata": {},
     "output_type": "execute_result"
    }
   ],
   "source": [
    "sm.Eq(mu_t,theta_t*v_h+(1-theta_t)*v_l) "
   ]
  },
  {
   "cell_type": "code",
   "execution_count": 44,
   "metadata": {},
   "outputs": [
    {
     "data": {
      "text/latex": [
       "$\\displaystyle p(Buy|v_h)\\space = \\beta_{B} \\left(1 - \\pi\\right) + \\pi$"
      ],
      "text/plain": [
       "p(Buy|v_h)\\space = β_B⋅(1 - π) + π"
      ]
     },
     "execution_count": 44,
     "metadata": {},
     "output_type": "execute_result"
    }
   ],
   "source": [
    "sm.Eq(pbvh,(1-pi)*beta_b+pi)"
   ]
  },
  {
   "cell_type": "code",
   "execution_count": 45,
   "metadata": {},
   "outputs": [
    {
     "data": {
      "text/latex": [
       "$\\displaystyle p(Buy|v_l)\\space = \\beta_{B} \\left(1 - \\pi\\right)$"
      ],
      "text/plain": [
       "p(Buy|v_l)\\space = β_B⋅(1 - π)"
      ]
     },
     "execution_count": 45,
     "metadata": {},
     "output_type": "execute_result"
    }
   ],
   "source": [
    "sm.Eq(pbvl,(1-pi)*beta_b)"
   ]
  },
  {
   "cell_type": "code",
   "execution_count": 46,
   "metadata": {},
   "outputs": [
    {
     "data": {
      "text/latex": [
       "$\\displaystyle p(v_h|Buy)\\space = \\frac{p(Buy|v_h)\\space p(v_{h)}}{p(Buy)}$"
      ],
      "text/plain": [
       "                   p(Buy|v_h)\\space⋅p(vₕ₎\n",
       "p(v_h|Buy)\\space = ──────────────────────\n",
       "                           p(Buy)        "
      ]
     },
     "execution_count": 46,
     "metadata": {},
     "output_type": "execute_result"
    }
   ],
   "source": [
    "sm.Eq(pvhb,(pvh*pbvh)/(pb)) "
   ]
  },
  {
   "cell_type": "code",
   "execution_count": 47,
   "metadata": {},
   "outputs": [
    {
     "data": {
      "text/latex": [
       "$\\displaystyle p(v_h|Buy)\\space = \\frac{\\theta_{t-1} \\left(\\beta_{B} \\left(1 - \\pi\\right) + \\pi\\right)}{\\beta_{B} \\left(1 - \\pi\\right) + \\pi \\theta_{t-1}}$"
      ],
      "text/plain": [
       "                   θₜ₋₁⋅(β_B⋅(1 - π) + π)\n",
       "p(v_h|Buy)\\space = ──────────────────────\n",
       "                    β_B⋅(1 - π) + π⋅θₜ₋₁ "
      ]
     },
     "execution_count": 47,
     "metadata": {},
     "output_type": "execute_result"
    }
   ],
   "source": [
    "sm.Eq(pvhb, (theta_t1*((1-pi)*beta_b+pi))/((1-pi)*beta_b+pi*theta_t1))"
   ]
  },
  {
   "cell_type": "code",
   "execution_count": 48,
   "metadata": {},
   "outputs": [
    {
     "data": {
      "text/latex": [
       "$\\displaystyle p(v_l|Buy)\\space = 1 - p(v_h|Buy)\\space$"
      ],
      "text/plain": [
       "p(v_l|Buy)\\space = 1 - p(v_h|Buy)\\space"
      ]
     },
     "execution_count": 48,
     "metadata": {},
     "output_type": "execute_result"
    }
   ],
   "source": [
    "sm.Eq(pvlb,1-pvhb)"
   ]
  },
  {
   "cell_type": "code",
   "execution_count": 49,
   "metadata": {},
   "outputs": [
    {
     "data": {
      "text/latex": [
       "$\\displaystyle a_{t} = p(v_h|Buy)\\space v^{H} + p(v_l|Buy)\\space v^{L}$"
      ],
      "text/plain": [
       "aₜ = p(v_h|Buy)\\space⋅v__H + p(v_l|Buy)\\space⋅v__L"
      ]
     },
     "execution_count": 49,
     "metadata": {},
     "output_type": "execute_result"
    }
   ],
   "source": [
    "sm.Eq(a_t,pvhb*v_h+pvlb*v_l)"
   ]
  },
  {
   "cell_type": "code",
   "execution_count": 50,
   "metadata": {},
   "outputs": [
    {
     "data": {
      "image/png": "[encoded data removed]",
      "text/latex": [
       "$\\displaystyle a_{t} = \\mu_{t-1} + s^{a}_{t}$"
      ],
      "text/plain": [
       "aₜ = μₜ₋₁ + s_t__a"
      ]
     },
     "execution_count": 50,
     "metadata": {},
     "output_type": "execute_result"
    }
   ],
   "source": [
    "sm.Eq(a_t,mu_t1+s_a)"
   ]
  },
  {
   "cell_type": "code",
   "execution_count": 51,
   "metadata": {},
   "outputs": [
    {
     "data": {
      "image/png": "[encoded data removed]",
      "text/latex": [
       "$\\displaystyle b_{t} = \\mu_{t-1} - s^{b}_{t}$"
      ],
      "text/plain": [
       "bₜ = μₜ₋₁ - s_t__b"
      ]
     },
     "execution_count": 51,
     "metadata": {},
     "output_type": "execute_result"
    }
   ],
   "source": [
    "sm.Eq(b_t,mu_t1-s_b)"
   ]
  },
  {
   "cell_type": "code",
   "execution_count": 52,
   "metadata": {},
   "outputs": [
    {
     "data": {
      "image/png": "[encoded data removed]",
      "text/latex": [
       "$\\displaystyle \\theta^{p} = \\frac{\\beta_{B} \\left(\\pi + 1\\right)}{\\beta_{B} \\left(1 - \\pi\\right) + \\pi \\theta_{t-1}}$"
      ],
      "text/plain": [
       "           β_B⋅(π + 1)     \n",
       "θ__p = ────────────────────\n",
       "       β_B⋅(1 - π) + π⋅θₜ₋₁"
      ]
     },
     "execution_count": 52,
     "metadata": {},
     "output_type": "execute_result"
    }
   ],
   "source": [
    "sm.Eq(theta_p,((1+pi)*beta_b)/(pi*theta_t1+(1-pi)*beta_b))"
   ]
  },
  {
   "cell_type": "code",
   "execution_count": 54,
   "metadata": {},
   "outputs": [
    {
     "data": {
      "image/png": "[encoded data removed]",
      "text/latex": [
       "$\\displaystyle \\theta^{m} = \\frac{\\beta_{S} \\left(1 - \\pi\\right)}{\\beta_{S} \\left(1 - \\pi\\right) + \\pi \\left(1 - \\theta_{t-1}\\right)}$"
      ],
      "text/plain": [
       "              β_S⋅(1 - π)        \n",
       "θ__m = ──────────────────────────\n",
       "       β_S⋅(1 - π) + π⋅(1 - θₜ₋₁)"
      ]
     },
     "execution_count": 54,
     "metadata": {},
     "output_type": "execute_result"
    }
   ],
   "source": [
    "sm.Eq(theta_m,((1-pi)*beta_s)/(pi*(1-theta_t1)+(1-pi)*beta_s))"
   ]
  },
  {
   "cell_type": "code",
   "execution_count": 3,
   "metadata": {},
   "outputs": [],
   "source": [
    "minimering = abs(v-p_t)\n",
    "\n",
    "\n",
    "\n",
    "spib = theta_t1*pi*(a_t-v_h)+beta_b*(1-pi)*(a_t-mu_t1)\n",
    "spis = (1-theta_t1)*pi*(v_l-b_t)+beta_s*(1-pi)*(mu_t1-b_t)\n",
    "\n",
    "a_t = mu_t1 + s_a\n",
    "b_t = mu_t1 + s_b\n",
    "\n",
    "s_a = (pi*theta_t1*(1-theta_t1))/(pi*theta_t1+(1-pi)*beta_b)*(v_h-v_l)\n",
    "s_b = (pi*(1-theta_t1)*(1-theta_t1))/(pi*theta_t1+(1-pi)*beta_s)*(v_h-v_l)\n",
    "\n"
   ]
  },
  {
   "cell_type": "code",
   "execution_count": 4,
   "metadata": {},
   "outputs": [
    {
     "data": {
      "image/png": "[encoded data removed]",
      "text/latex": [
       "$$s^{a}_{t} = \\frac{\\pi \\theta_{t-1} \\left(- \\theta_{t-1} + 1\\right) \\left(v^{H} - v^{L}\\right)}{\\beta_{B} \\left(- \\pi + 1\\right) + \\pi \\theta_{t-1}}$$"
      ],
      "text/plain": [
       "         π⋅θₜ₋₁⋅(-θₜ₋₁ + 1)⋅(v__H - v__L)\n",
       "s_t__a = ────────────────────────────────\n",
       "              β_B⋅(-π + 1) + π⋅θₜ₋₁      "
      ]
     },
     "execution_count": 4,
     "metadata": {},
     "output_type": "execute_result"
    }
   ],
   "source": [
    "sm.Eq(sm.symbols(\"s_t^a\"), s_a)"
   ]
  },
  {
   "cell_type": "markdown",
   "metadata": {},
   "source": [
    "draw.io"
   ]
  },
  {
   "cell_type": "code",
   "execution_count": 7,
   "metadata": {},
   "outputs": [],
   "source": [
    "def simulation(vh=1, vl=0, decision=\"v_h\", ratio=0.2, uninformed=0.5, startvalue=0.5, iterations = 500, seed=5000, epsilon=10**-5, shockperiod = None, shock={}):\n",
    "    #define constants\n",
    "    v_h = vh\n",
    "    v_l = vl\n",
    "    pi = ratio\n",
    "    beta_b = uninformed\n",
    "    beta_s = 1-beta_b\n",
    "    shock = shock\n",
    "    \n",
    "    #determine realized value of v\n",
    "    v = decision\n",
    "    \n",
    "    #allocate space\n",
    "    values=[]\n",
    "    ratiovalues = []\n",
    "    iteration = []\n",
    "    thetavalues = np.empty(iterations)\n",
    "    muvalues = np.empty(iterations)\n",
    "    askvalues = np.empty(iterations)\n",
    "    bidvalues = np.empty(iterations)\n",
    "    gapvalues = np.empty(iterations)\n",
    "    pivalues = np.empty(iterations)\n",
    "    decisionvalues = np.empty(iterations)\n",
    "    \n",
    "    #simulation settings\n",
    "    thetavalues[0]=startvalue\n",
    "    theta_t1 = startvalue\n",
    "    N = iterations\n",
    "    np.random.seed(seed)\n",
    "    \n",
    "    break_index = 0\n",
    "    \n",
    "    for i in range(N):\n",
    "        if v==\"v_h\":\n",
    "            v=v_h\n",
    "        elif v==\"v_l\":\n",
    "            v=v_l\n",
    "            \n",
    "        if i==shockperiod:\n",
    "            if shock != {}:\n",
    "                if \"Private\" in shock:\n",
    "                    if shock[\"Private\"]==1:\n",
    "                        v=\"v_h\"\n",
    "                    if shock[\"Private\"]==0:\n",
    "                        v=\"v_l\"\n",
    "                        \n",
    "                if \"Public\" in shock:\n",
    "                    v_l, v_h = shock[\"Public\"]\n",
    "\n",
    "        mu_t1 = theta_t1*v_h+(1-theta_t1)*v_l\n",
    "        muvalues[i] = mu_t1\n",
    "        \n",
    "        #calculate markup/discount\n",
    "        s_a = (pi*theta_t1*(1-theta_t1))/(pi*theta_t1+(1-pi)*beta_b)*(v_h-v_l)\n",
    "        s_b = (pi*theta_t1*(1-theta_t1))/(pi*(1-theta_t1)+(1-pi)*beta_s)*(v_h-v_l)\n",
    "        \n",
    "        #calculate ask/bid price\n",
    "        askvalues[i] = a_t = mu_t1 + s_a\n",
    "        bidvalues[i] = b_t = mu_t1 - s_b \n",
    "        \n",
    "        #calculate gap\n",
    "        gapvalues[i] = gap_t = a_t - b_t\n",
    "        \n",
    "        #realize pi\n",
    "        pivalues[i] = trader = np.random.binomial(1,pi)\n",
    "        \n",
    "        #if trader is informed\n",
    "        if trader == 1:\n",
    "            if v == v_h:\n",
    "                if v_h>a_t:\n",
    "                    d_t=1\n",
    "            if v == v_l:\n",
    "                if v_l<b_t:\n",
    "                    d_t=-1\n",
    "                    \n",
    "        #if trader is uninformed\n",
    "        if trader == 0:\n",
    "            buysell = np.random.binomial(1,beta_b)\n",
    "            if buysell == 1:\n",
    "                d_t = 1\n",
    "            else:\n",
    "                d_t = -1\n",
    "        \n",
    "        decisionvalues[i] = d_t\n",
    "        \n",
    "        #update theta\n",
    "        if d_t == 1:\n",
    "            theta_t = ((1+pi)*beta_b)/(pi*theta_t1+(1-pi)*beta_b)*theta_t1\n",
    "            theta_t1 = theta_t\n",
    "        if d_t == -1:\n",
    "            theta_t = ((1-pi)*beta_b)/(pi*(1-theta_t1)+(1-pi)*beta_b)*theta_t1\n",
    "            theta_t1 = theta_t\n",
    "        \n",
    "        if i<iterations-1:\n",
    "            thetavalues[i+1] = theta_t\n",
    "        ratiovalues.append(str(ratio))\n",
    "        iteration.append(int(i))\n",
    "        \n",
    "        #off by one error\n",
    "        break_index=i+1\n",
    "        if gap_t<epsilon or i == N-1:\n",
    "            values.extend([\"Theta: \"+str(theta_t), \"Bid: \"+str(b_t), \"Ask: \"+str(a_t), \"Mu: \"+str(mu_t1)])\n",
    "            break\n",
    "            \n",
    "    \n",
    "    dataframe = pd.DataFrame()\n",
    "    dataframe[\"Iteration\"]=iteration\n",
    "    dataframe[\"ratio\"] = ratiovalues\n",
    "    dataframe[\"theta\"] = thetavalues[0:break_index]\n",
    "    dataframe[\"mu\"] = muvalues[0:break_index]\n",
    "    dataframe[\"ask\"] = askvalues[0:break_index]\n",
    "    dataframe[\"bid\"] = bidvalues[0:break_index]\n",
    "    dataframe[\"spread\"] = gapvalues[0:break_index]\n",
    "    dataframe[\"trader\"] = pivalues[0:break_index]\n",
    "    dataframe[\"order\"] = decisionvalues[0:break_index]\n",
    "    \n",
    "    return dataframe, values"
   ]
  },
  {
   "cell_type": "code",
   "execution_count": 8,
   "metadata": {},
   "outputs": [],
   "source": [
    "run1 = simulation(ratio=0.15, iterations=1001,seed=404, shockperiod = 90, shock={\"Private\": 1, \"Public\": (0.5, 0.7)})\n",
    "run2 = simulation(ratio=0.1501, iterations=1001,seed=404, shockperiod = 90, shock={\"Private\": 0})\n",
    "run3 = simulation(ratio=0.1502, iterations=1001, seed=404, shockperiod = 90, shock={\"Private\": 0,\"Public\": (0.5, 0.7)})\n",
    "run4 = simulation(ratio=0.5, iterations=201, seed=404)\n",
    "run5 = simulation(ratio=0.9, iterations=201, seed=404)\n",
    "\n",
    "dataframe1, values1 = run1\n",
    "dataframe2, values2 = run2\n",
    "dataframe3, values3 = run3\n",
    "dataframe4, values4 = run4\n",
    "dataframe5, values5 = run5\n",
    "\n",
    "merged = pd.concat([dataframe1,dataframe2,dataframe3,dataframe4,dataframe5])"
   ]
  },
  {
   "cell_type": "code",
   "execution_count": 9,
   "metadata": {},
   "outputs": [
    {
     "name": "stdout",
     "output_type": "stream",
     "text": [
      "['Theta: 0.9999148241152956', 'Bid: 0.6999829648230592', 'Ask: 0.6999906930881101', 'Mu: 0.6999874085024806'] ['Theta: 1.018638663218169e-05', 'Bid: 1.0186386632181688e-05', 'Ask: 1.865314333398436e-05', 'Mu: 1.3784352410597332e-05'] ['Theta: 4.591039783417812e-05', 'Bid: 0.5000091820795668', 'Ask: 0.5000168204549132', 'Mu: 0.500012427696542']\n"
     ]
    }
   ],
   "source": [
    "print(values1,values2,values3)"
   ]
  },
  {
   "cell_type": "code",
   "execution_count": 10,
   "metadata": {},
   "outputs": [
    {
     "data": {
      "text/plain": [
       "<matplotlib.legend.Legend at 0x1f93b3047b8>"
      ]
     },
     "execution_count": 10,
     "metadata": {},
     "output_type": "execute_result"
    },
    {
     "data": {
      "image/png": "[encoded data removed]",
      "text/plain": [
       "<Figure size 600x400 with 1 Axes>"
      ]
     },
     "metadata": {
      "needs_background": "light"
     },
     "output_type": "display_data"
    },
    {
     "data": {
      "image/png": "[encoded data removed]",
      "text/plain": [
       "<Figure size 600x400 with 1 Axes>"
      ]
     },
     "metadata": {
      "needs_background": "light"
     },
     "output_type": "display_data"
    }
   ],
   "source": [
    "fig = plt.figure(dpi=100)\n",
    "ax = fig.add_subplot(1,1,1)\n",
    "ax.plot(dataframe1[\"ask\"])\n",
    "ax.plot(dataframe1[\"bid\"])\n",
    "ax.plot(dataframe1[\"mu\"])\n",
    "ax.grid(True)\n",
    "ax.set_xlabel(\"Iterations\")\n",
    "ax.legend()\n",
    "\n",
    "fig1 = plt.figure(dpi=100)\n",
    "ax1 = fig1.add_subplot(1,1,1)\n",
    "ax1.plot(dataframe2[\"ask\"])\n",
    "ax1.plot(dataframe2[\"bid\"])\n",
    "ax1.plot(dataframe2[\"mu\"])\n",
    "ax1.grid(True)\n",
    "ax1.set_xlabel(\"Iterations\")\n",
    "ax1.legend()"
   ]
  },
  {
   "cell_type": "code",
   "execution_count": 11,
   "metadata": {},
   "outputs": [],
   "source": [
    "run6 = simulation(ratio=0.15, iterations=201,seed=4795)\n",
    "run7 = simulation(ratio=0.15, iterations=201,seed=6279)\n",
    "run8 = simulation(ratio=0.15, iterations=201,seed=6130)\n",
    "run9 = simulation(ratio=0.15, iterations=201,seed=9352)\n",
    "run10 = simulation(ratio=0.15, iterations=201,seed=5059)\n",
    "\n",
    "dataframe6, values6 = run6\n",
    "dataframe7, values7 = run7\n",
    "dataframe8, values8 = run8\n",
    "dataframe9, values9 = run9\n",
    "dataframe10, values10 = run10"
   ]
  },
  {
   "cell_type": "code",
   "execution_count": 12,
   "metadata": {},
   "outputs": [
    {
     "data": {
      "text/plain": [
       "Text(0.5, 1.0, 'Theta')"
      ]
     },
     "execution_count": 12,
     "metadata": {},
     "output_type": "execute_result"
    },
    {
     "data": {
      "image/png": "[encoded data removed]",
      "text/plain": [
       "<Figure size 600x400 with 1 Axes>"
      ]
     },
     "metadata": {
      "needs_background": "light"
     },
     "output_type": "display_data"
    }
   ],
   "source": [
    "fig = plt.figure(dpi=100)\n",
    "ax2 = fig.add_subplot(1,1,1)\n",
    "ax2.plot(dataframe6[\"theta\"], label=\"6\")\n",
    "ax2.plot(dataframe7[\"theta\"], label=\"7\")\n",
    "ax2.plot(dataframe8[\"theta\"], label=\"8\")\n",
    "ax2.plot(dataframe9[\"theta\"], label=\"9\")\n",
    "ax2.plot(dataframe10[\"theta\"], label=\"10\")\n",
    "ax2.grid(True)\n",
    "ax2.legend()\n",
    "ax2.set_title(\"Theta\")"
   ]
  },
  {
   "cell_type": "code",
   "execution_count": 13,
   "metadata": {},
   "outputs": [],
   "source": [
    "from plotter import PlotterWindow"
   ]
  },
  {
   "cell_type": "code",
   "execution_count": 14,
   "metadata": {},
   "outputs": [
    {
     "name": "stderr",
     "output_type": "stream",
     "text": [
      "C:\\Users\\Corfixen\\Anaconda3\\lib\\site-packages\\matplotlib\\figure.py:98: MatplotlibDeprecationWarning: \n",
      "Adding an axes using the same arguments as a previous axes currently reuses the earlier instance.  In a future version, a new instance will always be created and returned.  Meanwhile, this warning can be suppressed, and the future behavior ensured, by passing a unique label to each axes instance.\n",
      "  \"Adding an axes using the same arguments as a previous axes \"\n"
     ]
    }
   ],
   "source": [
    "graphwindow = PlotterWindow(data = merged, slicename = \"ratio\", xvariable = \"Iteration\", yvariablelist = [\"mu\",\"ask\",\"bid\"], lineplots=True)\n",
    "graphwindow.start()"
   ]
  },
  {
   "cell_type": "code",
   "execution_count": 15,
   "metadata": {},
   "outputs": [
    {
     "data": {
      "text/html": [
       "<div>\n",
       "<style scoped>\n",
       "    .dataframe tbody tr th:only-of-type {\n",
       "        vertical-align: middle;\n",
       "    }\n",
       "\n",
       "    .dataframe tbody tr th {\n",
       "        vertical-align: top;\n",
       "    }\n",
       "\n",
       "    .dataframe thead th {\n",
       "        text-align: right;\n",
       "    }\n",
       "</style>\n",
       "<table border=\"1\" class=\"dataframe\">\n",
       "  <thead>\n",
       "    <tr style=\"text-align: right;\">\n",
       "      <th></th>\n",
       "      <th>Iteration</th>\n",
       "      <th>ratio</th>\n",
       "      <th>theta</th>\n",
       "      <th>mu</th>\n",
       "      <th>ask</th>\n",
       "      <th>bid</th>\n",
       "      <th>spread</th>\n",
       "      <th>trader</th>\n",
       "      <th>order</th>\n",
       "    </tr>\n",
       "  </thead>\n",
       "  <tbody>\n",
       "    <tr>\n",
       "      <th>0</th>\n",
       "      <td>0</td>\n",
       "      <td>0.15</td>\n",
       "      <td>0.500000</td>\n",
       "      <td>0.500000</td>\n",
       "      <td>0.575000</td>\n",
       "      <td>0.425000</td>\n",
       "      <td>0.150000</td>\n",
       "      <td>0.0</td>\n",
       "      <td>-1.0</td>\n",
       "    </tr>\n",
       "    <tr>\n",
       "      <th>1</th>\n",
       "      <td>1</td>\n",
       "      <td>0.15</td>\n",
       "      <td>0.425000</td>\n",
       "      <td>0.425000</td>\n",
       "      <td>0.500000</td>\n",
       "      <td>0.353301</td>\n",
       "      <td>0.146699</td>\n",
       "      <td>1.0</td>\n",
       "      <td>1.0</td>\n",
       "    </tr>\n",
       "    <tr>\n",
       "      <th>2</th>\n",
       "      <td>2</td>\n",
       "      <td>0.15</td>\n",
       "      <td>0.500000</td>\n",
       "      <td>0.500000</td>\n",
       "      <td>0.575000</td>\n",
       "      <td>0.425000</td>\n",
       "      <td>0.150000</td>\n",
       "      <td>0.0</td>\n",
       "      <td>-1.0</td>\n",
       "    </tr>\n",
       "    <tr>\n",
       "      <th>3</th>\n",
       "      <td>3</td>\n",
       "      <td>0.15</td>\n",
       "      <td>0.425000</td>\n",
       "      <td>0.425000</td>\n",
       "      <td>0.500000</td>\n",
       "      <td>0.353301</td>\n",
       "      <td>0.146699</td>\n",
       "      <td>1.0</td>\n",
       "      <td>1.0</td>\n",
       "    </tr>\n",
       "    <tr>\n",
       "      <th>4</th>\n",
       "      <td>4</td>\n",
       "      <td>0.15</td>\n",
       "      <td>0.500000</td>\n",
       "      <td>0.500000</td>\n",
       "      <td>0.575000</td>\n",
       "      <td>0.425000</td>\n",
       "      <td>0.150000</td>\n",
       "      <td>0.0</td>\n",
       "      <td>-1.0</td>\n",
       "    </tr>\n",
       "    <tr>\n",
       "      <th>5</th>\n",
       "      <td>5</td>\n",
       "      <td>0.15</td>\n",
       "      <td>0.425000</td>\n",
       "      <td>0.425000</td>\n",
       "      <td>0.500000</td>\n",
       "      <td>0.353301</td>\n",
       "      <td>0.146699</td>\n",
       "      <td>0.0</td>\n",
       "      <td>1.0</td>\n",
       "    </tr>\n",
       "    <tr>\n",
       "      <th>6</th>\n",
       "      <td>6</td>\n",
       "      <td>0.15</td>\n",
       "      <td>0.500000</td>\n",
       "      <td>0.500000</td>\n",
       "      <td>0.575000</td>\n",
       "      <td>0.425000</td>\n",
       "      <td>0.150000</td>\n",
       "      <td>0.0</td>\n",
       "      <td>-1.0</td>\n",
       "    </tr>\n",
       "    <tr>\n",
       "      <th>7</th>\n",
       "      <td>7</td>\n",
       "      <td>0.15</td>\n",
       "      <td>0.425000</td>\n",
       "      <td>0.425000</td>\n",
       "      <td>0.500000</td>\n",
       "      <td>0.353301</td>\n",
       "      <td>0.146699</td>\n",
       "      <td>0.0</td>\n",
       "      <td>1.0</td>\n",
       "    </tr>\n",
       "    <tr>\n",
       "      <th>8</th>\n",
       "      <td>8</td>\n",
       "      <td>0.15</td>\n",
       "      <td>0.500000</td>\n",
       "      <td>0.500000</td>\n",
       "      <td>0.575000</td>\n",
       "      <td>0.425000</td>\n",
       "      <td>0.150000</td>\n",
       "      <td>0.0</td>\n",
       "      <td>1.0</td>\n",
       "    </tr>\n",
       "    <tr>\n",
       "      <th>9</th>\n",
       "      <td>9</td>\n",
       "      <td>0.15</td>\n",
       "      <td>0.575000</td>\n",
       "      <td>0.575000</td>\n",
       "      <td>0.646699</td>\n",
       "      <td>0.500000</td>\n",
       "      <td>0.146699</td>\n",
       "      <td>0.0</td>\n",
       "      <td>1.0</td>\n",
       "    </tr>\n",
       "    <tr>\n",
       "      <th>10</th>\n",
       "      <td>10</td>\n",
       "      <td>0.15</td>\n",
       "      <td>0.646699</td>\n",
       "      <td>0.646699</td>\n",
       "      <td>0.712354</td>\n",
       "      <td>0.575000</td>\n",
       "      <td>0.137354</td>\n",
       "      <td>0.0</td>\n",
       "      <td>1.0</td>\n",
       "    </tr>\n",
       "    <tr>\n",
       "      <th>11</th>\n",
       "      <td>11</td>\n",
       "      <td>0.15</td>\n",
       "      <td>0.712354</td>\n",
       "      <td>0.712354</td>\n",
       "      <td>0.770144</td>\n",
       "      <td>0.646699</td>\n",
       "      <td>0.123445</td>\n",
       "      <td>0.0</td>\n",
       "      <td>1.0</td>\n",
       "    </tr>\n",
       "    <tr>\n",
       "      <th>12</th>\n",
       "      <td>12</td>\n",
       "      <td>0.15</td>\n",
       "      <td>0.770144</td>\n",
       "      <td>0.770144</td>\n",
       "      <td>0.819269</td>\n",
       "      <td>0.712354</td>\n",
       "      <td>0.106916</td>\n",
       "      <td>1.0</td>\n",
       "      <td>1.0</td>\n",
       "    </tr>\n",
       "    <tr>\n",
       "      <th>13</th>\n",
       "      <td>13</td>\n",
       "      <td>0.15</td>\n",
       "      <td>0.819269</td>\n",
       "      <td>0.819269</td>\n",
       "      <td>0.859807</td>\n",
       "      <td>0.770144</td>\n",
       "      <td>0.089663</td>\n",
       "      <td>0.0</td>\n",
       "      <td>-1.0</td>\n",
       "    </tr>\n",
       "    <tr>\n",
       "      <th>14</th>\n",
       "      <td>14</td>\n",
       "      <td>0.15</td>\n",
       "      <td>0.770144</td>\n",
       "      <td>0.770144</td>\n",
       "      <td>0.819269</td>\n",
       "      <td>0.712354</td>\n",
       "      <td>0.106916</td>\n",
       "      <td>0.0</td>\n",
       "      <td>-1.0</td>\n",
       "    </tr>\n",
       "    <tr>\n",
       "      <th>15</th>\n",
       "      <td>15</td>\n",
       "      <td>0.15</td>\n",
       "      <td>0.712354</td>\n",
       "      <td>0.712354</td>\n",
       "      <td>0.770144</td>\n",
       "      <td>0.646699</td>\n",
       "      <td>0.123445</td>\n",
       "      <td>0.0</td>\n",
       "      <td>1.0</td>\n",
       "    </tr>\n",
       "    <tr>\n",
       "      <th>16</th>\n",
       "      <td>16</td>\n",
       "      <td>0.15</td>\n",
       "      <td>0.770144</td>\n",
       "      <td>0.770144</td>\n",
       "      <td>0.819269</td>\n",
       "      <td>0.712354</td>\n",
       "      <td>0.106916</td>\n",
       "      <td>0.0</td>\n",
       "      <td>1.0</td>\n",
       "    </tr>\n",
       "    <tr>\n",
       "      <th>17</th>\n",
       "      <td>17</td>\n",
       "      <td>0.15</td>\n",
       "      <td>0.819269</td>\n",
       "      <td>0.819269</td>\n",
       "      <td>0.859807</td>\n",
       "      <td>0.770144</td>\n",
       "      <td>0.089663</td>\n",
       "      <td>0.0</td>\n",
       "      <td>1.0</td>\n",
       "    </tr>\n",
       "    <tr>\n",
       "      <th>18</th>\n",
       "      <td>18</td>\n",
       "      <td>0.15</td>\n",
       "      <td>0.859807</td>\n",
       "      <td>0.859807</td>\n",
       "      <td>0.892445</td>\n",
       "      <td>0.819269</td>\n",
       "      <td>0.073176</td>\n",
       "      <td>0.0</td>\n",
       "      <td>1.0</td>\n",
       "    </tr>\n",
       "    <tr>\n",
       "      <th>19</th>\n",
       "      <td>19</td>\n",
       "      <td>0.15</td>\n",
       "      <td>0.892445</td>\n",
       "      <td>0.892445</td>\n",
       "      <td>0.918208</td>\n",
       "      <td>0.859807</td>\n",
       "      <td>0.058402</td>\n",
       "      <td>0.0</td>\n",
       "      <td>1.0</td>\n",
       "    </tr>\n",
       "  </tbody>\n",
       "</table>\n",
       "</div>"
      ],
      "text/plain": [
       "    Iteration ratio     theta        mu       ask       bid    spread  trader  \\\n",
       "0           0  0.15  0.500000  0.500000  0.575000  0.425000  0.150000     0.0   \n",
       "1           1  0.15  0.425000  0.425000  0.500000  0.353301  0.146699     1.0   \n",
       "2           2  0.15  0.500000  0.500000  0.575000  0.425000  0.150000     0.0   \n",
       "3           3  0.15  0.425000  0.425000  0.500000  0.353301  0.146699     1.0   \n",
       "4           4  0.15  0.500000  0.500000  0.575000  0.425000  0.150000     0.0   \n",
       "5           5  0.15  0.425000  0.425000  0.500000  0.353301  0.146699     0.0   \n",
       "6           6  0.15  0.500000  0.500000  0.575000  0.425000  0.150000     0.0   \n",
       "7           7  0.15  0.425000  0.425000  0.500000  0.353301  0.146699     0.0   \n",
       "8           8  0.15  0.500000  0.500000  0.575000  0.425000  0.150000     0.0   \n",
       "9           9  0.15  0.575000  0.575000  0.646699  0.500000  0.146699     0.0   \n",
       "10         10  0.15  0.646699  0.646699  0.712354  0.575000  0.137354     0.0   \n",
       "11         11  0.15  0.712354  0.712354  0.770144  0.646699  0.123445     0.0   \n",
       "12         12  0.15  0.770144  0.770144  0.819269  0.712354  0.106916     1.0   \n",
       "13         13  0.15  0.819269  0.819269  0.859807  0.770144  0.089663     0.0   \n",
       "14         14  0.15  0.770144  0.770144  0.819269  0.712354  0.106916     0.0   \n",
       "15         15  0.15  0.712354  0.712354  0.770144  0.646699  0.123445     0.0   \n",
       "16         16  0.15  0.770144  0.770144  0.819269  0.712354  0.106916     0.0   \n",
       "17         17  0.15  0.819269  0.819269  0.859807  0.770144  0.089663     0.0   \n",
       "18         18  0.15  0.859807  0.859807  0.892445  0.819269  0.073176     0.0   \n",
       "19         19  0.15  0.892445  0.892445  0.918208  0.859807  0.058402     0.0   \n",
       "\n",
       "    order  \n",
       "0    -1.0  \n",
       "1     1.0  \n",
       "2    -1.0  \n",
       "3     1.0  \n",
       "4    -1.0  \n",
       "5     1.0  \n",
       "6    -1.0  \n",
       "7     1.0  \n",
       "8     1.0  \n",
       "9     1.0  \n",
       "10    1.0  \n",
       "11    1.0  \n",
       "12    1.0  \n",
       "13   -1.0  \n",
       "14   -1.0  \n",
       "15    1.0  \n",
       "16    1.0  \n",
       "17    1.0  \n",
       "18    1.0  \n",
       "19    1.0  "
      ]
     },
     "execution_count": 15,
     "metadata": {},
     "output_type": "execute_result"
    }
   ],
   "source": [
    "merged.head(20)"
   ]
  },
  {
   "cell_type": "code",
   "execution_count": 16,
   "metadata": {},
   "outputs": [],
   "source": [
    "from mpl_finance import candlestick_ochl"
   ]
  },
  {
   "cell_type": "code",
   "execution_count": 16,
   "metadata": {},
   "outputs": [
    {
     "data": {
      "image/png": "[encoded data removed]",
      "text/latex": [
       "$$\\mu_{t}$$"
      ],
      "text/plain": [
       "μₜ"
      ]
     },
     "execution_count": 16,
     "metadata": {},
     "output_type": "execute_result"
    }
   ],
   "source": [
    "mu_t"
   ]
  },
  {
   "cell_type": "code",
   "execution_count": 17,
   "metadata": {},
   "outputs": [
    {
     "data": {
      "text/plain": [
       "([<matplotlib.lines.Line2D at 0x1a9b5833208>,\n",
       "  <matplotlib.lines.Line2D at 0x1a9b5833898>,\n",
       "  <matplotlib.lines.Line2D at 0x1a9b5833f28>,\n",
       "  <matplotlib.lines.Line2D at 0x1a9b583e5f8>,\n",
       "  <matplotlib.lines.Line2D at 0x1a9b583ec88>,\n",
       "  <matplotlib.lines.Line2D at 0x1a9b5808358>,\n",
       "  <matplotlib.lines.Line2D at 0x1a9b58089e8>,\n",
       "  <matplotlib.lines.Line2D at 0x1a9b5808eb8>,\n",
       "  <matplotlib.lines.Line2D at 0x1a9b584f748>,\n",
       "  <matplotlib.lines.Line2D at 0x1a9b584fdd8>,\n",
       "  <matplotlib.lines.Line2D at 0x1a9b58574a8>,\n",
       "  <matplotlib.lines.Line2D at 0x1a9b5857b38>,\n",
       "  <matplotlib.lines.Line2D at 0x1a9b5857fd0>,\n",
       "  <matplotlib.lines.Line2D at 0x1a9b5861898>,\n",
       "  <matplotlib.lines.Line2D at 0x1a9b5861f28>,\n",
       "  <matplotlib.lines.Line2D at 0x1a9b586a5f8>,\n",
       "  <matplotlib.lines.Line2D at 0x1a9b586ac88>,\n",
       "  <matplotlib.lines.Line2D at 0x1a9b5873358>,\n",
       "  <matplotlib.lines.Line2D at 0x1a9b58739e8>,\n",
       "  <matplotlib.lines.Line2D at 0x1a9b5873eb8>,\n",
       "  <matplotlib.lines.Line2D at 0x1a9b587c748>,\n",
       "  <matplotlib.lines.Line2D at 0x1a9b587cdd8>,\n",
       "  <matplotlib.lines.Line2D at 0x1a9b58874a8>,\n",
       "  <matplotlib.lines.Line2D at 0x1a9b5887b38>,\n",
       "  <matplotlib.lines.Line2D at 0x1a9b5887fd0>,\n",
       "  <matplotlib.lines.Line2D at 0x1a9b5890898>,\n",
       "  <matplotlib.lines.Line2D at 0x1a9b5890f60>,\n",
       "  <matplotlib.lines.Line2D at 0x1a9b589a630>,\n",
       "  <matplotlib.lines.Line2D at 0x1a9b589acc0>,\n",
       "  <matplotlib.lines.Line2D at 0x1a9b58a2390>,\n",
       "  <matplotlib.lines.Line2D at 0x1a9b58a2a20>,\n",
       "  <matplotlib.lines.Line2D at 0x1a9b58a2ef0>,\n",
       "  <matplotlib.lines.Line2D at 0x1a9b58ab780>,\n",
       "  <matplotlib.lines.Line2D at 0x1a9b58abe10>,\n",
       "  <matplotlib.lines.Line2D at 0x1a9b58b54e0>,\n",
       "  <matplotlib.lines.Line2D at 0x1a9b58b5b70>,\n",
       "  <matplotlib.lines.Line2D at 0x1a9b58be240>,\n",
       "  <matplotlib.lines.Line2D at 0x1a9b58be8d0>,\n",
       "  <matplotlib.lines.Line2D at 0x1a9b58bef60>,\n",
       "  <matplotlib.lines.Line2D at 0x1a9b58c9630>,\n",
       "  <matplotlib.lines.Line2D at 0x1a9b58c9cc0>,\n",
       "  <matplotlib.lines.Line2D at 0x1a9b58d4390>,\n",
       "  <matplotlib.lines.Line2D at 0x1a9b58d4a20>,\n",
       "  <matplotlib.lines.Line2D at 0x1a9b58d4ef0>,\n",
       "  <matplotlib.lines.Line2D at 0x1a9b58de780>,\n",
       "  <matplotlib.lines.Line2D at 0x1a9b58dee10>,\n",
       "  <matplotlib.lines.Line2D at 0x1a9b58e84e0>,\n",
       "  <matplotlib.lines.Line2D at 0x1a9b58e8b70>,\n",
       "  <matplotlib.lines.Line2D at 0x1a9b58f2240>,\n",
       "  <matplotlib.lines.Line2D at 0x1a9b58f28d0>,\n",
       "  <matplotlib.lines.Line2D at 0x1a9b58f2f60>,\n",
       "  <matplotlib.lines.Line2D at 0x1a9b58fb630>,\n",
       "  <matplotlib.lines.Line2D at 0x1a9b58fbcc0>,\n",
       "  <matplotlib.lines.Line2D at 0x1a9b5906390>,\n",
       "  <matplotlib.lines.Line2D at 0x1a9b5906a20>,\n",
       "  <matplotlib.lines.Line2D at 0x1a9b5906ef0>,\n",
       "  <matplotlib.lines.Line2D at 0x1a9b590f780>,\n",
       "  <matplotlib.lines.Line2D at 0x1a9b590fe10>,\n",
       "  <matplotlib.lines.Line2D at 0x1a9b59194e0>,\n",
       "  <matplotlib.lines.Line2D at 0x1a9b5919b70>,\n",
       "  <matplotlib.lines.Line2D at 0x1a9b5921240>,\n",
       "  <matplotlib.lines.Line2D at 0x1a9b59218d0>,\n",
       "  <matplotlib.lines.Line2D at 0x1a9b5921f60>,\n",
       "  <matplotlib.lines.Line2D at 0x1a9b592c630>,\n",
       "  <matplotlib.lines.Line2D at 0x1a9b592ccc0>,\n",
       "  <matplotlib.lines.Line2D at 0x1a9b5936390>,\n",
       "  <matplotlib.lines.Line2D at 0x1a9b5936a20>,\n",
       "  <matplotlib.lines.Line2D at 0x1a9b5936ef0>,\n",
       "  <matplotlib.lines.Line2D at 0x1a9b593f780>,\n",
       "  <matplotlib.lines.Line2D at 0x1a9b593fe10>,\n",
       "  <matplotlib.lines.Line2D at 0x1a9b59494e0>,\n",
       "  <matplotlib.lines.Line2D at 0x1a9b5949b70>,\n",
       "  <matplotlib.lines.Line2D at 0x1a9b5953240>,\n",
       "  <matplotlib.lines.Line2D at 0x1a9b59538d0>,\n",
       "  <matplotlib.lines.Line2D at 0x1a9b5953f60>,\n",
       "  <matplotlib.lines.Line2D at 0x1a9b595b630>,\n",
       "  <matplotlib.lines.Line2D at 0x1a9b595bcc0>,\n",
       "  <matplotlib.lines.Line2D at 0x1a9b5966390>,\n",
       "  <matplotlib.lines.Line2D at 0x1a9b5966a20>,\n",
       "  <matplotlib.lines.Line2D at 0x1a9b5966ef0>,\n",
       "  <matplotlib.lines.Line2D at 0x1a9b5971780>,\n",
       "  <matplotlib.lines.Line2D at 0x1a9b5971e10>,\n",
       "  <matplotlib.lines.Line2D at 0x1a9b597b4e0>,\n",
       "  <matplotlib.lines.Line2D at 0x1a9b597bb70>,\n",
       "  <matplotlib.lines.Line2D at 0x1a9b5984240>,\n",
       "  <matplotlib.lines.Line2D at 0x1a9b59848d0>,\n",
       "  <matplotlib.lines.Line2D at 0x1a9b5984f60>,\n",
       "  <matplotlib.lines.Line2D at 0x1a9b598f630>,\n",
       "  <matplotlib.lines.Line2D at 0x1a9b598fcc0>,\n",
       "  <matplotlib.lines.Line2D at 0x1a9b5999390>,\n",
       "  <matplotlib.lines.Line2D at 0x1a9b5999a20>,\n",
       "  <matplotlib.lines.Line2D at 0x1a9b5999ef0>,\n",
       "  <matplotlib.lines.Line2D at 0x1a9b59a2780>,\n",
       "  <matplotlib.lines.Line2D at 0x1a9b59a2e10>,\n",
       "  <matplotlib.lines.Line2D at 0x1a9b59ab4e0>,\n",
       "  <matplotlib.lines.Line2D at 0x1a9b59abb70>,\n",
       "  <matplotlib.lines.Line2D at 0x1a9b59b5240>,\n",
       "  <matplotlib.lines.Line2D at 0x1a9b59b58d0>,\n",
       "  <matplotlib.lines.Line2D at 0x1a9b59b5f60>,\n",
       "  <matplotlib.lines.Line2D at 0x1a9b59c1630>,\n",
       "  <matplotlib.lines.Line2D at 0x1a9b59c1cc0>,\n",
       "  <matplotlib.lines.Line2D at 0x1a9b59ca358>,\n",
       "  <matplotlib.lines.Line2D at 0x1a9b59ca9b0>,\n",
       "  <matplotlib.lines.Line2D at 0x1a9b59cafd0>,\n",
       "  <matplotlib.lines.Line2D at 0x1a9b59d66a0>,\n",
       "  <matplotlib.lines.Line2D at 0x1a9b59d6cf8>,\n",
       "  <matplotlib.lines.Line2D at 0x1a9b59de390>,\n",
       "  <matplotlib.lines.Line2D at 0x1a9b59de9e8>,\n",
       "  <matplotlib.lines.Line2D at 0x1a9b59deeb8>,\n",
       "  <matplotlib.lines.Line2D at 0x1a9b59e96d8>,\n",
       "  <matplotlib.lines.Line2D at 0x1a9b59e9d30>,\n",
       "  <matplotlib.lines.Line2D at 0x1a9b59f43c8>,\n",
       "  <matplotlib.lines.Line2D at 0x1a9b59f4a20>,\n",
       "  <matplotlib.lines.Line2D at 0x1a9b59f4ef0>,\n",
       "  <matplotlib.lines.Line2D at 0x1a9b59fd710>,\n",
       "  <matplotlib.lines.Line2D at 0x1a9b59fdd68>,\n",
       "  <matplotlib.lines.Line2D at 0x1a9b5a09400>,\n",
       "  <matplotlib.lines.Line2D at 0x1a9b5a09a58>,\n",
       "  <matplotlib.lines.Line2D at 0x1a9b5a09f28>,\n",
       "  <matplotlib.lines.Line2D at 0x1a9b5a12748>,\n",
       "  <matplotlib.lines.Line2D at 0x1a9b5a12da0>,\n",
       "  <matplotlib.lines.Line2D at 0x1a9b5a1c438>,\n",
       "  <matplotlib.lines.Line2D at 0x1a9b5a1ca90>,\n",
       "  <matplotlib.lines.Line2D at 0x1a9b5a1cf60>,\n",
       "  <matplotlib.lines.Line2D at 0x1a9b5a28780>,\n",
       "  <matplotlib.lines.Line2D at 0x1a9b5a28dd8>,\n",
       "  <matplotlib.lines.Line2D at 0x1a9b5a32470>,\n",
       "  <matplotlib.lines.Line2D at 0x1a9b5a32ac8>,\n",
       "  <matplotlib.lines.Line2D at 0x1a9b5a32f98>,\n",
       "  <matplotlib.lines.Line2D at 0x1a9b5a3d7b8>,\n",
       "  <matplotlib.lines.Line2D at 0x1a9b5a3de10>,\n",
       "  <matplotlib.lines.Line2D at 0x1a9b5a474a8>,\n",
       "  <matplotlib.lines.Line2D at 0x1a9b5a47b00>,\n",
       "  <matplotlib.lines.Line2D at 0x1a9b5a47fd0>,\n",
       "  <matplotlib.lines.Line2D at 0x1a9b5a527f0>,\n",
       "  <matplotlib.lines.Line2D at 0x1a9b5a52e48>,\n",
       "  <matplotlib.lines.Line2D at 0x1a9b5a5b4e0>,\n",
       "  <matplotlib.lines.Line2D at 0x1a9b5a5bb38>,\n",
       "  <matplotlib.lines.Line2D at 0x1a9b5a5bfd0>,\n",
       "  <matplotlib.lines.Line2D at 0x1a9b5a66828>,\n",
       "  <matplotlib.lines.Line2D at 0x1a9b5a66e80>,\n",
       "  <matplotlib.lines.Line2D at 0x1a9b5a70518>,\n",
       "  <matplotlib.lines.Line2D at 0x1a9b5a70b70>],\n",
       " [<matplotlib.patches.Rectangle at 0x1a9b5833390>,\n",
       "  <matplotlib.patches.Rectangle at 0x1a9b5833a58>,\n",
       "  <matplotlib.patches.Rectangle at 0x1a9b583e128>,\n",
       "  <matplotlib.patches.Rectangle at 0x1a9b583e7b8>,\n",
       "  <matplotlib.patches.Rectangle at 0x1a9b583ee48>,\n",
       "  <matplotlib.patches.Rectangle at 0x1a9b5808518>,\n",
       "  <matplotlib.patches.Rectangle at 0x1a9b5808ba8>,\n",
       "  <matplotlib.patches.Rectangle at 0x1a9b584f278>,\n",
       "  <matplotlib.patches.Rectangle at 0x1a9b584f908>,\n",
       "  <matplotlib.patches.Rectangle at 0x1a9b584ff98>,\n",
       "  <matplotlib.patches.Rectangle at 0x1a9b5857668>,\n",
       "  <matplotlib.patches.Rectangle at 0x1a9b5857cf8>,\n",
       "  <matplotlib.patches.Rectangle at 0x1a9b58613c8>,\n",
       "  <matplotlib.patches.Rectangle at 0x1a9b5861a58>,\n",
       "  <matplotlib.patches.Rectangle at 0x1a9b586a128>,\n",
       "  <matplotlib.patches.Rectangle at 0x1a9b586a7b8>,\n",
       "  <matplotlib.patches.Rectangle at 0x1a9b586ae48>,\n",
       "  <matplotlib.patches.Rectangle at 0x1a9b5873518>,\n",
       "  <matplotlib.patches.Rectangle at 0x1a9b5873ba8>,\n",
       "  <matplotlib.patches.Rectangle at 0x1a9b587c278>,\n",
       "  <matplotlib.patches.Rectangle at 0x1a9b587c908>,\n",
       "  <matplotlib.patches.Rectangle at 0x1a9b587cf98>,\n",
       "  <matplotlib.patches.Rectangle at 0x1a9b5887668>,\n",
       "  <matplotlib.patches.Rectangle at 0x1a9b5887cf8>,\n",
       "  <matplotlib.patches.Rectangle at 0x1a9b58903c8>,\n",
       "  <matplotlib.patches.Rectangle at 0x1a9b5890a90>,\n",
       "  <matplotlib.patches.Rectangle at 0x1a9b589a160>,\n",
       "  <matplotlib.patches.Rectangle at 0x1a9b589a7f0>,\n",
       "  <matplotlib.patches.Rectangle at 0x1a9b589ae80>,\n",
       "  <matplotlib.patches.Rectangle at 0x1a9b58a2550>,\n",
       "  <matplotlib.patches.Rectangle at 0x1a9b58a2be0>,\n",
       "  <matplotlib.patches.Rectangle at 0x1a9b58ab2b0>,\n",
       "  <matplotlib.patches.Rectangle at 0x1a9b58ab940>,\n",
       "  <matplotlib.patches.Rectangle at 0x1a9b58abfd0>,\n",
       "  <matplotlib.patches.Rectangle at 0x1a9b58b56a0>,\n",
       "  <matplotlib.patches.Rectangle at 0x1a9b58b5d30>,\n",
       "  <matplotlib.patches.Rectangle at 0x1a9b58be400>,\n",
       "  <matplotlib.patches.Rectangle at 0x1a9b58bea90>,\n",
       "  <matplotlib.patches.Rectangle at 0x1a9b58c9160>,\n",
       "  <matplotlib.patches.Rectangle at 0x1a9b58c97f0>,\n",
       "  <matplotlib.patches.Rectangle at 0x1a9b58c9e80>,\n",
       "  <matplotlib.patches.Rectangle at 0x1a9b58d4550>,\n",
       "  <matplotlib.patches.Rectangle at 0x1a9b58d4be0>,\n",
       "  <matplotlib.patches.Rectangle at 0x1a9b58de2b0>,\n",
       "  <matplotlib.patches.Rectangle at 0x1a9b58de940>,\n",
       "  <matplotlib.patches.Rectangle at 0x1a9b58defd0>,\n",
       "  <matplotlib.patches.Rectangle at 0x1a9b58e86a0>,\n",
       "  <matplotlib.patches.Rectangle at 0x1a9b58e8d30>,\n",
       "  <matplotlib.patches.Rectangle at 0x1a9b58f2400>,\n",
       "  <matplotlib.patches.Rectangle at 0x1a9b58f2a90>,\n",
       "  <matplotlib.patches.Rectangle at 0x1a9b58fb160>,\n",
       "  <matplotlib.patches.Rectangle at 0x1a9b58fb7f0>,\n",
       "  <matplotlib.patches.Rectangle at 0x1a9b58fbe80>,\n",
       "  <matplotlib.patches.Rectangle at 0x1a9b5906550>,\n",
       "  <matplotlib.patches.Rectangle at 0x1a9b5906be0>,\n",
       "  <matplotlib.patches.Rectangle at 0x1a9b590f2b0>,\n",
       "  <matplotlib.patches.Rectangle at 0x1a9b590f940>,\n",
       "  <matplotlib.patches.Rectangle at 0x1a9b590ffd0>,\n",
       "  <matplotlib.patches.Rectangle at 0x1a9b59196a0>,\n",
       "  <matplotlib.patches.Rectangle at 0x1a9b5919d30>,\n",
       "  <matplotlib.patches.Rectangle at 0x1a9b5921400>,\n",
       "  <matplotlib.patches.Rectangle at 0x1a9b5921a90>,\n",
       "  <matplotlib.patches.Rectangle at 0x1a9b592c160>,\n",
       "  <matplotlib.patches.Rectangle at 0x1a9b592c7f0>,\n",
       "  <matplotlib.patches.Rectangle at 0x1a9b592ce80>,\n",
       "  <matplotlib.patches.Rectangle at 0x1a9b5936550>,\n",
       "  <matplotlib.patches.Rectangle at 0x1a9b5936be0>,\n",
       "  <matplotlib.patches.Rectangle at 0x1a9b593f2b0>,\n",
       "  <matplotlib.patches.Rectangle at 0x1a9b593f940>,\n",
       "  <matplotlib.patches.Rectangle at 0x1a9b593ffd0>,\n",
       "  <matplotlib.patches.Rectangle at 0x1a9b59496a0>,\n",
       "  <matplotlib.patches.Rectangle at 0x1a9b5949d30>,\n",
       "  <matplotlib.patches.Rectangle at 0x1a9b5953400>,\n",
       "  <matplotlib.patches.Rectangle at 0x1a9b5953a90>,\n",
       "  <matplotlib.patches.Rectangle at 0x1a9b595b160>,\n",
       "  <matplotlib.patches.Rectangle at 0x1a9b595b7f0>,\n",
       "  <matplotlib.patches.Rectangle at 0x1a9b595be80>,\n",
       "  <matplotlib.patches.Rectangle at 0x1a9b5966550>,\n",
       "  <matplotlib.patches.Rectangle at 0x1a9b5966be0>,\n",
       "  <matplotlib.patches.Rectangle at 0x1a9b59712b0>,\n",
       "  <matplotlib.patches.Rectangle at 0x1a9b5971940>,\n",
       "  <matplotlib.patches.Rectangle at 0x1a9b5971fd0>,\n",
       "  <matplotlib.patches.Rectangle at 0x1a9b597b6a0>,\n",
       "  <matplotlib.patches.Rectangle at 0x1a9b597bd30>,\n",
       "  <matplotlib.patches.Rectangle at 0x1a9b5984400>,\n",
       "  <matplotlib.patches.Rectangle at 0x1a9b5984a90>,\n",
       "  <matplotlib.patches.Rectangle at 0x1a9b598f160>,\n",
       "  <matplotlib.patches.Rectangle at 0x1a9b598f7f0>,\n",
       "  <matplotlib.patches.Rectangle at 0x1a9b598fe80>,\n",
       "  <matplotlib.patches.Rectangle at 0x1a9b5999550>,\n",
       "  <matplotlib.patches.Rectangle at 0x1a9b5999be0>,\n",
       "  <matplotlib.patches.Rectangle at 0x1a9b59a22b0>,\n",
       "  <matplotlib.patches.Rectangle at 0x1a9b59a2940>,\n",
       "  <matplotlib.patches.Rectangle at 0x1a9b59a2fd0>,\n",
       "  <matplotlib.patches.Rectangle at 0x1a9b59ab6a0>,\n",
       "  <matplotlib.patches.Rectangle at 0x1a9b59abd30>,\n",
       "  <matplotlib.patches.Rectangle at 0x1a9b59b5400>,\n",
       "  <matplotlib.patches.Rectangle at 0x1a9b59b5a90>,\n",
       "  <matplotlib.patches.Rectangle at 0x1a9b59c1160>,\n",
       "  <matplotlib.patches.Rectangle at 0x1a9b59c17f0>,\n",
       "  <matplotlib.patches.Rectangle at 0x1a9b59c1e80>,\n",
       "  <matplotlib.patches.Rectangle at 0x1a9b59ca518>,\n",
       "  <matplotlib.patches.Rectangle at 0x1a9b59cab70>,\n",
       "  <matplotlib.patches.Rectangle at 0x1a9b59d6208>,\n",
       "  <matplotlib.patches.Rectangle at 0x1a9b59d6860>,\n",
       "  <matplotlib.patches.Rectangle at 0x1a9b59d6eb8>,\n",
       "  <matplotlib.patches.Rectangle at 0x1a9b59de550>,\n",
       "  <matplotlib.patches.Rectangle at 0x1a9b59deba8>,\n",
       "  <matplotlib.patches.Rectangle at 0x1a9b59e9240>,\n",
       "  <matplotlib.patches.Rectangle at 0x1a9b59e9898>,\n",
       "  <matplotlib.patches.Rectangle at 0x1a9b59e9ef0>,\n",
       "  <matplotlib.patches.Rectangle at 0x1a9b59f4588>,\n",
       "  <matplotlib.patches.Rectangle at 0x1a9b59f4be0>,\n",
       "  <matplotlib.patches.Rectangle at 0x1a9b59fd278>,\n",
       "  <matplotlib.patches.Rectangle at 0x1a9b59fd8d0>,\n",
       "  <matplotlib.patches.Rectangle at 0x1a9b59fdf28>,\n",
       "  <matplotlib.patches.Rectangle at 0x1a9b5a095c0>,\n",
       "  <matplotlib.patches.Rectangle at 0x1a9b5a09c18>,\n",
       "  <matplotlib.patches.Rectangle at 0x1a9b5a122b0>,\n",
       "  <matplotlib.patches.Rectangle at 0x1a9b5a12908>,\n",
       "  <matplotlib.patches.Rectangle at 0x1a9b5a12f60>,\n",
       "  <matplotlib.patches.Rectangle at 0x1a9b5a1c5f8>,\n",
       "  <matplotlib.patches.Rectangle at 0x1a9b5a1cc50>,\n",
       "  <matplotlib.patches.Rectangle at 0x1a9b5a282e8>,\n",
       "  <matplotlib.patches.Rectangle at 0x1a9b5a28940>,\n",
       "  <matplotlib.patches.Rectangle at 0x1a9b5a28f98>,\n",
       "  <matplotlib.patches.Rectangle at 0x1a9b5a32630>,\n",
       "  <matplotlib.patches.Rectangle at 0x1a9b5a32c88>,\n",
       "  <matplotlib.patches.Rectangle at 0x1a9b5a3d320>,\n",
       "  <matplotlib.patches.Rectangle at 0x1a9b5a3d978>,\n",
       "  <matplotlib.patches.Rectangle at 0x1a9b5a3dfd0>,\n",
       "  <matplotlib.patches.Rectangle at 0x1a9b5a47668>,\n",
       "  <matplotlib.patches.Rectangle at 0x1a9b5a47cc0>,\n",
       "  <matplotlib.patches.Rectangle at 0x1a9b5a52358>,\n",
       "  <matplotlib.patches.Rectangle at 0x1a9b5a529b0>,\n",
       "  <matplotlib.patches.Rectangle at 0x1a9b5a5b048>,\n",
       "  <matplotlib.patches.Rectangle at 0x1a9b5a5b6a0>,\n",
       "  <matplotlib.patches.Rectangle at 0x1a9b5a5bcf8>,\n",
       "  <matplotlib.patches.Rectangle at 0x1a9b5a66390>,\n",
       "  <matplotlib.patches.Rectangle at 0x1a9b5a669e8>,\n",
       "  <matplotlib.patches.Rectangle at 0x1a9b5a70080>,\n",
       "  <matplotlib.patches.Rectangle at 0x1a9b5a706d8>,\n",
       "  <matplotlib.patches.Rectangle at 0x1a9b5a70d30>])"
      ]
     },
     "execution_count": 17,
     "metadata": {},
     "output_type": "execute_result"
    },
    {
     "data": {
      "image/png": "[encoded data removed]",
      "text/plain": [
       "<Figure size 600x400 with 1 Axes>"
      ]
     },
     "metadata": {
      "needs_background": "light"
     },
     "output_type": "display_data"
    }
   ],
   "source": [
    "fig = plt.figure(dpi=100)\n",
    "ax = fig.add_subplot(1,1,1)\n",
    "\n",
    "lower = 0\n",
    "upper = len(list(dataframe1[\"bid\"]))\n",
    "ochl = []\n",
    "\n",
    "iteration = list(dataframe1[\"Iteration\"])\n",
    "bid = list(dataframe1[\"bid\"])\n",
    "ask = list(dataframe1[\"ask\"])\n",
    "\n",
    "for lower in range(upper):\n",
    "    append = iteration[lower], bid[lower], ask[lower], ask[lower], bid[lower]\n",
    "    ochl.append(append)\n",
    "candlestick_ochl(ax, ochl, colorup=\"g\",colordown=\"r\")                                                "
   ]
  },
  {
   "cell_type": "code",
   "execution_count": 18,
   "metadata": {},
   "outputs": [
    {
     "data": {
      "text/plain": [
       "([<matplotlib.lines.Line2D at 0x1a9b49d3f60>,\n",
       "  <matplotlib.lines.Line2D at 0x1a9b59b54e0>,\n",
       "  <matplotlib.lines.Line2D at 0x1a9b5a09b00>,\n",
       "  <matplotlib.lines.Line2D at 0x1a9b5a52a90>,\n",
       "  <matplotlib.lines.Line2D at 0x1a9b59a2198>,\n",
       "  <matplotlib.lines.Line2D at 0x1a9b5807278>,\n",
       "  <matplotlib.lines.Line2D at 0x1a9b57c6160>,\n",
       "  <matplotlib.lines.Line2D at 0x1a9b57c6940>,\n",
       "  <matplotlib.lines.Line2D at 0x1a9b57cbeb8>,\n",
       "  <matplotlib.lines.Line2D at 0x1a9b5a1c518>,\n",
       "  <matplotlib.lines.Line2D at 0x1a9b4cfdbe0>,\n",
       "  <matplotlib.lines.Line2D at 0x1a9b4d486d8>,\n",
       "  <matplotlib.lines.Line2D at 0x1a9b4d484a8>,\n",
       "  <matplotlib.lines.Line2D at 0x1a9b4d41470>,\n",
       "  <matplotlib.lines.Line2D at 0x1a9b4d41048>,\n",
       "  <matplotlib.lines.Line2D at 0x1a9b4cc01d0>,\n",
       "  <matplotlib.lines.Line2D at 0x1a9b4cc0710>,\n",
       "  <matplotlib.lines.Line2D at 0x1a9b4a59ef0>,\n",
       "  <matplotlib.lines.Line2D at 0x1a9b4a59dd8>,\n",
       "  <matplotlib.lines.Line2D at 0x1a9b4987668>,\n",
       "  <matplotlib.lines.Line2D at 0x1a9b4d2a668>,\n",
       "  <matplotlib.lines.Line2D at 0x1a9b4d2a7b8>,\n",
       "  <matplotlib.lines.Line2D at 0x1a9b4d19eb8>,\n",
       "  <matplotlib.lines.Line2D at 0x1a9b4d19390>,\n",
       "  <matplotlib.lines.Line2D at 0x1a9b4d7fc18>,\n",
       "  <matplotlib.lines.Line2D at 0x1a9b4d8af98>,\n",
       "  <matplotlib.lines.Line2D at 0x1a9b4a17198>,\n",
       "  <matplotlib.lines.Line2D at 0x1a9b4a17908>,\n",
       "  <matplotlib.lines.Line2D at 0x1a9af69ef28>,\n",
       "  <matplotlib.lines.Line2D at 0x1a9b4961c50>,\n",
       "  <matplotlib.lines.Line2D at 0x1a9b493aa58>,\n",
       "  <matplotlib.lines.Line2D at 0x1a9b49e0d30>,\n",
       "  <matplotlib.lines.Line2D at 0x1a9b49e0358>,\n",
       "  <matplotlib.lines.Line2D at 0x1a9b4973668>,\n",
       "  <matplotlib.lines.Line2D at 0x1a9b49732e8>,\n",
       "  <matplotlib.lines.Line2D at 0x1a9b4952588>,\n",
       "  <matplotlib.lines.Line2D at 0x1a9b4952668>,\n",
       "  <matplotlib.lines.Line2D at 0x1a9b490f6d8>,\n",
       "  <matplotlib.lines.Line2D at 0x1a9afab36d8>,\n",
       "  <matplotlib.lines.Line2D at 0x1a9b4a2fe10>,\n",
       "  <matplotlib.lines.Line2D at 0x1a9b4a2f668>,\n",
       "  <matplotlib.lines.Line2D at 0x1a9b4a27048>,\n",
       "  <matplotlib.lines.Line2D at 0x1a9b4a27b70>,\n",
       "  <matplotlib.lines.Line2D at 0x1a9b4a27128>,\n",
       "  <matplotlib.lines.Line2D at 0x1a9b5ade668>,\n",
       "  <matplotlib.lines.Line2D at 0x1a9b5adecc0>,\n",
       "  <matplotlib.lines.Line2D at 0x1a9b5b0a358>,\n",
       "  <matplotlib.lines.Line2D at 0x1a9b5b0a9b0>,\n",
       "  <matplotlib.lines.Line2D at 0x1a9b5b0afd0>,\n",
       "  <matplotlib.lines.Line2D at 0x1a9b5b136a0>,\n",
       "  <matplotlib.lines.Line2D at 0x1a9b5b13cf8>,\n",
       "  <matplotlib.lines.Line2D at 0x1a9b5b1c390>,\n",
       "  <matplotlib.lines.Line2D at 0x1a9b5b1c9e8>,\n",
       "  <matplotlib.lines.Line2D at 0x1a9b5b1ceb8>,\n",
       "  <matplotlib.lines.Line2D at 0x1a9b5b266d8>,\n",
       "  <matplotlib.lines.Line2D at 0x1a9b5b26d30>,\n",
       "  <matplotlib.lines.Line2D at 0x1a9b5b313c8>,\n",
       "  <matplotlib.lines.Line2D at 0x1a9b5b31a20>,\n",
       "  <matplotlib.lines.Line2D at 0x1a9b5b31ef0>,\n",
       "  <matplotlib.lines.Line2D at 0x1a9b5b3a710>,\n",
       "  <matplotlib.lines.Line2D at 0x1a9b5b3ad68>,\n",
       "  <matplotlib.lines.Line2D at 0x1a9b5b43400>,\n",
       "  <matplotlib.lines.Line2D at 0x1a9b5b43a58>,\n",
       "  <matplotlib.lines.Line2D at 0x1a9b5b43f28>,\n",
       "  <matplotlib.lines.Line2D at 0x1a9b5b4b748>,\n",
       "  <matplotlib.lines.Line2D at 0x1a9b5b4bda0>,\n",
       "  <matplotlib.lines.Line2D at 0x1a9b5b56438>,\n",
       "  <matplotlib.lines.Line2D at 0x1a9b5b56a90>,\n",
       "  <matplotlib.lines.Line2D at 0x1a9b5b56f60>,\n",
       "  <matplotlib.lines.Line2D at 0x1a9b5b60780>,\n",
       "  <matplotlib.lines.Line2D at 0x1a9b5b60dd8>,\n",
       "  <matplotlib.lines.Line2D at 0x1a9b5b6a470>,\n",
       "  <matplotlib.lines.Line2D at 0x1a9b5b6aac8>,\n",
       "  <matplotlib.lines.Line2D at 0x1a9b5b6af98>,\n",
       "  <matplotlib.lines.Line2D at 0x1a9b5b747b8>,\n",
       "  <matplotlib.lines.Line2D at 0x1a9b5b74e10>,\n",
       "  <matplotlib.lines.Line2D at 0x1a9b5b7d4a8>,\n",
       "  <matplotlib.lines.Line2D at 0x1a9b5b7db00>,\n",
       "  <matplotlib.lines.Line2D at 0x1a9b5b7dfd0>,\n",
       "  <matplotlib.lines.Line2D at 0x1a9b5b877f0>,\n",
       "  <matplotlib.lines.Line2D at 0x1a9b5b87e48>,\n",
       "  <matplotlib.lines.Line2D at 0x1a9b5b904e0>,\n",
       "  <matplotlib.lines.Line2D at 0x1a9b5b90b38>,\n",
       "  <matplotlib.lines.Line2D at 0x1a9b5b90fd0>,\n",
       "  <matplotlib.lines.Line2D at 0x1a9b5b9a828>,\n",
       "  <matplotlib.lines.Line2D at 0x1a9b5b9ae80>,\n",
       "  <matplotlib.lines.Line2D at 0x1a9b5ba3518>,\n",
       "  <matplotlib.lines.Line2D at 0x1a9b5ba3b70>,\n",
       "  <matplotlib.lines.Line2D at 0x1a9b5bad208>,\n",
       "  <matplotlib.lines.Line2D at 0x1a9b5bad860>,\n",
       "  <matplotlib.lines.Line2D at 0x1a9b5badeb8>,\n",
       "  <matplotlib.lines.Line2D at 0x1a9b5bb6550>,\n",
       "  <matplotlib.lines.Line2D at 0x1a9b5bb6ba8>,\n",
       "  <matplotlib.lines.Line2D at 0x1a9b5bc2240>,\n",
       "  <matplotlib.lines.Line2D at 0x1a9b5bc2898>,\n",
       "  <matplotlib.lines.Line2D at 0x1a9b5bc2ef0>,\n",
       "  <matplotlib.lines.Line2D at 0x1a9b5bcd588>,\n",
       "  <matplotlib.lines.Line2D at 0x1a9b5bcdbe0>,\n",
       "  <matplotlib.lines.Line2D at 0x1a9b5bd6278>,\n",
       "  <matplotlib.lines.Line2D at 0x1a9b5bd68d0>,\n",
       "  <matplotlib.lines.Line2D at 0x1a9b5bd6f28>,\n",
       "  <matplotlib.lines.Line2D at 0x1a9b5be15c0>,\n",
       "  <matplotlib.lines.Line2D at 0x1a9b5be1c18>,\n",
       "  <matplotlib.lines.Line2D at 0x1a9b5be82b0>,\n",
       "  <matplotlib.lines.Line2D at 0x1a9b5be8908>,\n",
       "  <matplotlib.lines.Line2D at 0x1a9b5be8f60>,\n",
       "  <matplotlib.lines.Line2D at 0x1a9b5bf35f8>,\n",
       "  <matplotlib.lines.Line2D at 0x1a9b5bf3c50>,\n",
       "  <matplotlib.lines.Line2D at 0x1a9b5bfc2e8>,\n",
       "  <matplotlib.lines.Line2D at 0x1a9b5bfc940>,\n",
       "  <matplotlib.lines.Line2D at 0x1a9b5bfcf98>,\n",
       "  <matplotlib.lines.Line2D at 0x1a9b5c08630>,\n",
       "  <matplotlib.lines.Line2D at 0x1a9b5c08c88>,\n",
       "  <matplotlib.lines.Line2D at 0x1a9b5c13320>,\n",
       "  <matplotlib.lines.Line2D at 0x1a9b5c13978>,\n",
       "  <matplotlib.lines.Line2D at 0x1a9b5c13fd0>,\n",
       "  <matplotlib.lines.Line2D at 0x1a9b5c1c668>,\n",
       "  <matplotlib.lines.Line2D at 0x1a9b5c1ccc0>,\n",
       "  <matplotlib.lines.Line2D at 0x1a9b5c26358>,\n",
       "  <matplotlib.lines.Line2D at 0x1a9b5c269b0>,\n",
       "  <matplotlib.lines.Line2D at 0x1a9b5c26fd0>,\n",
       "  <matplotlib.lines.Line2D at 0x1a9b5c2f6a0>,\n",
       "  <matplotlib.lines.Line2D at 0x1a9b5c2fcf8>,\n",
       "  <matplotlib.lines.Line2D at 0x1a9b5c39390>,\n",
       "  <matplotlib.lines.Line2D at 0x1a9b5c399e8>,\n",
       "  <matplotlib.lines.Line2D at 0x1a9b5c39eb8>,\n",
       "  <matplotlib.lines.Line2D at 0x1a9b5c426d8>,\n",
       "  <matplotlib.lines.Line2D at 0x1a9b5c42d30>,\n",
       "  <matplotlib.lines.Line2D at 0x1a9b5c4d3c8>,\n",
       "  <matplotlib.lines.Line2D at 0x1a9b5c4da20>,\n",
       "  <matplotlib.lines.Line2D at 0x1a9b5c4def0>,\n",
       "  <matplotlib.lines.Line2D at 0x1a9b5c57710>,\n",
       "  <matplotlib.lines.Line2D at 0x1a9b5c57d68>,\n",
       "  <matplotlib.lines.Line2D at 0x1a9b5c63400>,\n",
       "  <matplotlib.lines.Line2D at 0x1a9b5c63a58>,\n",
       "  <matplotlib.lines.Line2D at 0x1a9b5c63f28>,\n",
       "  <matplotlib.lines.Line2D at 0x1a9b5c6c748>,\n",
       "  <matplotlib.lines.Line2D at 0x1a9b5c6cda0>,\n",
       "  <matplotlib.lines.Line2D at 0x1a9b5c75438>,\n",
       "  <matplotlib.lines.Line2D at 0x1a9b5c75a90>,\n",
       "  <matplotlib.lines.Line2D at 0x1a9b5c75f60>,\n",
       "  <matplotlib.lines.Line2D at 0x1a9b5c7e780>,\n",
       "  <matplotlib.lines.Line2D at 0x1a9b5c7edd8>],\n",
       " [<matplotlib.patches.Rectangle at 0x1a9b5a129e8>,\n",
       "  <matplotlib.patches.Rectangle at 0x1a9b5999ac8>,\n",
       "  <matplotlib.patches.Rectangle at 0x1a9b59e9da0>,\n",
       "  <matplotlib.patches.Rectangle at 0x1a9b5a70be0>,\n",
       "  <matplotlib.patches.Rectangle at 0x1a9b58074a8>,\n",
       "  <matplotlib.patches.Rectangle at 0x1a9b58071d0>,\n",
       "  <matplotlib.patches.Rectangle at 0x1a9b57c6400>,\n",
       "  <matplotlib.patches.Rectangle at 0x1a9b57c6898>,\n",
       "  <matplotlib.patches.Rectangle at 0x1a9b57cb828>,\n",
       "  <matplotlib.patches.Rectangle at 0x1a9b59c1710>,\n",
       "  <matplotlib.patches.Rectangle at 0x1a9b598f8d0>,\n",
       "  <matplotlib.patches.Rectangle at 0x1a9b4d48438>,\n",
       "  <matplotlib.patches.Rectangle at 0x1a9b4d41e48>,\n",
       "  <matplotlib.patches.Rectangle at 0x1a9b4d41518>,\n",
       "  <matplotlib.patches.Rectangle at 0x1a9b4cc0908>,\n",
       "  <matplotlib.patches.Rectangle at 0x1a9b4cc0390>,\n",
       "  <matplotlib.patches.Rectangle at 0x1a9b4a59160>,\n",
       "  <matplotlib.patches.Rectangle at 0x1a9b4a59978>,\n",
       "  <matplotlib.patches.Rectangle at 0x1a9b5a7bc88>,\n",
       "  <matplotlib.patches.Rectangle at 0x1a9b4d2a160>,\n",
       "  <matplotlib.patches.Rectangle at 0x1a9b4d2acf8>,\n",
       "  <matplotlib.patches.Rectangle at 0x1a9b4d19780>,\n",
       "  <matplotlib.patches.Rectangle at 0x1a9b4d19588>,\n",
       "  <matplotlib.patches.Rectangle at 0x1a9b4da8f98>,\n",
       "  <matplotlib.patches.Rectangle at 0x1a9b4a05a90>,\n",
       "  <matplotlib.patches.Rectangle at 0x1a9b4a174e0>,\n",
       "  <matplotlib.patches.Rectangle at 0x1a9b4a17748>,\n",
       "  <matplotlib.patches.Rectangle at 0x1a9b49bceb8>,\n",
       "  <matplotlib.patches.Rectangle at 0x1a9b4945128>,\n",
       "  <matplotlib.patches.Rectangle at 0x1a9b49614e0>,\n",
       "  <matplotlib.patches.Rectangle at 0x1a9b49e0b38>,\n",
       "  <matplotlib.patches.Rectangle at 0x1a9b49e0b70>,\n",
       "  <matplotlib.patches.Rectangle at 0x1a9b49731d0>,\n",
       "  <matplotlib.patches.Rectangle at 0x1a9b4973160>,\n",
       "  <matplotlib.patches.Rectangle at 0x1a9b494a940>,\n",
       "  <matplotlib.patches.Rectangle at 0x1a9b4952f98>,\n",
       "  <matplotlib.patches.Rectangle at 0x1a9b494d668>,\n",
       "  <matplotlib.patches.Rectangle at 0x1a9b4914f28>,\n",
       "  <matplotlib.patches.Rectangle at 0x1a9b4a2ff28>,\n",
       "  <matplotlib.patches.Rectangle at 0x1a9b4a2fc50>,\n",
       "  <matplotlib.patches.Rectangle at 0x1a9b4a2f390>,\n",
       "  <matplotlib.patches.Rectangle at 0x1a9b4a27c88>,\n",
       "  <matplotlib.patches.Rectangle at 0x1a9b4a27828>,\n",
       "  <matplotlib.patches.Rectangle at 0x1a9b5ade128>,\n",
       "  <matplotlib.patches.Rectangle at 0x1a9b5ade828>,\n",
       "  <matplotlib.patches.Rectangle at 0x1a9b5adee80>,\n",
       "  <matplotlib.patches.Rectangle at 0x1a9b5b0a518>,\n",
       "  <matplotlib.patches.Rectangle at 0x1a9b5b0ab70>,\n",
       "  <matplotlib.patches.Rectangle at 0x1a9b5b13208>,\n",
       "  <matplotlib.patches.Rectangle at 0x1a9b5b13860>,\n",
       "  <matplotlib.patches.Rectangle at 0x1a9b5b13eb8>,\n",
       "  <matplotlib.patches.Rectangle at 0x1a9b5b1c550>,\n",
       "  <matplotlib.patches.Rectangle at 0x1a9b5b1cba8>,\n",
       "  <matplotlib.patches.Rectangle at 0x1a9b5b26240>,\n",
       "  <matplotlib.patches.Rectangle at 0x1a9b5b26898>,\n",
       "  <matplotlib.patches.Rectangle at 0x1a9b5b26ef0>,\n",
       "  <matplotlib.patches.Rectangle at 0x1a9b5b31588>,\n",
       "  <matplotlib.patches.Rectangle at 0x1a9b5b31be0>,\n",
       "  <matplotlib.patches.Rectangle at 0x1a9b5b3a278>,\n",
       "  <matplotlib.patches.Rectangle at 0x1a9b5b3a8d0>,\n",
       "  <matplotlib.patches.Rectangle at 0x1a9b5b3af28>,\n",
       "  <matplotlib.patches.Rectangle at 0x1a9b5b435c0>,\n",
       "  <matplotlib.patches.Rectangle at 0x1a9b5b43c18>,\n",
       "  <matplotlib.patches.Rectangle at 0x1a9b5b4b2b0>,\n",
       "  <matplotlib.patches.Rectangle at 0x1a9b5b4b908>,\n",
       "  <matplotlib.patches.Rectangle at 0x1a9b5b4bf60>,\n",
       "  <matplotlib.patches.Rectangle at 0x1a9b5b565f8>,\n",
       "  <matplotlib.patches.Rectangle at 0x1a9b5b56c50>,\n",
       "  <matplotlib.patches.Rectangle at 0x1a9b5b602e8>,\n",
       "  <matplotlib.patches.Rectangle at 0x1a9b5b60940>,\n",
       "  <matplotlib.patches.Rectangle at 0x1a9b5b60f98>,\n",
       "  <matplotlib.patches.Rectangle at 0x1a9b5b6a630>,\n",
       "  <matplotlib.patches.Rectangle at 0x1a9b5b6ac88>,\n",
       "  <matplotlib.patches.Rectangle at 0x1a9b5b74320>,\n",
       "  <matplotlib.patches.Rectangle at 0x1a9b5b74978>,\n",
       "  <matplotlib.patches.Rectangle at 0x1a9b5b74fd0>,\n",
       "  <matplotlib.patches.Rectangle at 0x1a9b5b7d668>,\n",
       "  <matplotlib.patches.Rectangle at 0x1a9b5b7dcc0>,\n",
       "  <matplotlib.patches.Rectangle at 0x1a9b5b87358>,\n",
       "  <matplotlib.patches.Rectangle at 0x1a9b5b879b0>,\n",
       "  <matplotlib.patches.Rectangle at 0x1a9b5b90048>,\n",
       "  <matplotlib.patches.Rectangle at 0x1a9b5b906a0>,\n",
       "  <matplotlib.patches.Rectangle at 0x1a9b5b90cf8>,\n",
       "  <matplotlib.patches.Rectangle at 0x1a9b5b9a390>,\n",
       "  <matplotlib.patches.Rectangle at 0x1a9b5b9a9e8>,\n",
       "  <matplotlib.patches.Rectangle at 0x1a9b5ba3080>,\n",
       "  <matplotlib.patches.Rectangle at 0x1a9b5ba36d8>,\n",
       "  <matplotlib.patches.Rectangle at 0x1a9b5ba3d30>,\n",
       "  <matplotlib.patches.Rectangle at 0x1a9b5bad3c8>,\n",
       "  <matplotlib.patches.Rectangle at 0x1a9b5bada20>,\n",
       "  <matplotlib.patches.Rectangle at 0x1a9b5bb60b8>,\n",
       "  <matplotlib.patches.Rectangle at 0x1a9b5bb6710>,\n",
       "  <matplotlib.patches.Rectangle at 0x1a9b5bb6d68>,\n",
       "  <matplotlib.patches.Rectangle at 0x1a9b5bc2400>,\n",
       "  <matplotlib.patches.Rectangle at 0x1a9b5bc2a58>,\n",
       "  <matplotlib.patches.Rectangle at 0x1a9b5bcd0f0>,\n",
       "  <matplotlib.patches.Rectangle at 0x1a9b5bcd748>,\n",
       "  <matplotlib.patches.Rectangle at 0x1a9b5bcdda0>,\n",
       "  <matplotlib.patches.Rectangle at 0x1a9b5bd6438>,\n",
       "  <matplotlib.patches.Rectangle at 0x1a9b5bd6a90>,\n",
       "  <matplotlib.patches.Rectangle at 0x1a9b5be1128>,\n",
       "  <matplotlib.patches.Rectangle at 0x1a9b5be1780>,\n",
       "  <matplotlib.patches.Rectangle at 0x1a9b5be1dd8>,\n",
       "  <matplotlib.patches.Rectangle at 0x1a9b5be8470>,\n",
       "  <matplotlib.patches.Rectangle at 0x1a9b5be8ac8>,\n",
       "  <matplotlib.patches.Rectangle at 0x1a9b5bf3160>,\n",
       "  <matplotlib.patches.Rectangle at 0x1a9b5bf37b8>,\n",
       "  <matplotlib.patches.Rectangle at 0x1a9b5bf3e10>,\n",
       "  <matplotlib.patches.Rectangle at 0x1a9b5bfc4a8>,\n",
       "  <matplotlib.patches.Rectangle at 0x1a9b5bfcb00>,\n",
       "  <matplotlib.patches.Rectangle at 0x1a9b5c08198>,\n",
       "  <matplotlib.patches.Rectangle at 0x1a9b5c087f0>,\n",
       "  <matplotlib.patches.Rectangle at 0x1a9b5c08e48>,\n",
       "  <matplotlib.patches.Rectangle at 0x1a9b5c134e0>,\n",
       "  <matplotlib.patches.Rectangle at 0x1a9b5c13b38>,\n",
       "  <matplotlib.patches.Rectangle at 0x1a9b5c1c1d0>,\n",
       "  <matplotlib.patches.Rectangle at 0x1a9b5c1c828>,\n",
       "  <matplotlib.patches.Rectangle at 0x1a9b5c1ce80>,\n",
       "  <matplotlib.patches.Rectangle at 0x1a9b5c26518>,\n",
       "  <matplotlib.patches.Rectangle at 0x1a9b5c26b70>,\n",
       "  <matplotlib.patches.Rectangle at 0x1a9b5c2f208>,\n",
       "  <matplotlib.patches.Rectangle at 0x1a9b5c2f860>,\n",
       "  <matplotlib.patches.Rectangle at 0x1a9b5c2feb8>,\n",
       "  <matplotlib.patches.Rectangle at 0x1a9b5c39550>,\n",
       "  <matplotlib.patches.Rectangle at 0x1a9b5c39ba8>,\n",
       "  <matplotlib.patches.Rectangle at 0x1a9b5c42240>,\n",
       "  <matplotlib.patches.Rectangle at 0x1a9b5c42898>,\n",
       "  <matplotlib.patches.Rectangle at 0x1a9b5c42ef0>,\n",
       "  <matplotlib.patches.Rectangle at 0x1a9b5c4d588>,\n",
       "  <matplotlib.patches.Rectangle at 0x1a9b5c4dbe0>,\n",
       "  <matplotlib.patches.Rectangle at 0x1a9b5c57278>,\n",
       "  <matplotlib.patches.Rectangle at 0x1a9b5c578d0>,\n",
       "  <matplotlib.patches.Rectangle at 0x1a9b5c57f28>,\n",
       "  <matplotlib.patches.Rectangle at 0x1a9b5c635c0>,\n",
       "  <matplotlib.patches.Rectangle at 0x1a9b5c63c18>,\n",
       "  <matplotlib.patches.Rectangle at 0x1a9b5c6c2b0>,\n",
       "  <matplotlib.patches.Rectangle at 0x1a9b5c6c908>,\n",
       "  <matplotlib.patches.Rectangle at 0x1a9b5c6cf60>,\n",
       "  <matplotlib.patches.Rectangle at 0x1a9b5c755f8>,\n",
       "  <matplotlib.patches.Rectangle at 0x1a9b5c75c50>,\n",
       "  <matplotlib.patches.Rectangle at 0x1a9b5c7e2e8>,\n",
       "  <matplotlib.patches.Rectangle at 0x1a9b5c7e940>,\n",
       "  <matplotlib.patches.Rectangle at 0x1a9b5c7ef98>])"
      ]
     },
     "execution_count": 18,
     "metadata": {},
     "output_type": "execute_result"
    }
   ],
   "source": [
    "candlestick_ochl(ax, ochl)"
   ]
  },
  {
   "cell_type": "code",
   "execution_count": 19,
   "metadata": {},
   "outputs": [
    {
     "data": {
      "image/png": "[encoded data removed]",
      "text/latex": [
       "$$143$$"
      ],
      "text/plain": [
       "143"
      ]
     },
     "execution_count": 19,
     "metadata": {},
     "output_type": "execute_result"
    }
   ],
   "source": [
    "len(list(dataframe1[\"bid\"]))"
   ]
  },
  {
   "cell_type": "code",
   "execution_count": null,
   "metadata": {},
   "outputs": [],
   "source": []
  },
  {
   "cell_type": "code",
   "execution_count": null,
   "metadata": {},
   "outputs": [],
   "source": []
  }
 ],
 "metadata": {
  "kernelspec": {
   "display_name": "Python 3",
   "language": "python",
   "name": "python3"
  },
  "language_info": {
   "codemirror_mode": {
    "name": "ipython",
    "version": 3
   },
   "file_extension": ".py",
   "mimetype": "text/x-python",
   "name": "python",
   "nbconvert_exporter": "python",
   "pygments_lexer": "ipython3",
   "version": "3.7.3"
  }
 },
 "nbformat": 4,
 "nbformat_minor": 2
}
