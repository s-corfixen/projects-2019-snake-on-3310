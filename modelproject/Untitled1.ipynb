{
 "cells": [
  {
   "cell_type": "code",
   "execution_count": 1,
   "metadata": {},
   "outputs": [],
   "source": [
    "%matplotlib inline\n",
    "import numpy as np\n",
    "import matplotlib.pyplot as plt\n",
    "from matplotlib.figure import Figure\n",
    "import ipywidgets as widgets\n",
    "import time\n",
    "from scipy import linalg\n",
    "from scipy import optimize\n",
    "import sympy as sm\n",
    "import pandas as pd\n",
    "\n",
    "from plotter import PlotterWindow\n",
    "\n",
    "sm.init_printing(use_unicode=True)"
   ]
  },
  {
   "cell_type": "markdown",
   "metadata": {},
   "source": []
  },
  {
   "cell_type": "code",
   "execution_count": 2,
   "metadata": {},
   "outputs": [],
   "source": [
    "mu_t = sm.symbols(\"mu_t\")\n",
    "mu_t1 = sm.symbols(\"mu_t-1\")\n",
    "b_t = sm.symbols(\"b_t\")\n",
    "a_t = sm.symbols(\"a_t\")\n",
    "p_t = sm.symbols(\"P_t\")\n",
    "v = sm.symbols(\"v\")\n",
    "v_h = sm.symbols(\"v^H\")\n",
    "v_l = sm.symbols(\"v^L\")\n",
    "d_t = sm.symbols(\"d_t\")\n",
    "sd_t = sm.symbols(\"s(d_t)\")\n",
    "s_a = sm.symbols(\"s_t^a\")\n",
    "s_b = sm.symbols(\"s_t^b\")\n",
    "theta_t = sm.symbols(\"theta_t\")\n",
    "theta_t1 = sm.symbols(\"theta_t-1\")\n",
    "pi = sm.symbols(\"pi\")\n",
    "beta_b = sm.symbols(\"beta_B\")\n",
    "beta_s = sm.symbols(\"beta_S\")\n",
    "spib = sm.symbols(\"Pi_buy\")\n",
    "spis = sm.symbols(\"Pi_sell\")\n"
   ]
  },
  {
   "cell_type": "code",
   "execution_count": 3,
   "metadata": {},
   "outputs": [],
   "source": [
    "minimering = abs(v-p_t)\n",
    "\n",
    "\n",
    "\n",
    "spib = theta_t1*pi*(a_t-v_h)+beta_b*(1-pi)*(a_t-mu_t1)\n",
    "spis = (1-theta_t1)*pi*(v_l-b_t)+beta_s*(1-pi)*(mu_t1-b_t)\n",
    "\n",
    "a_t = mu_t1 + s_a\n",
    "b_t = mu_t1 + s_b\n",
    "\n",
    "s_a = (pi*theta_t1*(1-theta_t1))/(pi*theta_t1+(1-pi)*beta_b)*(v_h-v_l)\n",
    "s_b = (pi*(1-theta_t1)*(1-theta_t1))/(pi*theta_t1+(1-pi)*beta_s)*(v_h-v_l)\n",
    "\n"
   ]
  },
  {
   "cell_type": "code",
   "execution_count": 4,
   "metadata": {},
   "outputs": [
    {
     "data": {
      "image/png": "[encoded data removed]",
      "text/latex": [
       "$$s^{a}_{t} = \\frac{\\pi \\theta_{t-1} \\left(- \\theta_{t-1} + 1\\right) \\left(v^{H} - v^{L}\\right)}{\\beta_{B} \\left(- \\pi + 1\\right) + \\pi \\theta_{t-1}}$$"
      ],
      "text/plain": [
       "         π⋅θₜ₋₁⋅(-θₜ₋₁ + 1)⋅(v__H - v__L)\n",
       "s_t__a = ────────────────────────────────\n",
       "              β_B⋅(-π + 1) + π⋅θₜ₋₁      "
      ]
     },
     "execution_count": 4,
     "metadata": {},
     "output_type": "execute_result"
    }
   ],
   "source": [
    "sm.Eq(sm.symbols(\"s_t^a\"), s_a)"
   ]
  },
  {
   "cell_type": "code",
   "execution_count": 5,
   "metadata": {},
   "outputs": [
    {
     "data": {
      "image/png": "[encoded data removed]",
      "text/latex": [
       "$$P_{t}$$"
      ],
      "text/plain": [
       "Pₜ"
      ]
     },
     "execution_count": 5,
     "metadata": {},
     "output_type": "execute_result"
    }
   ],
   "source": [
    "p_t"
   ]
  },
  {
   "cell_type": "code",
   "execution_count": 6,
   "metadata": {},
   "outputs": [
    {
     "data": {
      "text/latex": [
       "$$p(BUY|v_h)\\space$$"
      ],
      "text/plain": [
       "p(BUY|v_h)\\space"
      ]
     },
     "execution_count": 6,
     "metadata": {},
     "output_type": "execute_result"
    }
   ],
   "source": [
    "p = sm.symbols(\"p(BUY|v_h)\\space\")\n",
    "p"
   ]
  },
  {
   "cell_type": "markdown",
   "metadata": {},
   "source": [
    "![Flowchart](flowchart.png)"
   ]
  },
  {
   "cell_type": "code",
   "execution_count": 7,
   "metadata": {},
   "outputs": [],
   "source": [
    "def simulation(distribution=(0,1), decision=\"v_h\", ratio=0.2, uninformed=0.5, startvalue=0.5, iterations = 500, seed=5000, epsilon=10**-5, shockperiod = None, shock={}):\n",
    "    #define constants\n",
    "    v_l, v_h = distribution\n",
    "    pi = ratio\n",
    "    beta_b = uninformed\n",
    "    beta_s = 1-beta_b\n",
    "    shock = shock\n",
    "    \n",
    "    #determine realized value of v\n",
    "    v = decision\n",
    "    \n",
    "    #allocate space\n",
    "    values=[]\n",
    "    ratiovalues = []\n",
    "    iteration = []\n",
    "    thetavalues = np.empty(iterations)\n",
    "    muvalues = np.empty(iterations)\n",
    "    askvalues = np.empty(iterations)\n",
    "    bidvalues = np.empty(iterations)\n",
    "    gapvalues = np.empty(iterations)\n",
    "    pivalues = np.empty(iterations)\n",
    "    decisionvalues = np.empty(iterations)\n",
    "    \n",
    "    #simulation settings\n",
    "    thetavalues[0]=startvalue\n",
    "    theta_t1 = startvalue\n",
    "    N = iterations\n",
    "    np.random.seed(seed)\n",
    "    \n",
    "    break_index = 0\n",
    "    for i in range(N):\n",
    "        \n",
    "        if i==shockperiod:\n",
    "            if shock != {}:\n",
    "                if \"Public\" not in shock:\n",
    "                    if shock[\"Private\"]==1:\n",
    "                        v=\"v_h\"\n",
    "                    if shock[\"Private\"]==0:\n",
    "                        v=\"v_l\"\n",
    "\n",
    "                elif \"Private\" not in shock:\n",
    "                    v_l, v_h = shock[\"Public\"] \n",
    "                    v = decision\n",
    "                \n",
    "                else:\n",
    "                    v_l, v_h = shock[\"Public\"]\n",
    "                    if shock[\"Private\"]==1:\n",
    "                        v=\"v_h\"\n",
    "                    if shock[\"Private\"]==0:\n",
    "                        v=\"v_l\"\n",
    "                    \n",
    "        if v==\"v_h\":\n",
    "            v=v_h\n",
    "        elif v==\"v_l\":\n",
    "            v=v_l\n",
    "            \n",
    "        \n",
    "        mu_t1 = theta_t1*v_h+(1-theta_t1)*v_l\n",
    "        muvalues[i] = mu_t1\n",
    "        \n",
    "        #calculate markup/discount\n",
    "        s_a = (pi*theta_t1*(1-theta_t1))/(pi*theta_t1+(1-pi)*beta_b)*(v_h-v_l)\n",
    "        s_b = (pi*theta_t1*(1-theta_t1))/(pi*(1-theta_t1)+(1-pi)*beta_s)*(v_h-v_l)\n",
    "        \n",
    "        #calculate ask/bid price\n",
    "        askvalues[i] = a_t = mu_t1 + s_a\n",
    "        bidvalues[i] = b_t = mu_t1 - s_b \n",
    "        \n",
    "        #calculate gap\n",
    "        gapvalues[i] = gap_t = a_t - b_t\n",
    "        \n",
    "        #realize pi\n",
    "        trader = np.random.binomial(1,pi)\n",
    "        pivalues[i] = trader\n",
    "        #if trader is informed\n",
    "        if trader == 1:\n",
    "            if v == v_h:\n",
    "                if v_h>a_t:\n",
    "                    d_t=1\n",
    "            elif v == v_l:\n",
    "                if v_l<b_t:\n",
    "                    d_t=-1\n",
    "            else:\n",
    "                d_t=0\n",
    "                    \n",
    "        #if trader is uninformed\n",
    "        if trader == 0:\n",
    "            buysell = np.random.binomial(1,beta_b)\n",
    "            if buysell == 1:\n",
    "                d_t = 1\n",
    "            else:\n",
    "                d_t = -1\n",
    "        \n",
    "        decisionvalues[i] = d_t\n",
    "        \n",
    "        #update theta\n",
    "        if d_t == 1:\n",
    "            theta_t = ((1+pi)*beta_b)/(pi*theta_t1+(1-pi)*beta_b)*theta_t1\n",
    "            theta_t1 = theta_t\n",
    "        elif d_t == -1:\n",
    "            theta_t = ((1-pi)*beta_b)/(pi*(1-theta_t1)+(1-pi)*beta_b)*theta_t1\n",
    "            theta_t1 = theta_t\n",
    "        \n",
    "        if i<iterations-1:\n",
    "            thetavalues[i+1] = theta_t\n",
    "        ratiovalues.append(str(ratio))\n",
    "        iteration.append(int(i))\n",
    "        \n",
    "        #off by one error\n",
    "        break_index=i+1\n",
    "        if gap_t<epsilon or i == N-1:\n",
    "            values.extend([\"Theta: \"+str(theta_t), \"Bid: \"+str(b_t), \"Ask: \"+str(a_t), \"Mu: \"+str(mu_t1)])\n",
    "            break\n",
    "            \n",
    "    \n",
    "    dataframe = pd.DataFrame()\n",
    "    dataframe[\"Iteration\"]=iteration\n",
    "    dataframe[\"ratio\"] = ratiovalues\n",
    "    dataframe[\"theta\"] = thetavalues[0:break_index]\n",
    "    dataframe[\"mu\"] = muvalues[0:break_index]\n",
    "    dataframe[\"ask\"] = askvalues[0:break_index]\n",
    "    dataframe[\"bid\"] = bidvalues[0:break_index]\n",
    "    dataframe[\"spread\"] = gapvalues[0:break_index]\n",
    "    dataframe[\"trader\"] = pivalues[0:break_index]\n",
    "    dataframe[\"order\"] = decisionvalues[0:break_index]\n",
    "    \n",
    "    return dataframe, values"
   ]
  },
  {
   "cell_type": "code",
   "execution_count": 8,
   "metadata": {},
   "outputs": [],
   "source": [
    "thetarun1 = simulation(ratio=0.15, iterations=201,seed=4795)\n",
    "thetarun2 = simulation(ratio=0.15, iterations=201,seed=6279)\n",
    "thetarun3 = simulation(ratio=0.15, iterations=201,seed=6130)\n",
    "thetarun4 = simulation(ratio=0.15, iterations=201,seed=9352)\n",
    "thetarun5 = simulation(ratio=0.15, iterations=201,seed=5059)\n",
    "\n",
    "thetadata1, thetavalues1 = thetarun1\n",
    "thetadata2, thetavalues2 = thetarun2\n",
    "thetadata3, thetavalues3 = thetarun3\n",
    "thetadata4, thetavalues4 = thetarun4\n",
    "thetadata5, thetavalues5 = thetarun5"
   ]
  },
  {
   "cell_type": "code",
   "execution_count": 9,
   "metadata": {},
   "outputs": [
    {
     "data": {
      "text/plain": [
       "Text(0.5, 1.0, 'Theta')"
      ]
     },
     "execution_count": 9,
     "metadata": {},
     "output_type": "execute_result"
    },
    {
     "data": {
      "image/png": "[encoded data removed]",
      "text/plain": [
       "<Figure size 600x400 with 1 Axes>"
      ]
     },
     "metadata": {
      "needs_background": "light"
     },
     "output_type": "display_data"
    }
   ],
   "source": [
    "fig = plt.figure(dpi=100)\n",
    "ax2 = fig.add_subplot(1,1,1)\n",
    "ax2.plot(thetadata1[\"theta\"], label=\"1\")\n",
    "ax2.plot(thetadata2[\"theta\"], label=\"2\")\n",
    "ax2.plot(thetadata3[\"theta\"], label=\"3\")\n",
    "ax2.plot(thetadata4[\"theta\"], label=\"4\")\n",
    "ax2.plot(thetadata5[\"theta\"], label=\"\")\n",
    "ax2.grid(True)\n",
    "ax2.legend()\n",
    "ax2.set_title(\"Theta\")"
   ]
  },
  {
   "cell_type": "code",
   "execution_count": 10,
   "metadata": {},
   "outputs": [],
   "source": [
    "pirun1 = simulation(ratio=0.10, iterations=1001, seed=404)\n",
    "pirun2 = simulation(ratio=0.15, iterations=1001, seed=404)\n",
    "pirun3 = simulation(ratio=0.25, iterations=1001, seed=404)\n",
    "pirun4 = simulation(ratio=0.5, iterations=201, seed=404)\n",
    "pirun5 = simulation(ratio=0.9, iterations=201, seed=404)\n",
    "\n",
    "pirundata1, pirunvalues1 = pirun1\n",
    "pirundata2, pirunvalues2 = pirun2\n",
    "pirundata3, pirunvalues3 = pirun3 \n",
    "pirundata4, pirunvalues4 = pirun4\n",
    "pirundata5, pirunvalues5 = pirun5\n",
    "\n",
    "pirunmerged = pd.concat([pirundata1, pirundata2, pirundata3, pirundata4, pirundata5])"
   ]
  },
  {
   "cell_type": "code",
   "execution_count": 11,
   "metadata": {},
   "outputs": [
    {
     "name": "stderr",
     "output_type": "stream",
     "text": [
      "C:\\Users\\Corfixen\\Anaconda3\\lib\\site-packages\\matplotlib\\figure.py:98: MatplotlibDeprecationWarning: \n",
      "Adding an axes using the same arguments as a previous axes currently reuses the earlier instance.  In a future version, a new instance will always be created and returned.  Meanwhile, this warning can be suppressed, and the future behavior ensured, by passing a unique label to each axes instance.\n",
      "  \"Adding an axes using the same arguments as a previous axes \"\n"
     ]
    }
   ],
   "source": [
    "pirungraphwindow = PlotterWindow(data = pirunmerged, slicename = \"ratio\", xvariable = \"Iteration\", yvariablelist = [\"mu\",\"ask\",\"bid\"], graphtype =\"piplot\")\n",
    "pirungraphwindow.start()"
   ]
  },
  {
   "cell_type": "code",
   "execution_count": 12,
   "metadata": {},
   "outputs": [
    {
     "name": "stderr",
     "output_type": "stream",
     "text": [
      "No handles with labels found to put in legend.\n",
      "No handles with labels found to put in legend.\n"
     ]
    }
   ],
   "source": [
    "pirungraphwindow2 = PlotterWindow(data = pirunmerged, slicename = \"ratio\", graphtype = \"candlestick\")\n",
    "pirungraphwindow2.start()"
   ]
  },
  {
   "cell_type": "code",
   "execution_count": 13,
   "metadata": {},
   "outputs": [],
   "source": [
    "shockrun1 = simulation(ratio=0.151, iterations=1001, seed=404, shockperiod = 90, shock={\"Private\":0})\n",
    "shockrun2 = simulation(ratio=0.152, iterations=1001, seed=404, shockperiod = 90, shock={\"Public\":(0.3, 0.8)})\n",
    "shockrun3 = simulation(ratio=0.153, iterations=1001, seed=404, shockperiod = 90, shock={\"Private\":0, \"Public\":(0.3,0.8)})\n",
    "\n",
    "shockdata1, shockvalues1 = shockrun1\n",
    "shockdata2, shockvalues2 = shockrun2\n",
    "shockdata3, shockvalues3 = shockrun3\n",
    "\n",
    "shockmerged = pd.concat([shockdata1,shockdata2,shockdata3])"
   ]
  },
  {
   "cell_type": "code",
   "execution_count": 14,
   "metadata": {},
   "outputs": [],
   "source": [
    "shockgraphwindow = PlotterWindow(data = shockmerged, slicename = \"ratio\", xvariable = \"Iteration\", yvariablelist = [\"mu\",\"ask\",\"bid\"], graphtype=\"piplot\")\n",
    "shockgraphwindow.start()"
   ]
  },
  {
   "cell_type": "code",
   "execution_count": null,
   "metadata": {},
   "outputs": [],
   "source": []
  },
  {
   "cell_type": "code",
   "execution_count": null,
   "metadata": {},
   "outputs": [],
   "source": []
  },
  {
   "cell_type": "code",
   "execution_count": null,
   "metadata": {},
   "outputs": [],
   "source": []
  },
  {
   "cell_type": "code",
   "execution_count": null,
   "metadata": {},
   "outputs": [],
   "source": []
  },
  {
   "cell_type": "code",
   "execution_count": null,
   "metadata": {},
   "outputs": [],
   "source": []
  },
  {
   "cell_type": "code",
   "execution_count": null,
   "metadata": {},
   "outputs": [],
   "source": []
  },
  {
   "cell_type": "code",
   "execution_count": null,
   "metadata": {},
   "outputs": [],
   "source": [
    "                                          "
   ]
  },
  {
   "cell_type": "code",
   "execution_count": null,
   "metadata": {},
   "outputs": [],
   "source": []
  },
  {
   "cell_type": "code",
   "execution_count": null,
   "metadata": {},
   "outputs": [],
   "source": []
  },
  {
   "cell_type": "code",
   "execution_count": null,
   "metadata": {},
   "outputs": [],
   "source": []
  },
  {
   "cell_type": "code",
   "execution_count": null,
   "metadata": {},
   "outputs": [],
   "source": []
  }
 ],
 "metadata": {
  "kernelspec": {
   "display_name": "Python 3",
   "language": "python",
   "name": "python3"
  },
  "language_info": {
   "codemirror_mode": {
    "name": "ipython",
    "version": 3
   },
   "file_extension": ".py",
   "mimetype": "text/x-python",
   "name": "python",
   "nbconvert_exporter": "python",
   "pygments_lexer": "ipython3",
   "version": "3.7.3"
  }
 },
 "nbformat": 4,
 "nbformat_minor": 2
}
