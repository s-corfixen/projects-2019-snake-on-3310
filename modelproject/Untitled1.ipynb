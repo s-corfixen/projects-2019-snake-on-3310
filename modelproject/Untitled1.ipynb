{
 "cells": [
  {
   "cell_type": "code",
   "execution_count": 1,
   "metadata": {},
   "outputs": [],
   "source": [
    "import numpy as np\n",
    "import matplotlib.pyplot as plt\n",
    "import ipywidgets as widgets\n",
    "import time\n",
    "from scipy import linalg\n",
    "from scipy import optimize\n",
    "import sympy as sm\n",
    "import pandas as pd\n",
    "\n",
    "sm.init_printing(use_unicode=True)"
   ]
  },
  {
   "cell_type": "code",
   "execution_count": 2,
   "metadata": {},
   "outputs": [],
   "source": [
    "mu_t = sm.symbols(\"mu_t\")\n",
    "mu_t1 = sm.symbols(\"mu_t-1\")\n",
    "b_t = sm.symbols(\"b_t\")\n",
    "a_t = sm.symbols(\"a_t\")\n",
    "p_t = sm.symbols(\"P_t\")\n",
    "v = sm.symbols(\"v\")\n",
    "v_h = sm.symbols(\"v^H\")\n",
    "v_l = sm.symbols(\"v^L\")\n",
    "d_t = sm.symbols(\"d_t\")\n",
    "sd_t = sm.symbols(\"s(d_t)\")\n",
    "s_a = sm.symbols(\"s_t^a\")\n",
    "s_b = sm.symbols(\"s_t^b\")\n",
    "theta_t = sm.symbols(\"theta_t\")\n",
    "theta_t1 = sm.symbols(\"theta_t-1\")\n",
    "pi = sm.symbols(\"pi\")\n",
    "beta_b = sm.symbols(\"beta_B\")\n",
    "beta_s = sm.symbols(\"beta_S\")\n",
    "spib = sm.symbols(\"Pi_buy\")\n",
    "spis = sm.symbols(\"Pi_sell\")\n"
   ]
  },
  {
   "cell_type": "code",
   "execution_count": 45,
   "metadata": {},
   "outputs": [
    {
     "ename": "SyntaxError",
     "evalue": "invalid syntax (<ipython-input-45-d2d3f50aabc6>, line 8)",
     "output_type": "error",
     "traceback": [
      "\u001b[1;36m  File \u001b[1;32m\"<ipython-input-45-d2d3f50aabc6>\"\u001b[1;36m, line \u001b[1;32m8\u001b[0m\n\u001b[1;33m    ligning = (spis = (1-theta_t1)*pi*(v_l-b_t)+beta_s*(1-pi)*(mu_t1-b_t))\u001b[0m\n\u001b[1;37m                    ^\u001b[0m\n\u001b[1;31mSyntaxError\u001b[0m\u001b[1;31m:\u001b[0m invalid syntax\n"
     ]
    }
   ],
   "source": [
    "minimering = abs(v-p_t)\n",
    "p_t = mu_t = mu_t1 + sd_t * d_t\n",
    "a_t = mu_t1 + s_a\n",
    "b_t = mu_t1 + s_b\n",
    "s_a = (pi*theta_t1*(1-theta_t1))/(pi*theta_t1+(1-pi)*beta_b)*(v_h-v_l)\n",
    "s_b = (pi*(1-theta_t1)*(1-theta_t1))/(pi*theta_t1+(1-pi)*beta_s)*(v_h-v_l)\n",
    "spib = theta_t1*pi*(a_t-v_h)+beta_b*(1-pi)*(a_t-mu_t1)\n",
    "spis = (1-theta_t1)*pi*(v_l-b_t)+beta_s*(1-pi)*(mu_t1-b_t)\n"
   ]
  },
  {
   "cell_type": "code",
   "execution_count": 44,
   "metadata": {},
   "outputs": [
    {
     "data": {
      "image/png": "[encoded data removed]",
      "text/latex": [
       "$$d_{t} s(d_{t)} + \\mu_{t-1}$$"
      ],
      "text/plain": [
       "dₜ⋅s(dₜ₎ + μₜ₋₁"
      ]
     },
     "execution_count": 44,
     "metadata": {},
     "output_type": "execute_result"
    }
   ],
   "source": [
    "x0 = np.array([pi=0.2, v=vh, vh=1, vl=0.8, theta=])\n",
    "optimize.minimize(minimering, )"
   ]
  },
  {
   "cell_type": "code",
   "execution_count": 3,
   "metadata": {},
   "outputs": [
    {
     "ename": "NameError",
     "evalue": "name 'vh' is not defined",
     "output_type": "error",
     "traceback": [
      "\u001b[1;31m---------------------------------------------------------------------------\u001b[0m",
      "\u001b[1;31mNameError\u001b[0m                                 Traceback (most recent call last)",
      "\u001b[1;32m<ipython-input-3-73d6178d8456>\u001b[0m in \u001b[0;36m<module>\u001b[1;34m\u001b[0m\n\u001b[1;32m----> 1\u001b[1;33m \u001b[1;32mdef\u001b[0m \u001b[0msimulation\u001b[0m\u001b[1;33m(\u001b[0m\u001b[0mvh\u001b[0m\u001b[1;33m,\u001b[0m \u001b[0mv_l\u001b[0m\u001b[1;33m=\u001b[0m\u001b[1;36m0\u001b[0m\u001b[1;33m,\u001b[0m \u001b[0mdecision\u001b[0m\u001b[1;33m=\u001b[0m\u001b[0mvh\u001b[0m\u001b[1;33m,\u001b[0m \u001b[0mratio\u001b[0m\u001b[1;33m=\u001b[0m\u001b[1;36m0.2\u001b[0m\u001b[1;33m,\u001b[0m \u001b[0muninformed\u001b[0m\u001b[1;33m=\u001b[0m\u001b[1;36m0.5\u001b[0m\u001b[1;33m,\u001b[0m \u001b[0mstartvalue\u001b[0m\u001b[1;33m=\u001b[0m\u001b[1;36m0.5\u001b[0m\u001b[1;33m)\u001b[0m\u001b[1;33m:\u001b[0m\u001b[1;33m\u001b[0m\u001b[1;33m\u001b[0m\u001b[0m\n\u001b[0m\u001b[0;32m      2\u001b[0m     \u001b[0mv_h\u001b[0m \u001b[1;33m=\u001b[0m \u001b[1;36m1\u001b[0m\u001b[1;33m\u001b[0m\u001b[1;33m\u001b[0m\u001b[0m\n\u001b[0;32m      3\u001b[0m     \u001b[0mv_l\u001b[0m \u001b[1;33m=\u001b[0m \u001b[0mvl\u001b[0m\u001b[1;33m\u001b[0m\u001b[1;33m\u001b[0m\u001b[0m\n\u001b[0;32m      4\u001b[0m     \u001b[0mv\u001b[0m \u001b[1;33m=\u001b[0m \u001b[0mdecision\u001b[0m\u001b[1;33m\u001b[0m\u001b[1;33m\u001b[0m\u001b[0m\n\u001b[0;32m      5\u001b[0m     \u001b[0mpi\u001b[0m \u001b[1;33m=\u001b[0m \u001b[0mratio\u001b[0m\u001b[1;33m\u001b[0m\u001b[1;33m\u001b[0m\u001b[0m\n",
      "\u001b[1;31mNameError\u001b[0m: name 'vh' is not defined"
     ]
    }
   ],
   "source": [
    "def simulation(vh, v_l=0, decision=vh, ratio=0.2, uninformed=0.5, startvalue=0.5):\n",
    "    v_h = 1\n",
    "    v_l = vl\n",
    "    v = decision\n",
    "    pi = ratio\n",
    "    beta_b = uninformed\n",
    "    #beta_s =\n",
    "    \n",
    "    theta_t1 = startvalue\n",
    "    \n",
    "    \n",
    "    thetavalues = np.empty(shape_tuple)\n",
    "    muvalues = np.empty(shape_tuble)\n",
    "    askvalues = np.empty(shape_tuble)\n",
    "    bidvalues = np.empty(shape_tuble)\n",
    "    gapvalues = np.empty(shape_tuble)\n",
    "    pivalues = np.empty(shape_tuble)\n",
    "    decisionvalues = np.empty(shape_tuble)\n",
    "    \n",
    "    \n",
    "    i=1\n",
    "    N = 500\n",
    "    \n",
    "    for i in range(N):\n",
    "        mu_t1 = theta_t1*v_h+(1-theta_t1)*v_l\n",
    "        muvalues[i-1] = mu_t1\n",
    "        \n",
    "        #determine markup/discount\n",
    "        s_a = (pi*theta_t1*(1-theta_t1))/(pi*theta_t1+(1-pi)*beta_b)*(v_h-v_l)\n",
    "        s_b = (pi*(1-theta_t1)*(1-theta_t1))/(pi*theta_t1+(1-pi)*beta_s)*(v_h-v_l)\n",
    "        \n",
    "        #calculate ask/bid price\n",
    "        askvalues[i] = a_t = mu_t1 + s_a\n",
    "        bidvalues[i] = b_t = mu_t1 + s_b \n",
    "        \n",
    "        #calculate gap\n",
    "        gapvalues[i] = gap_t = a_t - b_t\n",
    "        \n",
    "        #realize pi\n",
    "        pivalues[i] = trader = np.random.binomial(1,pi)\n",
    "        \n",
    "        #if trader is informed\n",
    "        if trader == 1:\n",
    "            if v == v_h:\n",
    "                if v_h>a_t:\n",
    "                    d_t=\"buy\"\n",
    "            if v == v_l:\n",
    "                if v_l<b_t:\n",
    "                    d_t=\"sell\"\n",
    "                    \n",
    "        #if trader is uninformed\n",
    "        if trader == 0:\n",
    "            decision = np.random.binomail(1,beta_b)\n",
    "            if decision == 1:\n",
    "                d_t = \"buy\"\n",
    "            else:\n",
    "                d_t = \"sell\"\n",
    "        \n",
    "        decisionvalues[i] = d_t\n",
    "        \n",
    "        #update theta\n",
    "        if d_t == \"buy\":\n",
    "            theta_t = ((1+pi)*beta_b)/(pi*theta_t1+(1-pi)*beta_b)*theta_t1\n",
    "            theta_t1 = theta_t\n",
    "        if d_t == \"sell\":\n",
    "            theta_t = ((1-pi)*beta_b)/(pi*(1-theta_t1)+(1-pi)*beta_b)*theta_t1\n",
    "            theta_t1 = theta_t\n",
    "        thetavalues[i] = theta_t\n",
    "    \n",
    "    dataframe = pd.DataFrame()\n",
    "    dataframe[\"mu\"]=muvalues\n",
    "    dataframe[\"ask\"]=askvalues\n",
    "    dataframe[\"bid\"]=bidvalues\n",
    "    dataframe[\"spread\"]=gapvalues\n",
    "    dataframe[\"Trader\"]=pivalues\n",
    "    dataframe[\"order\"]=decisionvalues\n",
    "    \n",
    "    return dataframe\n",
    "    \n",
    "    "
   ]
  },
  {
   "cell_type": "code",
   "execution_count": 3,
   "metadata": {},
   "outputs": [
    {
     "name": "stdout",
     "output_type": "stream",
     "text": [
      "   values\n",
      "0       2\n",
      "1       3\n",
      "2       5\n",
      "3       6\n",
      "4       6\n"
     ]
    }
   ],
   "source": [
    "values = (2,3,5,6,6)\n",
    "data = pd.DataFrame()\n",
    "data[\"values\"]=a"
   ]
  },
  {
   "cell_type": "code",
   "execution_count": 4,
   "metadata": {},
   "outputs": [
    {
     "ename": "NameError",
     "evalue": "name 'dataframe' is not defined",
     "output_type": "error",
     "traceback": [
      "\u001b[1;31m---------------------------------------------------------------------------\u001b[0m",
      "\u001b[1;31mNameError\u001b[0m                                 Traceback (most recent call last)",
      "\u001b[1;32m<ipython-input-4-5674f2920008>\u001b[0m in \u001b[0;36m<module>\u001b[1;34m\u001b[0m\n\u001b[1;32m----> 1\u001b[1;33m \u001b[0mprint\u001b[0m\u001b[1;33m(\u001b[0m\u001b[0mdataframe\u001b[0m\u001b[1;33m)\u001b[0m\u001b[1;33m\u001b[0m\u001b[1;33m\u001b[0m\u001b[0m\n\u001b[0m",
      "\u001b[1;31mNameError\u001b[0m: name 'dataframe' is not defined"
     ]
    }
   ],
   "source": [
    "print(dataframe)"
   ]
  },
  {
   "cell_type": "code",
   "execution_count": null,
   "metadata": {},
   "outputs": [],
   "source": []
  }
 ],
 "metadata": {
  "kernelspec": {
   "display_name": "Python 3",
   "language": "python",
   "name": "python3"
  },
  "language_info": {
   "codemirror_mode": {
    "name": "ipython",
    "version": 3
   },
   "file_extension": ".py",
   "mimetype": "text/x-python",
   "name": "python",
   "nbconvert_exporter": "python",
   "pygments_lexer": "ipython3",
   "version": "3.7.1"
  }
 },
 "nbformat": 4,
 "nbformat_minor": 2
}
