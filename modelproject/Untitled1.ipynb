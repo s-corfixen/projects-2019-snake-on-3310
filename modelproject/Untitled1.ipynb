{
 "cells": [
  {
   "cell_type": "code",
   "execution_count": 8,
   "metadata": {},
   "outputs": [],
   "source": [
    "import numpy as np\n",
    "import matplotlib.pyplot as plt\n",
    "import ipywidgets as widgets\n",
    "import time\n",
    "from scipy import linalg\n",
    "from scipy import optimize\n",
    "import sympy as sm\n",
    "\n",
    "# local module for linear algebra\n",
    "#%load_ext autoreload\n",
    "#%autoreload 2\n",
    "import numecon_linalg\n"
   ]
  },
  {
   "cell_type": "code",
   "execution_count": 9,
   "metadata": {},
   "outputs": [],
   "source": [
    "p_t = sm.symbols(\"P_t\")\n",
    "d_t = sm.symbols(\"d_t\")\n",
    "b_t = sm.symbols(\"b_t\")\n",
    "a_t = sm.symbols(\"a_t\")\n",
    "v = sm.symbols(\"v\")\n",
    "vh = sm.symbols(\"v**H\")\n",
    "vl = sm.symbols(\"v**L\")\n",
    "theta_t = sm.symbols(\"theta_t\")\n",
    "my_t = sm.symbols(\"my_t\")\n",
    "pi = sm.symbols(\"pi\")"
   ]
  },
  {
   "cell_type": "code",
   "execution_count": 16,
   "metadata": {},
   "outputs": [],
   "source": [
    "dealer_profit = theta_t*pi*(a_t-vh)+1/2*(1-pi)*(a_t-my_t)"
   ]
  },
  {
   "cell_type": "code",
   "execution_count": 17,
   "metadata": {},
   "outputs": [
    {
     "name": "stdout",
     "output_type": "stream",
     "text": [
      "\\pi \\theta_{t} \\left(a_{t} - v**H\\right) + \\left(a_{t} - my_{t}\\right) \\left(- 0.5 \\pi + 0.5\\right)\n"
     ]
    }
   ],
   "source": [
    "print(sm.latex(dealer_profit))"
   ]
  },
  {
   "cell_type": "markdown",
   "metadata": {},
   "source": [
    "\\pi \\theta_{t} \\left(a_{t} - v**H\\right) + \\left(a_{t} - my_{t}\\right) \\left(- 0.5 \\pi + 0.5\\right)\n"
   ]
  },
  {
   "cell_type": "code",
   "execution_count": null,
   "metadata": {},
   "outputs": [],
   "source": []
  }
 ],
 "metadata": {
  "kernelspec": {
   "display_name": "Python 3",
   "language": "python",
   "name": "python3"
  },
  "language_info": {
   "codemirror_mode": {
    "name": "ipython",
    "version": 3
   },
   "file_extension": ".py",
   "mimetype": "text/x-python",
   "name": "python",
   "nbconvert_exporter": "python",
   "pygments_lexer": "ipython3",
   "version": "3.7.1"
  }
 },
 "nbformat": 4,
 "nbformat_minor": 2
}
