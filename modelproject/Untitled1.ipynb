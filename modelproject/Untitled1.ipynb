{
 "cells": [
  {
   "cell_type": "markdown",
   "metadata": {},
   "source": [
    "# Glosten-Milgrom Model"
   ]
  },
  {
   "cell_type": "markdown",
   "metadata": {},
   "source": [
    "## Introduction"
   ]
  },
  {
   "cell_type": "markdown",
   "metadata": {},
   "source": [
    "## Deriving the model"
   ]
  },
  {
   "cell_type": "code",
   "execution_count": 1,
   "metadata": {},
   "outputs": [],
   "source": [
    "%matplotlib inline\n",
    "import numpy as np\n",
    "import matplotlib.pyplot as plt\n",
    "from matplotlib.figure import Figure\n",
    "import ipywidgets as widgets\n",
    "import time\n",
    "from scipy import linalg\n",
    "from scipy import optimize\n",
    "import sympy as sm\n",
    "import pandas as pd\n",
    "\n",
    "from plotter import PlotterWindow\n",
    "\n",
    "sm.init_printing(use_unicode=True)"
   ]
  },
  {
   "cell_type": "markdown",
   "metadata": {},
   "source": [
    "make symbols"
   ]
  },
  {
   "cell_type": "code",
   "execution_count": 2,
   "metadata": {},
   "outputs": [],
   "source": [
    "mu_t = sm.symbols(\"mu_t\")\n",
    "mu_t1 = sm.symbols(\"mu_t-1\")\n",
    "b_t = sm.symbols(\"b_t\")\n",
    "a_t = sm.symbols(\"a_t\")\n",
    "p_t = sm.symbols(\"P_t\")\n",
    "v = sm.symbols(\"v\")\n",
    "v_h = sm.symbols(\"v^H\")\n",
    "v_l = sm.symbols(\"v^L\")\n",
    "d_t = sm.symbols(\"d_t\")\n",
    "sd_t = sm.symbols(\"s(d_t)\")\n",
    "s_a = sm.symbols(\"s_t^a\")\n",
    "s_b = sm.symbols(\"s_t^b\")\n",
    "theta_t = sm.symbols(\"theta_t\")\n",
    "theta_t1 = sm.symbols(\"theta_t-1\")\n",
    "pi = sm.symbols(\"pi\")\n",
    "beta_b = sm.symbols(\"beta_B\")\n",
    "beta_s = sm.symbols(\"beta_S\")\n",
    "spib = sm.symbols(\"Pi_buy\")\n",
    "spis = sm.symbols(\"Pi_sell\")\n",
    "\n",
    "#pvh=sm.symbols(\"p(v_h)\")\n",
    "#pb=sm.symbols(\"p(Buy)\")\n",
    "#pbvh= sm.symbols('p(Buy|v_h)\\space')\n",
    "#pbvl= sm.symbols('p(Buy|v_l)\\space')\n",
    "#pvhb= sm.symbols('p(v_h|Buy)\\space')\n",
    "#pvlb=sm.symbols('p(v_l|Buy)\\space')\n",
    "\n",
    "theta_p=sm.symbols(\"theta^+\")\n",
    "theta_m=sm.symbols(\"theta^-\")"
   ]
  },
  {
   "cell_type": "markdown",
   "metadata": {},
   "source": [
    "There is a single market with 1 dealer. The dealer buys and sells a single security at the ask price $a_t$ and bid price $b_t$. In every time period t he takes a single order from a single trader. The order is denoted $d_t$ which takes the value 1 for buy order, -1 for a sale order and 0 for no order.\n",
    "\n",
    "On the market there are two types of traders, Informed traders and liquidity traders. The informed traders have a high amount of information about the security and knows the true value of it. Further they seek to maximize their profit trading with the security, which leads to only buying if the security value higher than the ask price and only selling selling if the value is lower than the bid price.\n",
    "Liquidity traders do not have information about the security or rather, they dont care. These traders buys or sells the security independent on the value of the security. Among liquidity traders you find traders who either seeks to diversify their portfolio, thus buy, or who needs to liquify some assets. The liquidity trader buys with probability $\\beta_B$ and sells with probability $\\beta_S$.\n",
    "\n",
    "$\\pi$ share of the traders is informed traders.\n",
    "\n",
    "On the market there is unequal information. The informed traders have private information about the value of the security. The dealer only has access to public information about the market, such as the ratio of informed traders. The dealer however receives information with each trade order. An informed trader would never sell if $a_t<v$, therefore an unequal amount of buy orders would indicate $v=v^H$\n",
    "\n",
    "\n",
    "Before we start on our model equations we make two assumptions:<br> i) The dealer is risk neutral and is in a competitive. <br> ii) there is no trade cost on orders on the market\n",
    "\n",
    "To simplify our model we set the security v to be binary distributed taking the value $v^H$ or $v^L$, the superscript denoting high and low value.\n",
    "\n",
    "The dealer has the belief $\\theta_t$, which is his estimate of the probability $p(v=v^h)=\\theta$. From his belief he finds his expected value of security v denoted $\\mu_t$"
   ]
  },
  {
   "cell_type": "code",
   "execution_count": 17,
   "metadata": {},
   "outputs": [
    {
     "data": {
      "image/png": "[encoded data removed]",
      "text/latex": [
       "$$\\mu_{t} = \\theta_{t} v^{H} + v^{L} \\left(- \\theta_{t} + 1\\right)$$"
      ],
      "text/plain": [
       "μₜ = θₜ⋅v__H + v__L⋅(-θₜ + 1)"
      ]
     },
     "execution_count": 17,
     "metadata": {},
     "output_type": "execute_result"
    }
   ],
   "source": [
    "sm.Eq(mu_t,theta_t*v_h+(1-theta_t)*v_l) "
   ]
  },
  {
   "cell_type": "markdown",
   "metadata": {},
   "source": [
    "The dealer sets his ask and bid price based on his expectition to v conditional on the information $\\Omega_{t-1}$ and whether he expects a buy or sell order.\n",
    "$$a_t=E(v\\mid \\Omega_{t-1} , d_t=1)$$\n",
    "$$b_t=E(v\\mid \\Omega_{t-1} , d_t=-1)$$\n",
    "Further, since the dealer is in a competitive market he sets the ask and bid price according to an expected null profit. Since the dealer does not know the true value of the security, he loses on every trade made with an informed trader. The deficit is made up by trading with liquidity traders. Based on his expectation to the security and his knowledge of the market, he derives the following profit functions"
   ]
  },
  {
   "cell_type": "code",
   "execution_count": 18,
   "metadata": {},
   "outputs": [
    {
     "data": {
      "image/png": "[encoded data removed]",
      "text/latex": [
       "$$\\beta_{B} \\left(a_{t} - \\mu_{t-1}\\right) \\left(- \\pi + 1\\right) + \\pi \\theta_{t-1} \\left(a_{t} - v^{H}\\right) = \\Pi^{buy}_{t}$$"
      ],
      "text/plain": [
       "β_B⋅(aₜ - μₜ₋₁)⋅(-π + 1) + π⋅θₜ₋₁⋅(aₜ - v__H) = Π_t__buy"
      ]
     },
     "execution_count": 18,
     "metadata": {},
     "output_type": "execute_result"
    }
   ],
   "source": [
    "sm.Eq(theta_t1*pi*(a_t-v_h)+beta_b*(1-pi)*(a_t-mu_t1), sm.symbols(\"Pi^buy_t\"))"
   ]
  },
  {
   "cell_type": "code",
   "execution_count": 19,
   "metadata": {},
   "outputs": [
    {
     "data": {
      "image/png": "[encoded data removed]",
      "text/latex": [
       "$$\\beta_{S} \\left(- b_{t} + \\mu_{t-1}\\right) \\left(- \\pi + 1\\right) + \\pi \\left(- b_{t} + v^{L}\\right) \\left(- \\theta_{t-1} + 1\\right) = \\Pi^{sell}_{t}$$"
      ],
      "text/plain": [
       "β_S⋅(-bₜ + μₜ₋₁)⋅(-π + 1) + π⋅(-bₜ + v__L)⋅(-θₜ₋₁ + 1) = Π_t__sell"
      ]
     },
     "execution_count": 19,
     "metadata": {},
     "output_type": "execute_result"
    }
   ],
   "source": [
    "sm.Eq((1-theta_t1)*pi*(v_l-b_t)+beta_s*(1-pi)*(mu_t1-b_t),sm.symbols(\"Pi^sell_t\"))"
   ]
  },
  {
   "cell_type": "markdown",
   "metadata": {},
   "source": [
    "From these profits he derives his optimal ask and bid price."
   ]
  },
  {
   "cell_type": "code",
   "execution_count": 20,
   "metadata": {},
   "outputs": [
    {
     "data": {
      "image/png": "[encoded data removed]",
      "text/latex": [
       "$$\\mu_{t-1} + \\frac{\\pi \\theta_{t-1} \\left(- \\theta_{t-1} + 1\\right) \\left(v^{H} - v^{L}\\right)}{\\beta_{B} \\left(- \\pi + 1\\right) + \\pi \\theta_{t-1}} = a_{t}$$"
      ],
      "text/plain": [
       "       π⋅θₜ₋₁⋅(-θₜ₋₁ + 1)⋅(v__H - v__L)     \n",
       "μₜ₋₁ + ──────────────────────────────── = aₜ\n",
       "            β_B⋅(-π + 1) + π⋅θₜ₋₁           "
      ]
     },
     "execution_count": 20,
     "metadata": {},
     "output_type": "execute_result"
    }
   ],
   "source": [
    "sm.Eq(mu_t1+(pi*theta_t1*(1-theta_t1))/(pi*theta_t1+(1-pi)*beta_b)*(v_h-v_l), a_t)"
   ]
  },
  {
   "cell_type": "code",
   "execution_count": 21,
   "metadata": {},
   "outputs": [
    {
     "data": {
      "image/png": "[encoded data removed]",
      "text/latex": [
       "$$\\mu_{t-1} - \\frac{\\pi \\left(- \\theta_{t-1} + 1\\right)^{2} \\left(v^{H} - v^{L}\\right)}{\\beta_{S} \\left(- \\pi + 1\\right) + \\pi \\theta_{t-1}} = b_{t}$$"
      ],
      "text/plain": [
       "                    2                   \n",
       "       π⋅(-θₜ₋₁ + 1) ⋅(v__H - v__L)     \n",
       "μₜ₋₁ - ──────────────────────────── = bₜ\n",
       "          β_S⋅(-π + 1) + π⋅θₜ₋₁         "
      ]
     },
     "execution_count": 21,
     "metadata": {},
     "output_type": "execute_result"
    }
   ],
   "source": [
    "sm.Eq(mu_t1-(pi*(1-theta_t1)*(1-theta_t1))/(pi*theta_t1+(1-pi)*beta_s)*(v_h-v_l),b_t)"
   ]
  },
  {
   "cell_type": "markdown",
   "metadata": {},
   "source": [
    "The ask and bid price equal the dealers expected value of the security with a markup and discount respectively. We denote the markup $s_t^a$ and the discount $s_t^b$"
   ]
  },
  {
   "cell_type": "code",
   "execution_count": 22,
   "metadata": {},
   "outputs": [
    {
     "data": {
      "image/png": "[encoded data removed]",
      "text/latex": [
       "$$\\mu_{t-1} + s^{a}_{t} = a_{t}$$"
      ],
      "text/plain": [
       "μₜ₋₁ + s_t__a = aₜ"
      ]
     },
     "execution_count": 22,
     "metadata": {},
     "output_type": "execute_result"
    }
   ],
   "source": [
    "sm.Eq((pi*theta_t1*(1-theta_t1))/(pi*theta_t1+(1-pi)*beta_b)*(v_h-v_l), s_a)\n",
    "sm.Eq(mu_t1+s_a, a_t)"
   ]
  },
  {
   "cell_type": "code",
   "execution_count": 23,
   "metadata": {},
   "outputs": [
    {
     "data": {
      "image/png": "[encoded data removed]",
      "text/latex": [
       "$$\\mu_{t-1} - s^{b}_{t} = b_{t}$$"
      ],
      "text/plain": [
       "μₜ₋₁ - s_t__b = bₜ"
      ]
     },
     "execution_count": 23,
     "metadata": {},
     "output_type": "execute_result"
    }
   ],
   "source": [
    "sm.Eq((pi*(1-theta_t1)*(1-theta_t1))/(pi*theta_t1+(1-pi)*beta_s)*(v_h-v_l), s_b)\n",
    "sm.Eq(mu_t1-s_b, b_t)"
   ]
  },
  {
   "cell_type": "markdown",
   "metadata": {},
   "source": [
    "Depending on the trade order the dealer receives in period t, his beliefs about the value of the security in period t+1 is changed.\n",
    "$$\\theta_t^{+}\\equiv P(v=v^H|\\Omega_{t-1},d_t=1)$$\n",
    "$$\\theta_t^{-}\\equiv P(v=v^L|\\Omega_{t-1},d_t=-1)$$"
   ]
  },
  {
   "cell_type": "code",
   "execution_count": 24,
   "metadata": {},
   "outputs": [
    {
     "data": {
      "image/png": "[encoded data removed]",
      "text/latex": [
       "$$\\frac{\\beta_{B} \\left(\\pi + 1\\right)}{\\beta_{B} \\left(- \\pi + 1\\right) + \\pi \\theta_{t-1}} = \\theta^{+}$$"
      ],
      "text/plain": [
       "     β_B⋅(π + 1)          \n",
       "───────────────────── = θ⁺\n",
       "β_B⋅(-π + 1) + π⋅θₜ₋₁     "
      ]
     },
     "execution_count": 24,
     "metadata": {},
     "output_type": "execute_result"
    }
   ],
   "source": [
    "sm.Eq(((1+pi)*beta_b)/(pi*theta_t1+(1-pi)*beta_b),theta_p)"
   ]
  },
  {
   "cell_type": "code",
   "execution_count": 25,
   "metadata": {},
   "outputs": [
    {
     "data": {
      "image/png": "[encoded data removed]",
      "text/latex": [
       "$$\\frac{\\beta_{S} \\left(- \\pi + 1\\right)}{\\beta_{S} \\left(- \\pi + 1\\right) + \\pi \\left(- \\theta_{t-1} + 1\\right)} = \\theta^{-}$$"
      ],
      "text/plain": [
       "        β_S⋅(-π + 1)             \n",
       "──────────────────────────── = θ⁻\n",
       "β_S⋅(-π + 1) + π⋅(-θₜ₋₁ + 1)     "
      ]
     },
     "execution_count": 25,
     "metadata": {},
     "output_type": "execute_result"
    }
   ],
   "source": [
    "sm.Eq(((1-pi)*beta_s)/(pi*(1-theta_t1)+(1-pi)*beta_s),theta_m)"
   ]
  },
  {
   "cell_type": "markdown",
   "metadata": {},
   "source": [
    "With his updated beliefs about the security, the dealer updates his expectation of the value of the security for the period t+1. If the dealer recieved a buy order in in period t, his expectation $\\mu$ can be shown to have the following relation \n",
    "$$\\mu^+_{t+1}-\\mu_t=s_t^a$$\n",
    "The dealers expectation for any order is therefore \n",
    "$$\\mu_t=\\mu_{t-1}+s(d_t)d_t$$\n",
    "with $s(d_t)\\equiv \\begin{cases} s_t^a & d_t=1 \\\\ s_t^b & d_t=-1 \\end{cases}$"
   ]
  },
  {
   "cell_type": "code",
   "execution_count": 7,
   "metadata": {},
   "outputs": [],
   "source": [
    "abs(v-p_t)\n",
    "p_t=mu_t1+buyprob*sa+sellprob*sb\n",
    "p_t=mu_t1+buyprob*sa+sellprob*sb\n",
    "\n",
    "\n",
    "funcmini = abs(v-p_t)\n",
    "sm.lambdify\n",
    "spib = theta_t1*pi*(a_t-v_h)+beta_b*(1-pi)*(a_t-mu_t1)\n",
    "spis = (1-theta_t1)*pi*(v_l-b_t)+beta_s*(1-pi)*(mu_t1-b_t)\n",
    "\n",
    "a_t = mu_t1 + s_a\n",
    "b_t = mu_t1 - s_b\n",
    "\n",
    "s_a = (pi*theta_t1*(1-theta_t1))/(pi*theta_t1+(1-pi)*beta_b)*(v_h-v_l)\n",
    "s_b = (pi*(1-theta_t1)*(1-theta_t1))/(pi*theta_t1+(1-pi)*beta_s)*(v_h-v_l)\n",
    "\n"
   ]
  },
  {
   "cell_type": "code",
   "execution_count": 26,
   "metadata": {},
   "outputs": [
    {
     "ename": "TypeError",
     "evalue": "'Equality' object is not callable",
     "output_type": "error",
     "traceback": [
      "\u001b[1;31m---------------------------------------------------------------------------\u001b[0m",
      "\u001b[1;31mTypeError\u001b[0m                                 Traceback (most recent call last)",
      "\u001b[1;32m<ipython-input-26-4d44aa0d90b4>\u001b[0m in \u001b[0;36m<module>\u001b[1;34m\u001b[0m\n\u001b[0;32m      1\u001b[0m \u001b[0mmarkup\u001b[0m \u001b[1;33m=\u001b[0m \u001b[0msm\u001b[0m\u001b[1;33m.\u001b[0m\u001b[0mEq\u001b[0m\u001b[1;33m(\u001b[0m\u001b[1;33m(\u001b[0m\u001b[1;33m(\u001b[0m\u001b[1;36m1\u001b[0m\u001b[1;33m+\u001b[0m\u001b[0mpi\u001b[0m\u001b[1;33m)\u001b[0m\u001b[1;33m*\u001b[0m\u001b[0mbeta_b\u001b[0m\u001b[1;33m)\u001b[0m\u001b[1;33m/\u001b[0m\u001b[1;33m(\u001b[0m\u001b[0mpi\u001b[0m\u001b[1;33m*\u001b[0m\u001b[0mtheta_t1\u001b[0m\u001b[1;33m+\u001b[0m\u001b[1;33m(\u001b[0m\u001b[1;36m1\u001b[0m\u001b[1;33m-\u001b[0m\u001b[0mpi\u001b[0m\u001b[1;33m)\u001b[0m\u001b[1;33m*\u001b[0m\u001b[0mbeta_b\u001b[0m\u001b[1;33m)\u001b[0m\u001b[1;33m,\u001b[0m\u001b[0mtheta_p\u001b[0m\u001b[1;33m)\u001b[0m\u001b[1;33m\u001b[0m\u001b[1;33m\u001b[0m\u001b[0m\n\u001b[0;32m      2\u001b[0m \u001b[1;33m\u001b[0m\u001b[0m\n\u001b[1;32m----> 3\u001b[1;33m \u001b[0ma_t\u001b[0m\u001b[1;33m*\u001b[0m\u001b[0mmarkup\u001b[0m\u001b[1;33m(\u001b[0m\u001b[1;36m0\u001b[0m\u001b[1;33m)\u001b[0m\u001b[1;33m\u001b[0m\u001b[1;33m\u001b[0m\u001b[0m\n\u001b[0m",
      "\u001b[1;31mTypeError\u001b[0m: 'Equality' object is not callable"
     ]
    }
   ],
   "source": [
    "markup = sm.Eq(((1+pi)*beta_b)/(pi*theta_t1+(1-pi)*beta_b),theta_p)\n",
    "\n",
    "a_t*markup"
   ]
  },
  {
   "cell_type": "markdown",
   "metadata": {},
   "source": [
    "## Simulation of the model\n"
   ]
  },
  {
   "cell_type": "markdown",
   "metadata": {},
   "source": [
    "![Flowchart](flowchart.png)"
   ]
  },
  {
   "cell_type": "code",
   "execution_count": 26,
   "metadata": {},
   "outputs": [],
   "source": [
    "def simulation(distribution=(0,1), decision=\"v_h\", ratio=0.2, uninformed=0.5, startvalue=0.5, iterations = 500, seed=5000, epsilon=10**-5, shockperiod = None, shock={}):\n",
    "    #define constants\n",
    "    v_l, v_h = distribution\n",
    "    pi = ratio\n",
    "    beta_b = uninformed\n",
    "    beta_s = 1-beta_b\n",
    "    shock = shock\n",
    "    \n",
    "    #determine realized value of v\n",
    "    v = decision\n",
    "    \n",
    "    #allocate space\n",
    "    values={}\n",
    "    ratiovalues = []\n",
    "    iteration = []\n",
    "    thetavalues = np.empty(iterations)\n",
    "    muvalues = np.empty(iterations)\n",
    "    askvalues = np.empty(iterations)\n",
    "    bidvalues = np.empty(iterations)\n",
    "    gapvalues = np.empty(iterations)\n",
    "    pivalues = np.empty(iterations)\n",
    "    decisionvalues = np.empty(iterations)\n",
    "    \n",
    "    #simulation settings\n",
    "    thetavalues[0]=startvalue\n",
    "    theta_t1 = startvalue\n",
    "    N = iterations\n",
    "    np.random.seed(seed)\n",
    "    \n",
    "    break_index = 0\n",
    "    for i in range(N):\n",
    "        \n",
    "        if i==shockperiod:\n",
    "            if shock != {}:\n",
    "                if \"Public\" not in shock:\n",
    "                    if shock[\"Private\"]==1:\n",
    "                        v=\"v_h\"\n",
    "                    if shock[\"Private\"]==0:\n",
    "                        v=\"v_l\"\n",
    "\n",
    "                elif \"Private\" not in shock:\n",
    "                    v_l, v_h = shock[\"Public\"] \n",
    "                    v = decision\n",
    "                \n",
    "                else:\n",
    "                    v_l, v_h = shock[\"Public\"]\n",
    "                    if shock[\"Private\"]==1:\n",
    "                        v=\"v_h\"\n",
    "                    if shock[\"Private\"]==0:\n",
    "                        v=\"v_l\"\n",
    "                    \n",
    "        if v==\"v_h\":\n",
    "            v=v_h\n",
    "        elif v==\"v_l\":\n",
    "            v=v_l\n",
    "            \n",
    "        \n",
    "        mu_t1 = theta_t1*v_h+(1-theta_t1)*v_l\n",
    "        muvalues[i] = mu_t1\n",
    "        \n",
    "        #calculate markup/discount\n",
    "        s_a = (pi*theta_t1*(1-theta_t1))/(pi*theta_t1+(1-pi)*beta_b)*(v_h-v_l)\n",
    "        s_b = (pi*theta_t1*(1-theta_t1))/(pi*(1-theta_t1)+(1-pi)*beta_s)*(v_h-v_l)\n",
    "        \n",
    "        #calculate ask/bid price\n",
    "        askvalues[i] = a_t = mu_t1 + s_a\n",
    "        bidvalues[i] = b_t = mu_t1 - s_b \n",
    "        \n",
    "        #calculate gap\n",
    "        gapvalues[i] = gap_t = a_t - b_t\n",
    "        \n",
    "        #realize pi\n",
    "        trader = np.random.binomial(1,pi)\n",
    "        pivalues[i] = trader\n",
    "        #if trader is informed\n",
    "        if trader == 1:\n",
    "            if v == v_h:\n",
    "                if v_h>a_t:\n",
    "                    d_t=1\n",
    "            elif v == v_l:\n",
    "                if v_l<b_t:\n",
    "                    d_t=-1\n",
    "            else:\n",
    "                d_t=0\n",
    "                    \n",
    "        #if trader is uninformed\n",
    "        if trader == 0:\n",
    "            buysell = np.random.binomial(1,beta_b)\n",
    "            if buysell == 1:\n",
    "                d_t = 1\n",
    "            else:\n",
    "                d_t = -1\n",
    "        \n",
    "        decisionvalues[i] = d_t\n",
    "        \n",
    "        #update theta\n",
    "        if d_t == 1:\n",
    "            theta_t = ((1+pi)*beta_b)/(pi*theta_t1+(1-pi)*beta_b)*theta_t1\n",
    "            theta_t1 = theta_t\n",
    "        elif d_t == -1:\n",
    "            theta_t = ((1-pi)*beta_b)/(pi*(1-theta_t1)+(1-pi)*beta_b)*theta_t1\n",
    "            theta_t1 = theta_t\n",
    "        \n",
    "        if i<iterations-1:\n",
    "            thetavalues[i+1] = theta_t\n",
    "        ratiovalues.append(str(ratio))\n",
    "        iteration.append(int(i))\n",
    "        \n",
    "        #off by one error\n",
    "        break_index=i+1\n",
    "        if gap_t<epsilon or i == N-1:\n",
    "            values.update({\"Theta\": theta_t,\"Bid\": b_t, \"Ask\": (a_t), \"Mu\": mu_t1, \"Equilibrium period\": break_index-1})\n",
    "            break\n",
    "            \n",
    "    \n",
    "    dataframe = pd.DataFrame()\n",
    "    dataframe[\"Iteration\"] = iteration\n",
    "    dataframe[\"ratio\"] = ratiovalues\n",
    "    dataframe[\"theta\"] = thetavalues[0:break_index]\n",
    "    dataframe[\"mu\"] = muvalues[0:break_index]\n",
    "    dataframe[\"ask\"] = askvalues[0:break_index]\n",
    "    dataframe[\"bid\"] = bidvalues[0:break_index]\n",
    "    dataframe[\"spread\"] = gapvalues[0:break_index]\n",
    "    dataframe[\"trader\"] = pivalues[0:break_index]\n",
    "    dataframe[\"order\"] = decisionvalues[0:break_index]\n",
    "    \n",
    "    return dataframe, values"
   ]
  },
  {
   "cell_type": "code",
   "execution_count": 75,
   "metadata": {},
   "outputs": [],
   "source": [
    "def numericalsolution(N=1000, ratio=0.15):\n",
    "    data = pd.DataFrame()\n",
    "    \n",
    "    for i in range(N):\n",
    "        seed = int(np.random.uniform(0,10000))\n",
    "        dataframe, values = simulation(distribution=(0,10), ratio=ratio, startvalue=0.5, iterations = 1001, seed=seed, epsilon=5**-5)\n",
    "        \n",
    "        for key in values:\n",
    "            data.loc[i,key]=values[key]\n",
    "            \n",
    "    meanvalues = {}\n",
    "    for key in list(data.columns):\n",
    "        meanvalues[key]=data[key].mean()\n",
    "    return meanvalues"
   ]
  },
  {
   "cell_type": "code",
   "execution_count": 76,
   "metadata": {},
   "outputs": [
    {
     "data": {
      "text/plain": [
       "{'Theta': 0.9999767533568719,\n",
       " 'Bid': 9.999634397522978,\n",
       " 'Ask': 9.999868380028435,\n",
       " 'Mu': 9.999780635305795,\n",
       " 'Equilibrium period': 85.546}"
      ]
     },
     "execution_count": 76,
     "metadata": {},
     "output_type": "execute_result"
    }
   ],
   "source": [
    "ratiolist = []\n",
    "periodlist = []\n",
    "for i in range(98):\n",
    "    num = ((i+1)/100)\n",
    "    values = numericalsolution(ratio=num)\n",
    "    \n",
    "    ratiolist.append(num)\n",
    "    periodlist.append(values[\"Equilibrium period\"])"
   ]
  },
  {
   "cell_type": "code",
   "execution_count": 71,
   "metadata": {},
   "outputs": [
    {
     "name": "stdout",
     "output_type": "stream",
     "text": [
      "    ne   yo\n",
      "0  1.0  3.0\n"
     ]
    }
   ],
   "source": [
    "data=pd.DataFrame()\n",
    "values={\"ne\": 1, \"yo\": 3}\n",
    "for key in values:\n",
    "    data.loc[0, key]=values[key]\n",
    "print(data)"
   ]
  },
  {
   "cell_type": "code",
   "execution_count": 27,
   "metadata": {},
   "outputs": [],
   "source": [
    "thetarun1 = simulation(ratio=0.15, iterations=201,seed=4795)\n",
    "thetarun2 = simulation(ratio=0.15, iterations=201,seed=6279)\n",
    "thetarun3 = simulation(ratio=0.15, iterations=201,seed=6130)\n",
    "thetarun4 = simulation(ratio=0.15, iterations=201,seed=9352)\n",
    "thetarun5 = simulation(ratio=0.15, iterations=201,seed=5059)\n",
    "\n",
    "thetadata1, thetavalues1 = thetarun1\n",
    "thetadata2, thetavalues2 = thetarun2\n",
    "thetadata3, thetavalues3 = thetarun3\n",
    "thetadata4, thetavalues4 = thetarun4\n",
    "thetadata5, thetavalues5 = thetarun5"
   ]
  },
  {
   "cell_type": "code",
   "execution_count": 28,
   "metadata": {},
   "outputs": [
    {
     "data": {
      "text/plain": [
       "Text(0.5, 1.0, 'Theta')"
      ]
     },
     "execution_count": 28,
     "metadata": {},
     "output_type": "execute_result"
    },
    {
     "data": {
      "image/png": "[encoded data removed]",
      "text/plain": [
       "<Figure size 600x400 with 1 Axes>"
      ]
     },
     "metadata": {
      "needs_background": "light"
     },
     "output_type": "display_data"
    }
   ],
   "source": [
    "fig = plt.figure(dpi=100)\n",
    "ax2 = fig.add_subplot(1,1,1)\n",
    "ax2.plot(thetadata1[\"theta\"], label=\"1\")\n",
    "ax2.plot(thetadata2[\"theta\"], label=\"2\")\n",
    "ax2.plot(thetadata3[\"theta\"], label=\"3\")\n",
    "ax2.plot(thetadata4[\"theta\"], label=\"4\")\n",
    "ax2.plot(thetadata5[\"theta\"], label=\"\")\n",
    "ax2.grid(True)\n",
    "ax2.legend()\n",
    "ax2.set_title(\"Theta\")"
   ]
  },
  {
   "cell_type": "code",
   "execution_count": 10,
   "metadata": {},
   "outputs": [],
   "source": [
    "pirun1 = simulation(ratio=0.10, iterations=1001, seed=404)\n",
    "pirun2 = simulation(ratio=0.15, iterations=1001, seed=404)\n",
    "pirun3 = simulation(ratio=0.25, iterations=1001, seed=404)\n",
    "pirun4 = simulation(ratio=0.5, iterations=201, seed=404)\n",
    "pirun5 = simulation(ratio=0.9, iterations=201, seed=404)\n",
    "\n",
    "pirundata1, pirunvalues1 = pirun1\n",
    "pirundata2, pirunvalues2 = pirun2\n",
    "pirundata3, pirunvalues3 = pirun3 \n",
    "pirundata4, pirunvalues4 = pirun4\n",
    "pirundata5, pirunvalues5 = pirun5\n",
    "\n",
    "pirunmerged = pd.concat([pirundata1, pirundata2, pirundata3, pirundata4, pirundata5])"
   ]
  },
  {
   "cell_type": "code",
   "execution_count": 11,
   "metadata": {},
   "outputs": [
    {
     "name": "stderr",
     "output_type": "stream",
     "text": [
      "C:\\Users\\Corfixen\\Anaconda3\\lib\\site-packages\\matplotlib\\figure.py:98: MatplotlibDeprecationWarning: \n",
      "Adding an axes using the same arguments as a previous axes currently reuses the earlier instance.  In a future version, a new instance will always be created and returned.  Meanwhile, this warning can be suppressed, and the future behavior ensured, by passing a unique label to each axes instance.\n",
      "  \"Adding an axes using the same arguments as a previous axes \"\n"
     ]
    }
   ],
   "source": [
    "pirungraphwindow = PlotterWindow(data = pirunmerged, slicename = \"ratio\", xvariable = \"Iteration\", yvariablelist = [\"mu\",\"ask\",\"bid\"], graphtype =\"piplot\")\n",
    "pirungraphwindow.start()"
   ]
  },
  {
   "cell_type": "code",
   "execution_count": 12,
   "metadata": {},
   "outputs": [
    {
     "name": "stderr",
     "output_type": "stream",
     "text": [
      "No handles with labels found to put in legend.\n",
      "No handles with labels found to put in legend.\n"
     ]
    }
   ],
   "source": [
    "pirungraphwindow2 = PlotterWindow(data = pirunmerged, slicename = \"ratio\", graphtype = \"candlestick\")\n",
    "pirungraphwindow2.start()"
   ]
  },
  {
   "cell_type": "code",
   "execution_count": 13,
   "metadata": {},
   "outputs": [],
   "source": [
    "shockrun1 = simulation(ratio=0.151, iterations=1001, seed=404, shockperiod = 90, shock={\"Private\":0})\n",
    "shockrun2 = simulation(ratio=0.152, iterations=1001, seed=404, shockperiod = 90, shock={\"Public\":(0.3, 0.8)})\n",
    "shockrun3 = simulation(ratio=0.153, iterations=1001, seed=404, shockperiod = 90, shock={\"Private\":0, \"Public\":(0.3,0.8)})\n",
    "\n",
    "shockdata1, shockvalues1 = shockrun1\n",
    "shockdata2, shockvalues2 = shockrun2\n",
    "shockdata3, shockvalues3 = shockrun3\n",
    "\n",
    "shockmerged = pd.concat([shockdata1,shockdata2,shockdata3])"
   ]
  },
  {
   "cell_type": "code",
   "execution_count": 14,
   "metadata": {},
   "outputs": [],
   "source": [
    "shockgraphwindow = PlotterWindow(data = shockmerged, slicename = \"ratio\", xvariable = \"Iteration\", yvariablelist = [\"mu\",\"ask\",\"bid\"], graphtype=\"piplot\")\n",
    "shockgraphwindow.start()"
   ]
  },
  {
   "cell_type": "code",
   "execution_count": null,
   "metadata": {},
   "outputs": [],
   "source": []
  }
 ],
 "metadata": {
  "kernelspec": {
   "display_name": "Python 3",
   "language": "python",
   "name": "python3"
  },
  "language_info": {
   "codemirror_mode": {
    "name": "ipython",
    "version": 3
   },
   "file_extension": ".py",
   "mimetype": "text/x-python",
   "name": "python",
   "nbconvert_exporter": "python",
   "pygments_lexer": "ipython3",
   "version": "3.7.1"
  }
 },
 "nbformat": 4,
 "nbformat_minor": 2
}
