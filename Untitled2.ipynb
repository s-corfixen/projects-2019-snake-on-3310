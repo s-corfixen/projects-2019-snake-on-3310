{
 "cells": [
  {
   "cell_type": "code",
   "execution_count": null,
   "metadata": {},
   "outputs": [],
   "source": [
    "import pydst\n",
    "import tkinter as tk\n",
    "import pandas as pd\n",
    "\n",
    "master = tk.Tk()\n",
    "\n",
    "menu_items = {\"eggs\":7, \"chips\":1, \"beer\":2}\n",
    "selected = {}\n",
    "\n",
    "def calculate():\n",
    "    bill = 0\n",
    "    for item in menu_items:\n",
    "        if selected[item].get():\n",
    "            bill += menu_items[item]\n",
    "\n",
    "    results.delete(1.0, tk.END)\n",
    "    results.insert(tk.END, \"Total cost - £\" + str(bill))\n",
    "\n",
    "for item in menu_items:\n",
    "    is_selected = tk.BooleanVar()\n",
    "    button = tk.Checkbutton(master, text=item, variable=is_selected)\n",
    "    button.grid(sticky=\"w\")\n",
    "    selected[item] = is_selected\n",
    "\n",
    "#purchase_btn = tk.Button(master, text=\"Calculate\", command=calculate)\n",
    "#purchase_btn.grid()\n",
    "\n",
    "results = tk.Text(master)\n",
    "results.grid(columnspan=2)\n",
    "\n",
    "master.mainloop()"
   ]
  },
  {
   "cell_type": "raw",
   "metadata": {},
   "source": [
    "dict1 = {\"header\": [{\"id\":value, \"text\":value}]}\n",
    "\n",
    "selected = {textvalue: boolean}\n",
    "\n",
    "ønsket resulatat = {\"header\": idvalue}"
   ]
  },
  {
   "cell_type": "code",
   "execution_count": 6,
   "metadata": {},
   "outputs": [],
   "source": [
    "dict = {\"header1\": [{\"id\":1, \"text\":\"df\"}], \"header2\": [{\"id\":2, \"text\":\"fd\"}], \"header3\": [{\"id\":3, \"text\":\"gf\"}]}\n",
    "\n",
    "dict2 = {\"df\": True, \"fd\": False, \"gf\": True}\n",
    "\n",
    "Ønsket = {\"header1\": [\"df\"], \"header3\":[\"gf\"]}"
   ]
  },
  {
   "cell_type": "code",
   "execution_count": 9,
   "metadata": {},
   "outputs": [],
   "source": [
    "dicte = {}\n",
    "\n",
    "for header, elist in dict.items():\n",
    "    list1 = []\n",
    "    for key in dict2:\n",
    "        if dict2[key]==True:\n",
    "            list1.append(key)\n",
    "    list2 = []\n",
    "    for dic in elist:\n",
    "        if dic[\"text\"] in list1:\n",
    "            list2.append(dic[\"id\"])\n",
    "    if list2 != []:\n",
    "        dicte.update({header: list2})        \n",
    "\n"
   ]
  },
  {
   "cell_type": "code",
   "execution_count": 10,
   "metadata": {},
   "outputs": [
    {
     "name": "stdout",
     "output_type": "stream",
     "text": [
      "{'header1': [1], 'header3': [3]}\n"
     ]
    }
   ],
   "source": [
    "print(dicte)"
   ]
  },
  {
   "cell_type": "code",
   "execution_count": 14,
   "metadata": {},
   "outputs": [
    {
     "name": "stdout",
     "output_type": "stream",
     "text": [
      "True\n"
     ]
    }
   ],
   "source": [
    "print(str(dict2[\"df\"]))\n",
    "      "
   ]
  },
  {
   "cell_type": "code",
   "execution_count": 12,
   "metadata": {},
   "outputs": [],
   "source": [
    "from tkinter import *\n",
    "import tkinter.messagebox\n",
    "import tkinter\n",
    "\n",
    "top = Tk()\n",
    "\n",
    "Lb1 = Listbox(top, selectmode=\"extended\")\n",
    "Lb1.insert(1, \"Python\")\n",
    "Lb1.insert(2, \"Perl\")\n",
    "Lb1.insert(3, \"C\")\n",
    "Lb1.insert(4, \"PHP\")\n",
    "Lb1.insert(5, \"JSP\")\n",
    "Lb1.insert(6, \"Ruby\")\n",
    "\n",
    "Lb1.pack()\n",
    "top.mainloop()"
   ]
  },
  {
   "cell_type": "code",
   "execution_count": null,
   "metadata": {},
   "outputs": [],
   "source": []
  },
  {
   "cell_type": "code",
   "execution_count": null,
   "metadata": {},
   "outputs": [],
   "source": []
  }
 ],
 "metadata": {
  "kernelspec": {
   "display_name": "Python 3",
   "language": "python",
   "name": "python3"
  },
  "language_info": {
   "codemirror_mode": {
    "name": "ipython",
    "version": 3
   },
   "file_extension": ".py",
   "mimetype": "text/x-python",
   "name": "python",
   "nbconvert_exporter": "python",
   "pygments_lexer": "ipython3",
   "version": "3.7.1"
  }
 },
 "nbformat": 4,
 "nbformat_minor": 2
}
