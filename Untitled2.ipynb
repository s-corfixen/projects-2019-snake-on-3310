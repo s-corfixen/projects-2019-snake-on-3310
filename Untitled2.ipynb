{
 "cells": [
  {
   "cell_type": "code",
   "execution_count": null,
   "metadata": {},
   "outputs": [],
   "source": [
    "import pydst\n",
    "import tkinter as tk\n",
    "import pandas as pd\n",
    "\n",
    "master = tk.Tk()\n",
    "\n",
    "menu_items = {\"eggs\":7, \"chips\":1, \"beer\":2}\n",
    "selected = {}\n",
    "\n",
    "#def calculate():\n",
    "#    bill = 0\n",
    "#    for item in menu_items:\n",
    "#        if selected[item].get():\n",
    "#            bill += menu_items[item]\n",
    "\n",
    "#    results.delete(1.0, tk.END)\n",
    "#    results.insert(tk.END, \"Total cost - £\" + str(bill))\n",
    "\n",
    "for item in menu_items:\n",
    "    is_selected = tk.BooleanVar()\n",
    "    button = tk.Checkbutton(master, text=item, variable=is_selected)\n",
    "    button.grid(sticky=\"w\")\n",
    "    selected[item] = is_selected\n",
    "\n",
    "#purchase_btn = tk.Button(master, text=\"Calculate\", command=calculate)\n",
    "#purchase_btn.grid()\n",
    "\n",
    "results = tk.Text(master)\n",
    "results.grid(columnspan=2)\n",
    "\n",
    "master.mainloop()"
   ]
  },
  {
   "cell_type": "raw",
   "metadata": {},
   "source": [
    "dict1 = {\"header\": [{\"id\":value, \"text\":value}]}\n",
    "\n",
    "selected = {textvalue: boolean}\n",
    "\n",
    "ønsket resulatat = {\"header\": idvalue}"
   ]
  },
  {
   "cell_type": "code",
   "execution_count": 1,
   "metadata": {},
   "outputs": [],
   "source": [
    "dict = {\"header1\": [{\"id1\":1, \"text1\":\"1\"}], \"header2\": [{\"id2\":2, \"text2\":\"2\"}], \"header3\": [{\"id3\":3, \"text3\":\"3\"}]}\n",
    "\n",
    "dict2 = {\"1\": True, \"2\": False, \"3\": True}\n",
    "\n",
    "Ønsket = {\"header1\": [1], \"header2\": [2], \"header3\":[3]}"
   ]
  },
  {
   "cell_type": "code",
   "execution_count": 11,
   "metadata": {},
   "outputs": [
    {
     "ename": "TypeError",
     "evalue": "unhashable type: 'list'",
     "output_type": "error",
     "traceback": [
      "\u001b[1;31m---------------------------------------------------------------------------\u001b[0m",
      "\u001b[1;31mTypeError\u001b[0m                                 Traceback (most recent call last)",
      "\u001b[1;32m<ipython-input-11-b2f56efaf6c2>\u001b[0m in \u001b[0;36m<module>\u001b[1;34m\u001b[0m\n\u001b[0;32m      4\u001b[0m         \u001b[0mdict2\u001b[0m\u001b[1;33m[\u001b[0m\u001b[0mkey\u001b[0m\u001b[1;33m]\u001b[0m\u001b[1;33m==\u001b[0m\u001b[1;32mTrue\u001b[0m\u001b[1;33m\u001b[0m\u001b[1;33m\u001b[0m\u001b[0m\n\u001b[0;32m      5\u001b[0m         \u001b[0mlist\u001b[0m\u001b[1;33m.\u001b[0m\u001b[0mappend\u001b[0m\u001b[1;33m(\u001b[0m\u001b[0mkey\u001b[0m\u001b[1;33m)\u001b[0m\u001b[1;33m\u001b[0m\u001b[1;33m\u001b[0m\u001b[0m\n\u001b[1;32m----> 6\u001b[1;33m     \u001b[0mnydict\u001b[0m \u001b[1;33m=\u001b[0m \u001b[0mdict\u001b[0m\u001b[1;33m[\u001b[0m\u001b[0mlist\u001b[0m\u001b[1;33m]\u001b[0m\u001b[1;33m\u001b[0m\u001b[1;33m\u001b[0m\u001b[0m\n\u001b[0m\u001b[0;32m      7\u001b[0m     \u001b[0mprint\u001b[0m\u001b[1;33m(\u001b[0m\u001b[0mnydict\u001b[0m\u001b[1;33m)\u001b[0m\u001b[1;33m\u001b[0m\u001b[1;33m\u001b[0m\u001b[0m\n",
      "\u001b[1;31mTypeError\u001b[0m: unhashable type: 'list'"
     ]
    }
   ],
   "source": [
    "\n",
    "        \n",
    "        "
   ]
  },
  {
   "cell_type": "code",
   "execution_count": 6,
   "metadata": {},
   "outputs": [
    {
     "name": "stdout",
     "output_type": "stream",
     "text": [
      "['1', '2', '3']\n"
     ]
    }
   ],
   "source": [
    "print(list)"
   ]
  },
  {
   "cell_type": "code",
   "execution_count": null,
   "metadata": {},
   "outputs": [],
   "source": []
  }
 ],
 "metadata": {
  "kernelspec": {
   "display_name": "Python 3",
   "language": "python",
   "name": "python3"
  },
  "language_info": {
   "codemirror_mode": {
    "name": "ipython",
    "version": 3
   },
   "file_extension": ".py",
   "mimetype": "text/x-python",
   "name": "python",
   "nbconvert_exporter": "python",
   "pygments_lexer": "ipython3",
   "version": "3.7.1"
  }
 },
 "nbformat": 4,
 "nbformat_minor": 2
}
