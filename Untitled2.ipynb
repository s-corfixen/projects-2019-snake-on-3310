{
 "cells": [
  {
   "cell_type": "code",
   "execution_count": null,
   "metadata": {},
   "outputs": [],
   "source": [
    "import pydst\n",
    "import tkinter as tk\n",
    "import pandas as pd\n",
    "\n",
    "Dst = pydst.Dst(lang='da')\n",
    "\n",
    "master = tk.Tk()\n",
    "\n",
    "e1 = tk.Entry(master)\n",
    "e1.pack()\n",
    "\n",
    "\n",
    "def ok():\n",
    "    id = e1.get()\n",
    "    data = Dst.get_data(table_id=id)\n",
    "    headers = (list(data))\n",
    "    del headers[-1]\n",
    "    dict1 = dict.fromkeys(headers, [\"*\"])\n",
    "    dataset = Dst.get_data(table_id=id, variables = dict1)\n",
    "    pd.to_excel('projects-2019-snake-on-3310/data.xlsx',  sheet_name='Sheet1')\n",
    "    \n",
    "button = tk.Button(master, text=\"Load\", command = ok)\n",
    "button.pack()\n",
    "        \n",
    "\n",
    "master.mainloop()"
   ]
  },
  {
   "cell_type": "code",
   "execution_count": null,
   "metadata": {},
   "outputs": [],
   "source": []
  }
 ],
 "metadata": {
  "kernelspec": {
   "display_name": "Python 3",
   "language": "python",
   "name": "python3"
  },
  "language_info": {
   "codemirror_mode": {
    "name": "ipython",
    "version": 3
   },
   "file_extension": ".py",
   "mimetype": "text/x-python",
   "name": "python",
   "nbconvert_exporter": "python",
   "pygments_lexer": "ipython3",
   "version": "3.7.1"
  }
 },
 "nbformat": 4,
 "nbformat_minor": 2
}
