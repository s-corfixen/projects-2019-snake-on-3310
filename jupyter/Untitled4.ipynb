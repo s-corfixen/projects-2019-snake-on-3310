{
 "cells": [
  {
   "cell_type": "markdown",
   "metadata": {},
   "source": [
    "listbox code"
   ]
  },
  {
   "cell_type": "code",
   "execution_count": null,
   "metadata": {},
   "outputs": [],
   "source": [
    "import pydst\n",
    "import tkinter as tk\n",
    "import pandas as pd\n",
    "import tkinter.messagebox\n",
    "\n",
    "master = tk.Tk()\n",
    "\n",
    "menu_items = {\"eggs\":7, \"chips\":1, \"beer\":2}\n",
    "selected = {}\n",
    "\n",
    "def calculate():\n",
    "    bill = 0\n",
    "    for item in menu_items:\n",
    "        if selected[item].get():\n",
    "            bill += menu_items[item]\n",
    "\n",
    "    results.delete(1.0, tk.END)\n",
    "    results.insert(tk.END, \"Total cost - £\" + str(bill))\n",
    "\n",
    "for item in menu_items:\n",
    "    is_selected = tk.BooleanVar()\n",
    "    button = tk.Listbox(master, selectmode=\"extended\")\n",
    "    button.insert(item, variable = is_selected)\n",
    "    selected[item] = is_selected\n",
    "\n",
    "purchase_btn = tk.Button(master, text=\"Calculate\", command=calculate)\n",
    "purchase_btn.grid()\n",
    "\n",
    "results = tk.Text(master)\n",
    "results.grid(columnspan=2)\n",
    "\n",
    "master.mainloop()"
   ]
  },
  {
   "cell_type": "raw",
   "metadata": {},
   "source": [
    "dict1 = {\"header\": [{\"id\":value, \"text\":value}]}\n",
    "\n",
    "selected = {textvalue: boolean}\n",
    "\n",
    "ønsket resulatat = {\"header\": idvalue}"
   ]
  },
  {
   "cell_type": "code",
   "execution_count": 6,
   "metadata": {},
   "outputs": [],
   "source": [
    "dict = {\"header1\": [{\"id\":1, \"text\":\"df\"}], \"header2\": [{\"id\":2, \"text\":\"fd\"}], \"header3\": [{\"id\":3, \"text\":\"gf\"}]}\n",
    "\n",
    "dict2 = {\"df\": True, \"fd\": False, \"gf\": True}\n",
    "\n",
    "Ønsket = {\"header1\": [\"df\"], \"header3\":[\"gf\"]}"
   ]
  },
  {
   "cell_type": "code",
   "execution_count": 9,
   "metadata": {},
   "outputs": [],
   "source": [
    "dicte = {}\n",
    "\n",
    "for header, elist in dict.items():\n",
    "    list1 = []\n",
    "    for key in dict2:\n",
    "        if dict2[key]==True:\n",
    "            list1.append(key)\n",
    "    list2 = []\n",
    "    for dic in elist:\n",
    "        if dic[\"text\"] in list1:\n",
    "            list2.append(dic[\"id\"])\n",
    "    if list2 != []:\n",
    "        dicte.update({header: list2})        \n",
    "\n"
   ]
  },
  {
   "cell_type": "code",
   "execution_count": 10,
   "metadata": {},
   "outputs": [
    {
     "name": "stdout",
     "output_type": "stream",
     "text": [
      "{'header1': [1], 'header3': [3]}\n"
     ]
    }
   ],
   "source": [
    "print(dicte)"
   ]
  },
  {
   "cell_type": "code",
   "execution_count": 14,
   "metadata": {},
   "outputs": [
    {
     "name": "stdout",
     "output_type": "stream",
     "text": [
      "True\n"
     ]
    }
   ],
   "source": [
    "print(str(dict2[\"df\"]))\n",
    "      "
   ]
  },
  {
   "cell_type": "code",
   "execution_count": null,
   "metadata": {},
   "outputs": [],
   "source": [
    "from tkinter import *\n",
    "import tkinter.messagebox\n",
    "import tkinter\n",
    "\n",
    "top = Tk()\n",
    "\n",
    "Lb1 = Listbox(top, selectmode=\"extended\")\n",
    "Lb1.insert(10, \"Python\")\n",
    "Lb1.insert(20, \"Perl\")\n",
    "Lb1.insert(30, \"C\")\n",
    "Lb1.insert(40, \"PHP\")\n",
    "Lb1.insert(50, \"JSP\")\n",
    "Lb1.insert(60, \"Ruby\")\n",
    "\n",
    "def ok():\n",
    "    print(Lb1.get(2))\n",
    "    \n",
    "button = Button(top, command = ok)\n",
    "button.pack()\n",
    "\n",
    "\n",
    "    \n",
    "Lb1.pack()\n",
    "top.mainloop()"
   ]
  },
  {
   "cell_type": "code",
   "execution_count": 4,
   "metadata": {},
   "outputs": [],
   "source": [
    "import tkinter as tk\n",
    "\n",
    "\n",
    "#Make Window\n",
    "root = tk.Tk()\n",
    "root.geometry(\"612x417\")\n",
    "root.title(\"Exchange Rates\")\n",
    "root.resizable(0,0)\n",
    "root.configure(background='lightgrey')\n",
    "\n",
    "dict = {\"header1\": [{\"id\":1, \"text\":\"df\"}], \"header2\": [{\"id\":2, \"text\":\"fd\"}], \"header3\": [{\"id\":3, \"text\":\"gf\"}]}\n",
    "\n",
    "#def printsels():\n",
    "selected = {}    \n",
    "\n",
    "lb1 = tk.Listbox(root,selectmode=\"extended\")\n",
    "\n",
    "for key in dict:\n",
    "    for i, value in enumerate(dict[key]):\n",
    "        #is_selected = tk.BooleanVar()                      \n",
    "        lb1.insert(i, value[\"text\"])\n",
    "        #selected[value[\"text\"]] = lb1.get(value)\n",
    "\n",
    "           \n",
    "\n",
    "lb1.pack()\n",
    "\n",
    "#btn = tk.Button(root, text=\"Get selections\", command=printsels)\n",
    "#btn.pack()\n",
    "\n",
    "root.mainloop()"
   ]
  },
  {
   "cell_type": "code",
   "execution_count": null,
   "metadata": {},
   "outputs": [],
   "source": [
    "def generate():\n",
    "            for index, key in enumerate(dict1):\n",
    "                if index > 3:\n",
    "                    label = tk.Label(self, text = key, font = SMALL_FONT)\n",
    "                    label.place(x=50+290*(index-4), y=360)\n",
    "                    checkboxlist_index = ScrollableFrame(self)\n",
    "                    checkboxlist_index.place(x=50+290*(index-4), y=380)\n",
    "\n",
    "                    for index, value in enumerate(dict1[key]):\n",
    "                        is_selected = tk.BooleanVar()\n",
    "                        ttk.Checkbutton(checkboxlist_index.interior, text=value[\"text\"], variable=is_selected).grid(row=index,column=0,sticky=\"W\")\n",
    "                        selected[value[\"text\"]] = is_selected\n",
    "\n",
    "                else:\n",
    "                    label = tk.Label(self, text = key, font = SMALL_FONT)\n",
    "                    label.place(x=50+290*index, y=80)\n",
    "                    checkboxlist_index = ScrollableFrame(self)\n",
    "                    checkboxlist_index.place(x=50+290*index,y=100)\n",
    "\n",
    "                    for index, value in enumerate(dict1[key]):\n",
    "                        is_selected = tk.BooleanVar()\n",
    "                        ttk.Checkbutton(checkboxlist_index.interior, text=value[\"text\"], variable=is_selected).grid(row=index,column=0,sticky=\"W\")\n",
    "                        selected[value[\"text\"]] = is_selected\n",
    "                        "
   ]
  },
  {
   "cell_type": "code",
   "execution_count": null,
   "metadata": {},
   "outputs": [],
   "source": [
    "def nextpage():\n",
    "            controller.show_frame(PageThree)\n",
    "            selectedvariables = {}\n",
    "            \n",
    "            for header, elist in dict1.items():\n",
    "                \n",
    "                list1 = []\n",
    "                for key in selected:\n",
    "                    if selected[key].get()==True:\n",
    "                        list1.append(key)\n",
    "                list2 = []\n",
    "                for dic in elist:\n",
    "                    if dic[\"text\"] in list1:\n",
    "                        list2.append(dic[\"id\"])\n",
    "                if list2 != []:\n",
    "                    selectedvariables.update({str(dict2[header]): list2})        \n",
    "            \n",
    "            savepath = \"C:/Users/Corfixen/Documents/projects-2019-snake-on-3310/\"+str(tableid)+\".csv\"\n",
    "            Dst.get_csv(path = savepath, table_id=tableid, variables = selectedvariables)\n",
    "            #DATA.to_excel(savepath, sheet_name='Sheet1')"
   ]
  }
 ],
 "metadata": {
  "kernelspec": {
   "display_name": "Python 3",
   "language": "python",
   "name": "python3"
  },
  "language_info": {
   "codemirror_mode": {
    "name": "ipython",
    "version": 3
   },
   "file_extension": ".py",
   "mimetype": "text/x-python",
   "name": "python",
   "nbconvert_exporter": "python",
   "pygments_lexer": "ipython3",
   "version": "3.7.1"
  }
 },
 "nbformat": 4,
 "nbformat_minor": 2
}
