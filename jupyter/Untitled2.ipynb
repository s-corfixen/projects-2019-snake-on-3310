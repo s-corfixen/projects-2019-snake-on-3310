{
 "cells": [
  {
   "cell_type": "code",
   "execution_count": 12,
   "metadata": {},
   "outputs": [],
   "source": [
    "import pydst\n",
    "import tkinter as tk\n",
    "import pandas as pd\n",
    "\n",
    "master = tk.Tk()\n",
    "\n",
    "menu_items = {\"eggs\":7, \"chips\":1, \"beer\":2}\n",
    "selected = {}\n",
    "\n",
    "def calculate():\n",
    "    bill = 0\n",
    "    for item in menu_items:\n",
    "        if selected[item].get():\n",
    "            bill += menu_items[item]\n",
    "\n",
    "    results.delete(1.0, tk.END)\n",
    "    results.insert(tk.END, \"Total cost - £\" + str(bill))\n",
    "\n",
    "for item in menu_items:\n",
    "    is_selected = tk.BooleanVar()\n",
    "    button = tk.Checkbutton(master, text=item, variable=is_selected)\n",
    "    button.grid(sticky=\"w\")\n",
    "    selected[item] = is_selected\n",
    "\n",
    "purchase_btn = tk.Button(master, text=\"Calculate\", command=calculate)\n",
    "purchase_btn.grid()\n",
    "\n",
    "results = tk.Text(master)\n",
    "results.grid(columnspan=2)\n",
    "\n",
    "master.mainloop()"
   ]
  },
  {
   "cell_type": "code",
   "execution_count": null,
   "metadata": {},
   "outputs": [],
   "source": []
  }
 ],
 "metadata": {
  "kernelspec": {
   "display_name": "Python 3",
   "language": "python",
   "name": "python3"
  },
  "language_info": {
   "codemirror_mode": {
    "name": "ipython",
    "version": 3
   },
   "file_extension": ".py",
   "mimetype": "text/x-python",
   "name": "python",
   "nbconvert_exporter": "python",
   "pygments_lexer": "ipython3",
   "version": "3.7.1"
  }
 },
 "nbformat": 4,
 "nbformat_minor": 2
}
