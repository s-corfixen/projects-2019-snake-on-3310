{
 "cells": [
  {
   "cell_type": "code",
   "execution_count": 1,
   "metadata": {},
   "outputs": [
    {
     "name": "stdout",
     "output_type": "stream",
     "text": [
      "<class 'pandas.core.frame.DataFrame'>\n"
     ]
    }
   ],
   "source": [
    "import pydst\n",
    "import pandas_datareader\n",
    "\n",
    "Dst = pydst.Dst(lang='da')\n",
    "sub = Dst.get_subjects()\n",
    "print(type(sub))"
   ]
  },
  {
   "cell_type": "code",
   "execution_count": 2,
   "metadata": {},
   "outputs": [
    {
     "name": "stdout",
     "output_type": "stream",
     "text": [
      "    active                                     desc  hasSubjects  id\n",
      "0     True                       Befolkning og valg         True  02\n",
      "1     True                               Levevilkår         True  05\n",
      "2     True                      Uddannelse og viden         True  03\n",
      "3     True                          Kultur og kirke         True  18\n",
      "4     True              Arbejde, indkomst og formue         True  04\n",
      "5     True                        Priser og forbrug         True  06\n",
      "6     True  Nationalregnskab og offentlige finanser         True  14\n",
      "7     True                   Penge og kapitalmarked         True  16\n",
      "8     True                          Udenrigsøkonomi         True  13\n",
      "9     True                   Erhvervslivet på tværs         True  07\n",
      "10    True                  Erhvervslivets sektorer         True  11\n",
      "11    True                Geografi, miljø og energi         True  01\n",
      "12    True                               Tværgående         True  19\n"
     ]
    }
   ],
   "source": [
    "print(sub)"
   ]
  },
  {
   "cell_type": "code",
   "execution_count": 27,
   "metadata": {},
   "outputs": [],
   "source": [
    "OPTIONS = zip(list(sub[\"desc\"]),list(sub[\"id\"]))"
   ]
  },
  {
   "cell_type": "code",
   "execution_count": 28,
   "metadata": {},
   "outputs": [
    {
     "name": "stdout",
     "output_type": "stream",
     "text": [
      "<zip object at 0x0000026D55CC9888>\n"
     ]
    }
   ],
   "source": [
    "print((OPTIONS))"
   ]
  },
  {
   "cell_type": "code",
   "execution_count": 29,
   "metadata": {},
   "outputs": [],
   "source": [
    "ting = list(OPTIONS)"
   ]
  },
  {
   "cell_type": "code",
   "execution_count": 30,
   "metadata": {},
   "outputs": [
    {
     "name": "stdout",
     "output_type": "stream",
     "text": [
      "[('Befolkning og valg', '02'), ('Levevilkår', '05'), ('Uddannelse og viden', '03'), ('Kultur og kirke', '18'), ('Arbejde, indkomst og formue', '04'), ('Priser og forbrug', '06'), ('Nationalregnskab og offentlige finanser', '14'), ('Penge og kapitalmarked', '16'), ('Udenrigsøkonomi', '13'), ('Erhvervslivet på tværs', '07'), ('Erhvervslivets sektorer', '11'), ('Geografi, miljø og energi', '01'), ('Tværgående', '19')]\n"
     ]
    }
   ],
   "source": [
    "print(ting)"
   ]
  },
  {
   "cell_type": "code",
   "execution_count": 31,
   "metadata": {},
   "outputs": [
    {
     "data": {
      "text/plain": [
       "('Levevilkår', '05')"
      ]
     },
     "execution_count": 31,
     "metadata": {},
     "output_type": "execute_result"
    }
   ],
   "source": [
    "ting[1]"
   ]
  },
  {
   "cell_type": "code",
   "execution_count": null,
   "metadata": {},
   "outputs": [],
   "source": []
  }
 ],
 "metadata": {
  "kernelspec": {
   "display_name": "Python 3",
   "language": "python",
   "name": "python3"
  },
  "language_info": {
   "codemirror_mode": {
    "name": "ipython",
    "version": 3
   },
   "file_extension": ".py",
   "mimetype": "text/x-python",
   "name": "python",
   "nbconvert_exporter": "python",
   "pygments_lexer": "ipython3",
   "version": "3.7.1"
  }
 },
 "nbformat": 4,
 "nbformat_minor": 2
}
