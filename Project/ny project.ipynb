{
 "cells": [
  {
   "cell_type": "code",
   "execution_count": 1,
   "metadata": {},
   "outputs": [],
   "source": [
    "import numpy as np\n",
    "import pandas as pd\n",
    "import pydst\n",
    "Dst = pydst.Dst(lang='en')\n"
   ]
  },
  {
   "cell_type": "code",
   "execution_count": 2,
   "metadata": {},
   "outputs": [],
   "source": [
    "account = Dst.get_data(table_id = \"REGK11\", variables = {\"OMRÅDE\": [\"*\"], \"FUNK1\": [\"X\"], \"DRANST\": [\"1\"], \"ART\": [\"TOT\"], \"PRISENHED\": [\"INDL\"], \"Tid\": [\"*\"]})\n",
    "budget = Dst.get_data(table_id = \"BUDK1\", variables = {\"REGI07A\": [\"*\"], \"FUNK1\": [\"X\"], \"DRANST\": [\"1\"], \"ART\": [\"TOT\"], \"PRISENHED\": [\"INDL\"], \"Tid\": [\"*\"]})\n",
    "people = Dst.get_data(table_id = \"INDAMP01\", variables = {\"OMRÅDE\": [\"*\"], \"KØN\": [\"TOT\"], \"ALDER\": [\"TOT\"], \"PERSG\": [\"IALT\"], \"Tid\": [\"*\"], \"BNØGLE\": [\"PER\"]})\n"
   ]
  },
  {
   "cell_type": "markdown",
   "metadata": {},
   "source": [
    "account har årene 2011-2018\n",
    "\n",
    "budget har årene 2009-2019\n",
    "\n",
    "people har årene 2006-2017"
   ]
  },
  {
   "cell_type": "code",
   "execution_count": 3,
   "metadata": {},
   "outputs": [],
   "source": [
    "account.drop([\"FUNK1\", \"DRANST\", \"ART\", \"PRISENHED\"], axis=1, inplace=True)\n",
    "budget.drop([\"FUNK1\", \"DRANST\", \"ART\", \"PRISENHED\"], axis=1, inplace=True)\n",
    "people.drop([\"KØN\", \"ALDER\", \"PERSG\", \"BNØGLE\"], axis=1, inplace=True)\n"
   ]
  },
  {
   "cell_type": "code",
   "execution_count": 4,
   "metadata": {},
   "outputs": [
    {
     "name": "stdout",
     "output_type": "stream",
     "text": [
      "  Municipality  Year  people\n",
      "0       Holbæk  2011   69521\n",
      "1         Faxe  2011   35277\n",
      "2   Kalundborg  2011   49088\n",
      "3     Ringsted  2011   32890\n",
      "4     Slagelse  2011   77442\n",
      "  Municipality  Year  Budget\n",
      "0   Jammerbugt  2015   64367\n",
      "1       Assens  2015   63837\n",
      "2    Norddjurs  2015   65445\n",
      "3        Greve  2015   57967\n",
      "4      Herning  2015   59441\n",
      "  Municipality  Year  account\n",
      "0     Hillerød  2012    62180\n",
      "1       Solrød  2012    53166\n",
      "2       Dragør  2012    53794\n",
      "3     Gribskov  2012    61529\n",
      "4     Gentofte  2012    54695\n",
      "<class 'pandas.core.frame.DataFrame'>\n",
      "RangeIndex: 832 entries, 0 to 831\n",
      "Data columns (total 3 columns):\n",
      "Municipality    832 non-null object\n",
      "Year            832 non-null int64\n",
      "account         832 non-null int64\n",
      "dtypes: int64(2), object(1)\n",
      "memory usage: 19.6+ KB\n",
      "<class 'pandas.core.frame.DataFrame'>\n",
      "RangeIndex: 1380 entries, 0 to 1379\n",
      "Data columns (total 3 columns):\n",
      "Municipality    1380 non-null object\n",
      "Year            1380 non-null int64\n",
      "people          1380 non-null int64\n",
      "dtypes: int64(2), object(1)\n",
      "memory usage: 32.4+ KB\n",
      "<class 'pandas.core.frame.DataFrame'>\n",
      "RangeIndex: 1144 entries, 0 to 1143\n",
      "Data columns (total 3 columns):\n",
      "Municipality    1144 non-null object\n",
      "Year            1144 non-null int64\n",
      "Budget          1144 non-null int64\n",
      "dtypes: int64(2), object(1)\n",
      "memory usage: 26.9+ KB\n"
     ]
    }
   ],
   "source": [
    "budget.rename(columns = {\"REGI07A\":\"Municipality\", \"TID\": \"Year\", \"INDHOLD\":\"Budget\"}, inplace = True)\n",
    "account.rename(columns = {\"OMRÅDE\":\"Municipality\", \"TID\": \"Year\", \"INDHOLD\":\"account\"}, inplace = True)\n",
    "people.rename(columns = {\"OMRÅDE\":\"Municipality\", \"TID\": \"Year\", \"INDHOLD\":\"people\"}, inplace = True)\n",
    "\n",
    "print(people.head())\n",
    "print(budget.head())\n",
    "print(account.head())\n",
    "account.info()\n",
    "people.info()\n",
    "budget.info()"
   ]
  },
  {
   "cell_type": "code",
   "execution_count": 12,
   "metadata": {},
   "outputs": [
    {
     "name": "stdout",
     "output_type": "stream",
     "text": [
      "[False, False, False, False, False, False, False, False, False, False, False, False, False, False, False, False, False, False, False, False, False, False, False, False, False, False, False, False, False, False, False, False, False, False, False, False, False, False, False, False, False, False, False, False, False, False, False, False, False, False, False, False, False, False, False, False, False, False, False, False, False, False, False, False, False, False, False, False, False, False, False, False, False, False, False, False, False, False, False, False, False, False, False, False, False, False, False, False, False, False, False, False, False, False, False, False, False, False, False, False, False, False, False, False, False, False, False, False, False, False, False, False, False, False, False, False, False, False, False, False, False, False, False, False, False, False, False, False, False, False, False, False, False, False, False, False, False, False, False, False, False, False, False, False, False, False, False, False, False, False, False, False, False, False, False, False, False, False, False, False, False, False, False, False, False, False, False, False, False, False, False, False, False, False, False, False, False, False, False, False, False, False, False, False, False, False, False, False, False, False, False, False, False, False, False, False, False, False, False, False, False, False, False, False, False, False, False, False, False, False, False, False, False, False, False, False, False, False, False, False, False, False, False, False, False, False, False, False, False, False, False, False, False, False, False, False, False, False, False, False, False, False, False, False, False, False, False, False, False, False, False, False, False, False, False, False, False, False, False, False, False, False, False, False, False, False, False, False, False, False, False, False, False, False, False, False, False, False, False, False, False, False, False, False, False, False, False, False, False, False, False, False, False, False, False, False, False, False, False, False, False, False, False, False, False, False, False, False, False, False, False, False, False, False, False, False, False, False, False, False, False, False, False, False, False, False, False, False, False, False, False, False, False, False, False, False, False, False, False, False, False, False, False, False, False, False, False, False, False, False, False, False, False, False, False, False, False, False, False, False, False, False, False, False, False, False, False, False, False, False, False, False, False, False, False, False, False, False, False, False, False, False, False, False, False, False, False, False, False, False, False, False, False, False, False, False, False, False, False, False, False, False, False, False, False, False, False, False, False, False, False, False, False, False, False, False, False, False, False, False, False, False, False, False, False, False, False, False, False, False, False, False, False, False, False, False, False, False, False, False, False, False, False, False, False, False, False, False, False, False, False, False, False, False, False, False, False, False, False, False, False, False, False, False, False, False, False, False, False, False, False, False, False, False, False, False, False, False, False, False, False, False, False, False, False, False, False, False, False, False, False, False, False, False, False, False, False, False, False, False, False, False, False, False, False, False, False, False, False, False, False, False, False, False, False, False, False, False, False, False, False, False, False, False, False, False, False, False, False, False, False, False, False, False, False, False, False, False, False, False, False, False, False, False, False, False, False, False, False, False, False, False, False, False, False, False, False, False, False, False, False, False, False, False, False, False, False, False, False, False, False, False, False, False, False, False, False, False, False, False, False, False, False, False, False, False, False, False, False, False, False, False, False, False, False, False, False, False, False, False, False, False, False, False, False, False, False, False, False, False, False, False, False, False, False, False, False, False, False, False, False, False, False, False, False, False, False, False, False, False, False, False, False, False, False, False, False, False, False, False, False, False, False, False, False, False, False, False, False, False, False, False, False, False, False, False, False, False, False, False, False, False, False, False, False, False, False, False, False, False, False, False, False, False, False, False, False, False, False, False, False, False, False, False, False, False, False, False, False, False, False, False, False, False, False, False, False, False, False, False, False, False, False, False, False, False, False, False, False, False, False, False, False, False, False, False, False, False, False, False, False, False, False, False, False, False, False, False]\n"
     ]
    }
   ],
   "source": [
    "for val in [\"Region\", \"Province\", \"All Denmark\"]:\n",
    "    for count, dataset in enumerate([budget, people, account]):\n",
    "        dataset = dataset.loc[dataset.Municipality.str.contains(val)==False]\n",
    "        if val == \"Province\":\n",
    "            if count == 1:\n",
    "                print(list(dataset.Municipality.str.contains(val)))"
   ]
  },
  {
   "cell_type": "code",
   "execution_count": 7,
   "metadata": {},
   "outputs": [],
   "source": [
    "a = []\n",
    "for i in range(2011,2018):\n",
    "    a.append(str(i))\n",
    "\n",
    "budget = budget.loc[budget[\"Year\"].isin(a)]\n",
    "people = people.loc[people[\"Year\"].isin(a)]\n",
    "account = account.loc[account[\"Year\"].isin(a)]"
   ]
  },
  {
   "cell_type": "code",
   "execution_count": 8,
   "metadata": {},
   "outputs": [
    {
     "name": "stdout",
     "output_type": "stream",
     "text": [
      "<class 'pandas.core.frame.DataFrame'>\n",
      "Int64Index: 728 entries, 0 to 831\n",
      "Data columns (total 3 columns):\n",
      "Municipality    728 non-null object\n",
      "Year            728 non-null int64\n",
      "account         728 non-null int64\n",
      "dtypes: int64(2), object(1)\n",
      "memory usage: 22.8+ KB\n",
      "<class 'pandas.core.frame.DataFrame'>\n",
      "Int64Index: 728 entries, 0 to 1379\n",
      "Data columns (total 3 columns):\n",
      "Municipality    728 non-null object\n",
      "Year            728 non-null int64\n",
      "people          728 non-null int64\n",
      "dtypes: int64(2), object(1)\n",
      "memory usage: 22.8+ KB\n",
      "<class 'pandas.core.frame.DataFrame'>\n",
      "Int64Index: 728 entries, 0 to 889\n",
      "Data columns (total 3 columns):\n",
      "Municipality    728 non-null object\n",
      "Year            728 non-null int64\n",
      "Budget          728 non-null int64\n",
      "dtypes: int64(2), object(1)\n",
      "memory usage: 22.8+ KB\n"
     ]
    }
   ],
   "source": [
    "account.info()\n",
    "people.info()\n",
    "budget.info()"
   ]
  },
  {
   "cell_type": "code",
   "execution_count": null,
   "metadata": {},
   "outputs": [],
   "source": []
  },
  {
   "cell_type": "code",
   "execution_count": 8,
   "metadata": {},
   "outputs": [
    {
     "data": {
      "text/plain": [
       "['Province Fyn',\n",
       " 'Province Bornholm',\n",
       " 'Province Byen København',\n",
       " 'Province Vest- og Sydsjælland',\n",
       " 'Province Nordsjælland',\n",
       " 'Province Sydjylland',\n",
       " 'Province Vestjylland',\n",
       " 'Province Østjylland',\n",
       " 'Province Østsjælland',\n",
       " 'Province Københavns omegn',\n",
       " 'Province Nordjylland']"
      ]
     },
     "execution_count": 8,
     "metadata": {},
     "output_type": "execute_result"
    }
   ],
   "source": [
    "list(set(list(people[\"Municipality\"]))-set(list(budget[\"Municipality\"])))"
   ]
  },
  {
   "cell_type": "code",
   "execution_count": null,
   "metadata": {},
   "outputs": [],
   "source": []
  },
  {
   "cell_type": "code",
   "execution_count": null,
   "metadata": {},
   "outputs": [],
   "source": []
  }
 ],
 "metadata": {
  "kernelspec": {
   "display_name": "Python 3",
   "language": "python",
   "name": "python3"
  },
  "language_info": {
   "codemirror_mode": {
    "name": "ipython",
    "version": 3
   },
   "file_extension": ".py",
   "mimetype": "text/x-python",
   "name": "python",
   "nbconvert_exporter": "python",
   "pygments_lexer": "ipython3",
   "version": "3.7.1"
  }
 },
 "nbformat": 4,
 "nbformat_minor": 2
}
