{
 "cells": [
  {
   "cell_type": "markdown",
   "metadata": {},
   "source": [
    "**Municipality Budget Planning**\n"
   ]
  },
  {
   "cell_type": "markdown",
   "metadata": {},
   "source": [
    "To analyse our problem we make use of several python packages, which we import in the code below."
   ]
  },
  {
   "cell_type": "code",
   "execution_count": 1,
   "metadata": {},
   "outputs": [],
   "source": [
    "#needed for matplotlib to function in notebook\n",
    "%matplotlib inline\n",
    "\n",
    "#import packages\n",
    "import numpy as np\n",
    "import pandas as pd\n",
    "import pydst\n",
    "from matplotlib import pyplot as plt\n",
    "import scipy.stats\n",
    "import tkinter as tk\n",
    "import tkinter as tk\n",
    "\n",
    "Dst = pydst.Dst(lang='en')"
   ]
  },
  {
   "cell_type": "markdown",
   "metadata": {},
   "source": [
    "**Data sorting**\n",
    "\n",
    "In order to examine our topic we retrieve data from the DST api. We get data from the tables REGK11, BUDK1 and INDAMP01.\n",
    "we use REGK11 to get accounting data for all municipalities in Denmark. The data is registered at the end of the year. REGK11 covers the period 2011-2018.\n",
    "BUDK1 is used to get budget data for all municipalities in Denmark. The data is registered at the beginning of the year and covers the period 2009-2019\n",
    "We use INDAMP01 to get population data to examine our problem. the population is registered 1st of january and the table covers the period 2006-2017\n",
    "We sort the api by imposing restrictions on the tables, e.g. price unit is set to pr. capita (1000 kr) for BUDK1 and REGK11.\n",
    "\n",
    "further explain restrictions. note the dataframe names\n",
    "\n",
    "In order to follow the data sorting and cleaning throughout the paper, we'll include account.head() to demonstrate the changes on the table"
   ]
  },
  {
   "cell_type": "code",
   "execution_count": 2,
   "metadata": {},
   "outputs": [],
   "source": [
    "account = Dst.get_data(table_id = \"REGK11\", variables = {\"OMRÅDE\": [\"*\"], \"FUNK1\": [\"X\"], \"DRANST\": [\"1\"], \"ART\": [\"TOT\"], \"PRISENHED\": [\"INDL\"], \"Tid\": [\"*\"]})\n",
    "budget = Dst.get_data(table_id = \"BUDK1\", variables = {\"REGI07A\": [\"*\"], \"FUNK1\": [\"X\"], \"DRANST\": [\"1\"], \"ART\": [\"TOT\"], \"PRISENHED\": [\"INDL\"], \"Tid\": [\"*\"]})\n",
    "people = Dst.get_data(table_id = \"INDAMP01\", variables = {\"OMRÅDE\": [\"*\"], \"KØN\": [\"TOT\"], \"ALDER\": [\"TOT\"], \"PERSG\": [\"IALT\"], \"Tid\": [\"*\"], \"BNØGLE\": [\"PER\"]})"
   ]
  },
  {
   "cell_type": "code",
   "execution_count": 3,
   "metadata": {},
   "outputs": [
    {
     "data": {
      "text/html": [
       "<div>\n",
       "<style scoped>\n",
       "    .dataframe tbody tr th:only-of-type {\n",
       "        vertical-align: middle;\n",
       "    }\n",
       "\n",
       "    .dataframe tbody tr th {\n",
       "        vertical-align: top;\n",
       "    }\n",
       "\n",
       "    .dataframe thead th {\n",
       "        text-align: right;\n",
       "    }\n",
       "</style>\n",
       "<table border=\"1\" class=\"dataframe\">\n",
       "  <thead>\n",
       "    <tr style=\"text-align: right;\">\n",
       "      <th></th>\n",
       "      <th>OMRÅDE</th>\n",
       "      <th>FUNK1</th>\n",
       "      <th>DRANST</th>\n",
       "      <th>ART</th>\n",
       "      <th>PRISENHED</th>\n",
       "      <th>TID</th>\n",
       "      <th>INDHOLD</th>\n",
       "    </tr>\n",
       "  </thead>\n",
       "  <tbody>\n",
       "    <tr>\n",
       "      <th>0</th>\n",
       "      <td>Hillerød</td>\n",
       "      <td>Total main account 0-6</td>\n",
       "      <td>1 Current expenditure</td>\n",
       "      <td>Total</td>\n",
       "      <td>Per capita, current prices (DKK)</td>\n",
       "      <td>2012</td>\n",
       "      <td>62180</td>\n",
       "    </tr>\n",
       "    <tr>\n",
       "      <th>1</th>\n",
       "      <td>Solrød</td>\n",
       "      <td>Total main account 0-6</td>\n",
       "      <td>1 Current expenditure</td>\n",
       "      <td>Total</td>\n",
       "      <td>Per capita, current prices (DKK)</td>\n",
       "      <td>2012</td>\n",
       "      <td>53166</td>\n",
       "    </tr>\n",
       "    <tr>\n",
       "      <th>2</th>\n",
       "      <td>Dragør</td>\n",
       "      <td>Total main account 0-6</td>\n",
       "      <td>1 Current expenditure</td>\n",
       "      <td>Total</td>\n",
       "      <td>Per capita, current prices (DKK)</td>\n",
       "      <td>2012</td>\n",
       "      <td>53794</td>\n",
       "    </tr>\n",
       "    <tr>\n",
       "      <th>3</th>\n",
       "      <td>Gribskov</td>\n",
       "      <td>Total main account 0-6</td>\n",
       "      <td>1 Current expenditure</td>\n",
       "      <td>Total</td>\n",
       "      <td>Per capita, current prices (DKK)</td>\n",
       "      <td>2012</td>\n",
       "      <td>61529</td>\n",
       "    </tr>\n",
       "    <tr>\n",
       "      <th>4</th>\n",
       "      <td>Gentofte</td>\n",
       "      <td>Total main account 0-6</td>\n",
       "      <td>1 Current expenditure</td>\n",
       "      <td>Total</td>\n",
       "      <td>Per capita, current prices (DKK)</td>\n",
       "      <td>2012</td>\n",
       "      <td>54695</td>\n",
       "    </tr>\n",
       "  </tbody>\n",
       "</table>\n",
       "</div>"
      ],
      "text/plain": [
       "     OMRÅDE                   FUNK1                 DRANST    ART  \\\n",
       "0  Hillerød  Total main account 0-6  1 Current expenditure  Total   \n",
       "1    Solrød  Total main account 0-6  1 Current expenditure  Total   \n",
       "2    Dragør  Total main account 0-6  1 Current expenditure  Total   \n",
       "3  Gribskov  Total main account 0-6  1 Current expenditure  Total   \n",
       "4  Gentofte  Total main account 0-6  1 Current expenditure  Total   \n",
       "\n",
       "                          PRISENHED   TID  INDHOLD  \n",
       "0  Per capita, current prices (DKK)  2012    62180  \n",
       "1  Per capita, current prices (DKK)  2012    53166  \n",
       "2  Per capita, current prices (DKK)  2012    53794  \n",
       "3  Per capita, current prices (DKK)  2012    61529  \n",
       "4  Per capita, current prices (DKK)  2012    54695  "
      ]
     },
     "execution_count": 3,
     "metadata": {},
     "output_type": "execute_result"
    }
   ],
   "source": [
    "account.head()"
   ]
  },
  {
   "cell_type": "markdown",
   "metadata": {},
   "source": [
    "We have several columns in our data which have no use in our analysis. They are therefore dropped. Further, we rename the columns to get more appropiate names "
   ]
  },
  {
   "cell_type": "code",
   "execution_count": 4,
   "metadata": {},
   "outputs": [
    {
     "data": {
      "text/html": [
       "<div>\n",
       "<style scoped>\n",
       "    .dataframe tbody tr th:only-of-type {\n",
       "        vertical-align: middle;\n",
       "    }\n",
       "\n",
       "    .dataframe tbody tr th {\n",
       "        vertical-align: top;\n",
       "    }\n",
       "\n",
       "    .dataframe thead th {\n",
       "        text-align: right;\n",
       "    }\n",
       "</style>\n",
       "<table border=\"1\" class=\"dataframe\">\n",
       "  <thead>\n",
       "    <tr style=\"text-align: right;\">\n",
       "      <th></th>\n",
       "      <th>Municipality</th>\n",
       "      <th>Year</th>\n",
       "      <th>Account</th>\n",
       "    </tr>\n",
       "  </thead>\n",
       "  <tbody>\n",
       "    <tr>\n",
       "      <th>0</th>\n",
       "      <td>Hillerød</td>\n",
       "      <td>2012</td>\n",
       "      <td>62180</td>\n",
       "    </tr>\n",
       "    <tr>\n",
       "      <th>1</th>\n",
       "      <td>Solrød</td>\n",
       "      <td>2012</td>\n",
       "      <td>53166</td>\n",
       "    </tr>\n",
       "    <tr>\n",
       "      <th>2</th>\n",
       "      <td>Dragør</td>\n",
       "      <td>2012</td>\n",
       "      <td>53794</td>\n",
       "    </tr>\n",
       "    <tr>\n",
       "      <th>3</th>\n",
       "      <td>Gribskov</td>\n",
       "      <td>2012</td>\n",
       "      <td>61529</td>\n",
       "    </tr>\n",
       "    <tr>\n",
       "      <th>4</th>\n",
       "      <td>Gentofte</td>\n",
       "      <td>2012</td>\n",
       "      <td>54695</td>\n",
       "    </tr>\n",
       "  </tbody>\n",
       "</table>\n",
       "</div>"
      ],
      "text/plain": [
       "  Municipality  Year  Account\n",
       "0     Hillerød  2012    62180\n",
       "1       Solrød  2012    53166\n",
       "2       Dragør  2012    53794\n",
       "3     Gribskov  2012    61529\n",
       "4     Gentofte  2012    54695"
      ]
     },
     "execution_count": 4,
     "metadata": {},
     "output_type": "execute_result"
    }
   ],
   "source": [
    "account.drop([\"FUNK1\", \"DRANST\", \"ART\", \"PRISENHED\"], axis=1, inplace=True)\n",
    "budget.drop([\"FUNK1\", \"DRANST\", \"ART\", \"PRISENHED\"], axis=1, inplace=True)\n",
    "people.drop([\"KØN\", \"ALDER\", \"PERSG\", \"BNØGLE\"], axis=1, inplace=True)\n",
    "\n",
    "budget.rename(columns = {\"REGI07A\":\"Municipality\", \"TID\": \"Year\", \"INDHOLD\":\"Budget\"}, inplace = True)\n",
    "account.rename(columns = {\"OMRÅDE\":\"Municipality\", \"TID\": \"Year\", \"INDHOLD\":\"Account\"}, inplace = True)\n",
    "people.rename(columns = {\"OMRÅDE\":\"Municipality\", \"TID\": \"Year\", \"INDHOLD\":\"People\"}, inplace = True)\n",
    "\n",
    "account.head()"
   ]
  },
  {
   "cell_type": "markdown",
   "metadata": {},
   "source": [
    "Our three dataframes do not share the same dimensions and cannot be merged. We have to further clean the dataframes before we can make our analysis"
   ]
  },
  {
   "cell_type": "code",
   "execution_count": 6,
   "metadata": {},
   "outputs": [
    {
     "name": "stdout",
     "output_type": "stream",
     "text": [
      "<class 'pandas.core.frame.DataFrame'>\n",
      "Int64Index: 686 entries, 0 to 888\n",
      "Data columns (total 3 columns):\n",
      "Municipality    686 non-null object\n",
      "Year            686 non-null int64\n",
      "Budget          686 non-null int64\n",
      "dtypes: int64(2), object(1)\n",
      "memory usage: 21.4+ KB\n",
      "<class 'pandas.core.frame.DataFrame'>\n",
      "Int64Index: 686 entries, 0 to 831\n",
      "Data columns (total 3 columns):\n",
      "Municipality    686 non-null object\n",
      "Year            686 non-null int64\n",
      "Account         686 non-null int64\n",
      "dtypes: int64(2), object(1)\n",
      "memory usage: 21.4+ KB\n",
      "<class 'pandas.core.frame.DataFrame'>\n",
      "Int64Index: 686 entries, 0 to 1378\n",
      "Data columns (total 3 columns):\n",
      "Municipality    686 non-null object\n",
      "Year            686 non-null int64\n",
      "People          686 non-null int64\n",
      "dtypes: int64(2), object(1)\n",
      "memory usage: 21.4+ KB\n"
     ]
    }
   ],
   "source": [
    "budget.info()\n",
    "account.info()\n",
    "people.info()"
   ]
  },
  {
   "cell_type": "markdown",
   "metadata": {},
   "source": [
    "In order to make our dataframes comparable, we remove all entries for non-municipalies. We further restrict the time periods for our data to the period 2011-2017."
   ]
  },
  {
   "cell_type": "code",
   "execution_count": 5,
   "metadata": {},
   "outputs": [],
   "source": [
    "for val in [\"Region\", \"Province\", \"All Denmark\"]:\n",
    "    for count, dataset in enumerate([people, budget, account]):\n",
    "        rowstodrop = dataset.loc[lambda df: df[\"Municipality\"].str.contains(val)].index\n",
    "        dataset.drop(rowstodrop, axis=0, inplace=True)\n",
    "\n",
    "a = []\n",
    "for i in range(2011,2018):\n",
    "    a.append(str(i))\n",
    "\n",
    "budget = budget.loc[budget[\"Year\"].isin(a)]\n",
    "people = people.loc[people[\"Year\"].isin(a)]\n",
    "account = account.loc[account[\"Year\"].isin(a)]\n"
   ]
  },
  {
   "cell_type": "code",
   "execution_count": 7,
   "metadata": {},
   "outputs": [
    {
     "name": "stdout",
     "output_type": "stream",
     "text": [
      "<class 'pandas.core.frame.DataFrame'>\n",
      "Int64Index: 686 entries, 0 to 888\n",
      "Data columns (total 3 columns):\n",
      "Municipality    686 non-null object\n",
      "Year            686 non-null int64\n",
      "Budget          686 non-null int64\n",
      "dtypes: int64(2), object(1)\n",
      "memory usage: 21.4+ KB\n",
      "<class 'pandas.core.frame.DataFrame'>\n",
      "Int64Index: 686 entries, 0 to 1378\n",
      "Data columns (total 3 columns):\n",
      "Municipality    686 non-null object\n",
      "Year            686 non-null int64\n",
      "People          686 non-null int64\n",
      "dtypes: int64(2), object(1)\n",
      "memory usage: 21.4+ KB\n",
      "<class 'pandas.core.frame.DataFrame'>\n",
      "Int64Index: 686 entries, 0 to 831\n",
      "Data columns (total 3 columns):\n",
      "Municipality    686 non-null object\n",
      "Year            686 non-null int64\n",
      "Account         686 non-null int64\n",
      "dtypes: int64(2), object(1)\n",
      "memory usage: 21.4+ KB\n"
     ]
    }
   ],
   "source": [
    "budget.info()\n",
    "people.info()\n",
    "account.info()"
   ]
  },
  {
   "cell_type": "markdown",
   "metadata": {},
   "source": [
    "As seen from the .info() our dataframes have the same dimensions and we are able to merge them. We do an outer merge in two stages. First we merge people and account as the partialmerge dataframe. We then merge partialmerge with budget.\n"
   ]
  },
  {
   "cell_type": "code",
   "execution_count": 8,
   "metadata": {},
   "outputs": [
    {
     "data": {
      "text/html": [
       "<div>\n",
       "<style scoped>\n",
       "    .dataframe tbody tr th:only-of-type {\n",
       "        vertical-align: middle;\n",
       "    }\n",
       "\n",
       "    .dataframe tbody tr th {\n",
       "        vertical-align: top;\n",
       "    }\n",
       "\n",
       "    .dataframe thead th {\n",
       "        text-align: right;\n",
       "    }\n",
       "</style>\n",
       "<table border=\"1\" class=\"dataframe\">\n",
       "  <thead>\n",
       "    <tr style=\"text-align: right;\">\n",
       "      <th></th>\n",
       "      <th>Municipality</th>\n",
       "      <th>Year</th>\n",
       "      <th>People</th>\n",
       "      <th>Account</th>\n",
       "      <th>Budget</th>\n",
       "    </tr>\n",
       "  </thead>\n",
       "  <tbody>\n",
       "    <tr>\n",
       "      <th>0</th>\n",
       "      <td>Holbæk</td>\n",
       "      <td>2011</td>\n",
       "      <td>69521</td>\n",
       "      <td>61203</td>\n",
       "      <td>61099</td>\n",
       "    </tr>\n",
       "    <tr>\n",
       "      <th>1</th>\n",
       "      <td>Faxe</td>\n",
       "      <td>2011</td>\n",
       "      <td>35277</td>\n",
       "      <td>59814</td>\n",
       "      <td>59963</td>\n",
       "    </tr>\n",
       "    <tr>\n",
       "      <th>2</th>\n",
       "      <td>Kalundborg</td>\n",
       "      <td>2011</td>\n",
       "      <td>49088</td>\n",
       "      <td>66668</td>\n",
       "      <td>66307</td>\n",
       "    </tr>\n",
       "    <tr>\n",
       "      <th>3</th>\n",
       "      <td>Ringsted</td>\n",
       "      <td>2011</td>\n",
       "      <td>32890</td>\n",
       "      <td>61444</td>\n",
       "      <td>62650</td>\n",
       "    </tr>\n",
       "    <tr>\n",
       "      <th>4</th>\n",
       "      <td>Slagelse</td>\n",
       "      <td>2011</td>\n",
       "      <td>77442</td>\n",
       "      <td>63393</td>\n",
       "      <td>63924</td>\n",
       "    </tr>\n",
       "  </tbody>\n",
       "</table>\n",
       "</div>"
      ],
      "text/plain": [
       "  Municipality  Year  People  Account  Budget\n",
       "0       Holbæk  2011   69521    61203   61099\n",
       "1         Faxe  2011   35277    59814   59963\n",
       "2   Kalundborg  2011   49088    66668   66307\n",
       "3     Ringsted  2011   32890    61444   62650\n",
       "4     Slagelse  2011   77442    63393   63924"
      ]
     },
     "execution_count": 8,
     "metadata": {},
     "output_type": "execute_result"
    }
   ],
   "source": [
    "partialmerge = pd.merge(people, account, how=\"outer\", on=[\"Municipality\", \"Year\"])\n",
    "fullymerged = pd.merge(partialmerge, budget, how=\"outer\", on=[\"Municipality\", \"Year\"])\n",
    "fullymerged.head()"
   ]
  },
  {
   "cell_type": "markdown",
   "metadata": {},
   "source": [
    "Since we are interested in the surplus in municipality finances. We want to compute the surplus, which we define as the difference between the budgetted and actual net expenses. We add the column named surplus to our dataframe fullymerged.\n",
    "\n",
    "in the .head() we chose to look at Aalborg municipality to verify the accuracy of the computation."
   ]
  },
  {
   "cell_type": "code",
   "execution_count": 10,
   "metadata": {},
   "outputs": [
    {
     "data": {
      "text/html": [
       "<div>\n",
       "<style scoped>\n",
       "    .dataframe tbody tr th:only-of-type {\n",
       "        vertical-align: middle;\n",
       "    }\n",
       "\n",
       "    .dataframe tbody tr th {\n",
       "        vertical-align: top;\n",
       "    }\n",
       "\n",
       "    .dataframe thead th {\n",
       "        text-align: right;\n",
       "    }\n",
       "</style>\n",
       "<table border=\"1\" class=\"dataframe\">\n",
       "  <thead>\n",
       "    <tr style=\"text-align: right;\">\n",
       "      <th></th>\n",
       "      <th>Municipality</th>\n",
       "      <th>Year</th>\n",
       "      <th>People</th>\n",
       "      <th>Account</th>\n",
       "      <th>Budget</th>\n",
       "      <th>Surplus</th>\n",
       "    </tr>\n",
       "  </thead>\n",
       "  <tbody>\n",
       "    <tr>\n",
       "      <th>63</th>\n",
       "      <td>Aalborg</td>\n",
       "      <td>2011</td>\n",
       "      <td>199188</td>\n",
       "      <td>61958</td>\n",
       "      <td>62758</td>\n",
       "      <td>800</td>\n",
       "    </tr>\n",
       "    <tr>\n",
       "      <th>161</th>\n",
       "      <td>Aalborg</td>\n",
       "      <td>2012</td>\n",
       "      <td>201142</td>\n",
       "      <td>64535</td>\n",
       "      <td>65523</td>\n",
       "      <td>988</td>\n",
       "    </tr>\n",
       "    <tr>\n",
       "      <th>259</th>\n",
       "      <td>Aalborg</td>\n",
       "      <td>2013</td>\n",
       "      <td>203448</td>\n",
       "      <td>60966</td>\n",
       "      <td>61530</td>\n",
       "      <td>564</td>\n",
       "    </tr>\n",
       "    <tr>\n",
       "      <th>390</th>\n",
       "      <td>Aalborg</td>\n",
       "      <td>2014</td>\n",
       "      <td>205809</td>\n",
       "      <td>60002</td>\n",
       "      <td>60343</td>\n",
       "      <td>341</td>\n",
       "    </tr>\n",
       "    <tr>\n",
       "      <th>488</th>\n",
       "      <td>Aalborg</td>\n",
       "      <td>2015</td>\n",
       "      <td>207805</td>\n",
       "      <td>60893</td>\n",
       "      <td>60157</td>\n",
       "      <td>-736</td>\n",
       "    </tr>\n",
       "  </tbody>\n",
       "</table>\n",
       "</div>"
      ],
      "text/plain": [
       "    Municipality  Year  People  Account  Budget  Surplus\n",
       "63       Aalborg  2011  199188    61958   62758      800\n",
       "161      Aalborg  2012  201142    64535   65523      988\n",
       "259      Aalborg  2013  203448    60966   61530      564\n",
       "390      Aalborg  2014  205809    60002   60343      341\n",
       "488      Aalborg  2015  207805    60893   60157     -736"
      ]
     },
     "execution_count": 10,
     "metadata": {},
     "output_type": "execute_result"
    }
   ],
   "source": [
    "fullymerged[\"Surplus\"] = fullymerged[\"Budget\"]-fullymerged[\"Account\"]\n",
    "fullymerged[fullymerged[\"Municipality\"]==\"Aalborg\"].head()"
   ]
  },
  {
   "cell_type": "markdown",
   "metadata": {},
   "source": [
    "**Data Analysis**\n",
    "\n",
    "\n"
   ]
  },
  {
   "cell_type": "code",
   "execution_count": null,
   "metadata": {},
   "outputs": [],
   "source": []
  },
  {
   "cell_type": "code",
   "execution_count": 11,
   "metadata": {},
   "outputs": [
    {
     "data": {
      "text/plain": [
       "<matplotlib.legend.Legend at 0x22657804390>"
      ]
     },
     "execution_count": 11,
     "metadata": {},
     "output_type": "execute_result"
    },
    {
     "data": {
      "image/png": "[encoded data removed]",
      "text/plain": [
       "<Figure size 600x400 with 1 Axes>"
      ]
     },
     "metadata": {
      "needs_background": "light"
     },
     "output_type": "display_data"
    }
   ],
   "source": [
    "mean = np.mean(fullymerged[\"Surplus\"])\n",
    "variance = np.var(fullymerged[\"Surplus\"])\n",
    "sigma = np.sqrt(variance)\n",
    "\n",
    "x = np.linspace(min(fullymerged[\"Surplus\"]), max(fullymerged[\"Surplus\"]), 100)\n",
    "\n",
    "\n",
    "fig = plt.figure(dpi=100)\n",
    "ax = fig.add_subplot(1,1,1)\n",
    "ax.hist(fullymerged[\"Surplus\"], density=True, bins = 100, alpha = 0.5, label = \"Surplus\")\n",
    "ax.plot(x, scipy.stats.norm.pdf(x, mean, sigma), label = \"Normal\")\n",
    "ax.legend()"
   ]
  },
  {
   "cell_type": "markdown",
   "metadata": {},
   "source": [
    "\n",
    "It seems that there is no link between Surplus and people. \n",
    "we want to see if surplus is normal distributed. we see that this is not the case, but more like the municipalities tries to get a little surplus each year which is inefficient for the community."
   ]
  },
  {
   "cell_type": "code",
   "execution_count": 12,
   "metadata": {},
   "outputs": [
    {
     "data": {
      "image/png": "[encoded data removed]",
      "text/plain": [
       "<Figure size 432x288 with 1 Axes>"
      ]
     },
     "metadata": {
      "needs_background": "light"
     },
     "output_type": "display_data"
    }
   ],
   "source": [
    "plt.scatter(fullymerged[\"Surplus\"], fullymerged[\"People\"])\n",
    "plt.show()"
   ]
  },
  {
   "cell_type": "markdown",
   "metadata": {},
   "source": []
  },
  {
   "cell_type": "code",
   "execution_count": 14,
   "metadata": {},
   "outputs": [],
   "source": [
    "from NokiaSnakeClient import graphwindow   \n",
    "\n",
    "app = graphwindow(data=fullymerged, x=\"Year\",y=\"Surplus\",y2=\"People\",graphnames=\"Municipality\")\n",
    "app.geometry(\"1280x720\")\n",
    "app.mainloop()"
   ]
  },
  {
   "cell_type": "markdown",
   "metadata": {},
   "source": []
  },
  {
   "cell_type": "code",
   "execution_count": null,
   "metadata": {},
   "outputs": [],
   "source": []
  }
 ],
 "metadata": {
  "kernelspec": {
   "display_name": "Python 3",
   "language": "python",
   "name": "python3"
  },
  "language_info": {
   "codemirror_mode": {
    "name": "ipython",
    "version": 3
   },
   "file_extension": ".py",
   "mimetype": "text/x-python",
   "name": "python",
   "nbconvert_exporter": "python",
   "pygments_lexer": "ipython3",
   "version": "3.7.1"
  }
 },
 "nbformat": 4,
 "nbformat_minor": 2
}
