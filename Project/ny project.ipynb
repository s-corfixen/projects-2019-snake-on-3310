{
 "cells": [
  {
   "cell_type": "code",
   "execution_count": 1,
   "metadata": {},
   "outputs": [],
   "source": [
    "import numpy as np\n",
    "import pandas as pd\n",
    "import pydst\n",
    "Dst = pydst.Dst(lang='en')\n"
   ]
  },
  {
   "cell_type": "code",
   "execution_count": 2,
   "metadata": {},
   "outputs": [],
   "source": [
    "account = Dst.get_data(table_id = \"REGK11\", variables = {\"OMRÅDE\": [\"*\"], \"FUNK1\": [\"X\"], \"DRANST\": [\"1\"], \"ART\": [\"TOT\"], \"PRISENHED\": [\"INDL\"], \"Tid\": [\"*\"]})\n",
    "budget = Dst.get_data(table_id = \"BUDK1\", variables = {\"REGI07A\": [\"*\"], \"FUNK1\": [\"X\"], \"DRANST\": [\"1\"], \"ART\": [\"TOT\"], \"PRISENHED\": [\"INDL\"], \"Tid\": [\"*\"]})\n",
    "people = Dst.get_data(table_id = \"INDAMP01\", variables = {\"OMRÅDE\": [\"*\"], \"KØN\": [\"TOT\"], \"ALDER\": [\"TOT\"], \"PERSG\": [\"IALT\"], \"Tid\": [\"*\"], \"BNØGLE\": [\"PER\"]})\n"
   ]
  },
  {
   "cell_type": "markdown",
   "metadata": {},
   "source": [
    "account har årene 2011-2018\n",
    "\n",
    "budget har årene 2009-2019\n",
    "\n",
    "people har årene 2006-2017"
   ]
  },
  {
   "cell_type": "code",
   "execution_count": 3,
   "metadata": {},
   "outputs": [],
   "source": [
    "account.drop([\"FUNK1\", \"DRANST\", \"ART\", \"PRISENHED\"], axis=1, inplace=True)\n",
    "budget.drop([\"FUNK1\", \"DRANST\", \"ART\", \"PRISENHED\"], axis=1, inplace=True)\n",
    "people.drop([\"KØN\", \"ALDER\", \"PERSG\", \"BNØGLE\"], axis=1, inplace=True)\n"
   ]
  },
  {
   "cell_type": "code",
   "execution_count": 4,
   "metadata": {},
   "outputs": [
    {
     "name": "stdout",
     "output_type": "stream",
     "text": [
      "  Municipality  Year  people\n",
      "0       Holbæk  2011   69521\n",
      "1         Faxe  2011   35277\n",
      "2   Kalundborg  2011   49088\n",
      "3     Ringsted  2011   32890\n",
      "4     Slagelse  2011   77442\n",
      "  Municipality  Year  Budget\n",
      "0   Jammerbugt  2015   64367\n",
      "1       Assens  2015   63837\n",
      "2    Norddjurs  2015   65445\n",
      "3        Greve  2015   57967\n",
      "4      Herning  2015   59441\n",
      "  Municipality  Year  account\n",
      "0     Hillerød  2012    62180\n",
      "1       Solrød  2012    53166\n",
      "2       Dragør  2012    53794\n",
      "3     Gribskov  2012    61529\n",
      "4     Gentofte  2012    54695\n",
      "<class 'pandas.core.frame.DataFrame'>\n",
      "RangeIndex: 832 entries, 0 to 831\n",
      "Data columns (total 3 columns):\n",
      "Municipality    832 non-null object\n",
      "Year            832 non-null int64\n",
      "account         832 non-null int64\n",
      "dtypes: int64(2), object(1)\n",
      "memory usage: 19.6+ KB\n",
      "<class 'pandas.core.frame.DataFrame'>\n",
      "RangeIndex: 1380 entries, 0 to 1379\n",
      "Data columns (total 3 columns):\n",
      "Municipality    1380 non-null object\n",
      "Year            1380 non-null int64\n",
      "people          1380 non-null int64\n",
      "dtypes: int64(2), object(1)\n",
      "memory usage: 32.4+ KB\n",
      "<class 'pandas.core.frame.DataFrame'>\n",
      "RangeIndex: 1144 entries, 0 to 1143\n",
      "Data columns (total 3 columns):\n",
      "Municipality    1144 non-null object\n",
      "Year            1144 non-null int64\n",
      "Budget          1144 non-null int64\n",
      "dtypes: int64(2), object(1)\n",
      "memory usage: 26.9+ KB\n"
     ]
    }
   ],
   "source": [
    "budget.rename(columns = {\"REGI07A\":\"Municipality\", \"TID\": \"Year\", \"INDHOLD\":\"Budget\"}, inplace = True)\n",
    "account.rename(columns = {\"OMRÅDE\":\"Municipality\", \"TID\": \"Year\", \"INDHOLD\":\"account\"}, inplace = True)\n",
    "people.rename(columns = {\"OMRÅDE\":\"Municipality\", \"TID\": \"Year\", \"INDHOLD\":\"people\"}, inplace = True)\n",
    "\n",
    "print(people.head())\n",
    "print(budget.head())\n",
    "print(account.head())\n",
    "account.info()\n",
    "people.info()\n",
    "budget.info()"
   ]
  },
  {
   "cell_type": "code",
   "execution_count": 9,
   "metadata": {},
   "outputs": [
    {
     "name": "stdout",
     "output_type": "stream",
     "text": [
      "           Municipality  Year  people\n",
      "0                Holbæk  2011   69521\n",
      "1                  Faxe  2011   35277\n",
      "2            Kalundborg  2011   49088\n",
      "3              Ringsted  2011   32890\n",
      "4              Slagelse  2011   77442\n",
      "5                Stevns  2011   21855\n",
      "6                  Sorø  2011   29499\n",
      "7                 Lejre  2011   26764\n",
      "8               Lolland  2011   46111\n",
      "9               Næstved  2011   80963\n",
      "10         Guldborgsund  2011   62583\n",
      "11          Vordingborg  2011   46170\n",
      "12             Bornholm  2011   41896\n",
      "13           Middelfart  2011   37701\n",
      "14               Assens  2011   41635\n",
      "15      Faaborg-Midtfyn  2011   51926\n",
      "16           Kerteminde  2011   23758\n",
      "17               Nyborg  2011   31499\n",
      "18               Odense  2011  190245\n",
      "19            Svendborg  2011   58713\n",
      "20             Nordfyns  2011   29507\n",
      "21            Langeland  2011   13322\n",
      "22                  Ærø  2011    6663\n",
      "23            Haderslev  2011   56117\n",
      "24              Billund  2011   26155\n",
      "25           Sønderborg  2011   76193\n",
      "26               Tønder  2011   39464\n",
      "27              Esbjerg  2011  115184\n",
      "28                 Fanø  2011    3213\n",
      "29                Varde  2011   50351\n",
      "...                 ...   ...     ...\n",
      "1349              Vejle  2017  113243\n",
      "1350            Herning  2017   88386\n",
      "1351          Holstebro  2017   58125\n",
      "1352             Lemvig  2017   20291\n",
      "1353             Struer  2017   21347\n",
      "1354           Syddjurs  2017   42021\n",
      "1355          Norddjurs  2017   38099\n",
      "1356           Favrskov  2017   47915\n",
      "1357              Odder  2017   22331\n",
      "1358            Randers  2017   98118\n",
      "1359          Silkeborg  2017   91237\n",
      "1360              Samsø  2017    3724\n",
      "1361        Skanderborg  2017   60401\n",
      "1362             Aarhus  2017  335684\n",
      "1363       Ikast-Brande  2017   40981\n",
      "1364  Ringkøbing-Skjern  2017   57022\n",
      "1365          Hedensted  2017   46524\n",
      "1366              Morsø  2017   20665\n",
      "1367              Skive  2017   46540\n",
      "1368            Thisted  2017   43826\n",
      "1369             Viborg  2017   96477\n",
      "1370        Brønderslev  2017   36128\n",
      "1371      Frederikshavn  2017   60356\n",
      "1372    Vesthimmerlands  2017   37285\n",
      "1373               Læsø  2017    1793\n",
      "1374             Rebild  2017   29391\n",
      "1375      Mariagerfjord  2017   42066\n",
      "1376         Jammerbugt  2017   38581\n",
      "1377            Aalborg  2017  211937\n",
      "1378           Hjørring  2017   65307\n",
      "\n",
      "[686 rows x 3 columns]\n"
     ]
    }
   ],
   "source": [
    "for val in [\"Region\", \"Province\", \"All Denmark\"]:\n",
    "    for count, dataset in enumerate([people, budget, account]):\n",
    "        rowstodrop = dataset.loc[lambda df: df[\"Municipality\"].str.contains(val)].index\n",
    "        dataset.drop(rowstodrop, axis=0, inplace=True)\n",
    "\n",
    "def an():\n",
    "    \"\"\"dafd\"\"\"\n"
   ]
  },
  {
   "cell_type": "code",
   "execution_count": 6,
   "metadata": {},
   "outputs": [],
   "source": [
    "a = []\n",
    "for i in range(2011,2018):\n",
    "    a.append(str(i))\n",
    "\n",
    "budget = budget.loc[budget[\"Year\"].isin(a)]\n",
    "people = people.loc[people[\"Year\"].isin(a)]\n",
    "account = account.loc[account[\"Year\"].isin(a)]"
   ]
  },
  {
   "cell_type": "code",
   "execution_count": 7,
   "metadata": {},
   "outputs": [
    {
     "name": "stdout",
     "output_type": "stream",
     "text": [
      "<class 'pandas.core.frame.DataFrame'>\n",
      "Int64Index: 686 entries, 0 to 831\n",
      "Data columns (total 3 columns):\n",
      "Municipality    686 non-null object\n",
      "Year            686 non-null int64\n",
      "account         686 non-null int64\n",
      "dtypes: int64(2), object(1)\n",
      "memory usage: 21.4+ KB\n",
      "<class 'pandas.core.frame.DataFrame'>\n",
      "Int64Index: 686 entries, 0 to 1378\n",
      "Data columns (total 3 columns):\n",
      "Municipality    686 non-null object\n",
      "Year            686 non-null int64\n",
      "people          686 non-null int64\n",
      "dtypes: int64(2), object(1)\n",
      "memory usage: 21.4+ KB\n",
      "<class 'pandas.core.frame.DataFrame'>\n",
      "Int64Index: 686 entries, 0 to 888\n",
      "Data columns (total 3 columns):\n",
      "Municipality    686 non-null object\n",
      "Year            686 non-null int64\n",
      "Budget          686 non-null int64\n",
      "dtypes: int64(2), object(1)\n",
      "memory usage: 21.4+ KB\n"
     ]
    }
   ],
   "source": [
    "account.info()\n",
    "people.info()\n",
    "budget.info()"
   ]
  },
  {
   "cell_type": "code",
   "execution_count": 13,
   "metadata": {},
   "outputs": [
    {
     "name": "stdout",
     "output_type": "stream",
     "text": [
      "Empty DataFrame\n",
      "Columns: [Municipality, Year, people]\n",
      "Index: []\n"
     ]
    }
   ],
   "source": [
    "print(people[people[\"Municipality\"].str.contains(\"Region\")]==True)"
   ]
  },
  {
   "cell_type": "code",
   "execution_count": 8,
   "metadata": {},
   "outputs": [
    {
     "data": {
      "text/plain": [
       "[]"
      ]
     },
     "execution_count": 8,
     "metadata": {},
     "output_type": "execute_result"
    }
   ],
   "source": [
    "list(set(list(people[\"Municipality\"]))-set(list(budget[\"Municipality\"])))"
   ]
  },
  {
   "cell_type": "code",
   "execution_count": null,
   "metadata": {},
   "outputs": [],
   "source": []
  },
  {
   "cell_type": "code",
   "execution_count": null,
   "metadata": {},
   "outputs": [],
   "source": []
  }
 ],
 "metadata": {
  "kernelspec": {
   "display_name": "Python 3",
   "language": "python",
   "name": "python3"
  },
  "language_info": {
   "codemirror_mode": {
    "name": "ipython",
    "version": 3
   },
   "file_extension": ".py",
   "mimetype": "text/x-python",
   "name": "python",
   "nbconvert_exporter": "python",
   "pygments_lexer": "ipython3",
   "version": "3.7.1"
  }
 },
 "nbformat": 4,
 "nbformat_minor": 2
}
