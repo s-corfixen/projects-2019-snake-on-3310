{
 "cells": [
  {
   "cell_type": "code",
   "execution_count": 104,
   "metadata": {},
   "outputs": [],
   "source": [
    "import numpy as np\n",
    "import pandas as pd\n",
    "from matplotlib import pyplot as plt"
   ]
  },
  {
   "cell_type": "code",
   "execution_count": 105,
   "metadata": {},
   "outputs": [],
   "source": [
    "rho = 2\n",
    "beta = 0.96\n",
    "gamma = 0.1\n",
    "w = 2\n",
    "b = 1\n",
    "Delta = 0.1\n",
    "\n",
    "h_vec = np.linspace(0.1,1.5,100) "
   ]
  },
  {
   "cell_type": "code",
   "execution_count": 115,
   "metadata": {},
   "outputs": [],
   "source": [
    "class question1:\n",
    "    def __init__(self, rho, beta, gamma, w, b, delta, h_vec):\n",
    "        self.rho = rho\n",
    "        self.beta = beta\n",
    "        self.gamma = gamma\n",
    "        self.w = w\n",
    "        self.b = b\n",
    "        self.delta = delta\n",
    "        self.h_vec = h_vec\n",
    "        \n",
    "    def consumption(self,l_t, h_t):\n",
    "        if l_t==1:\n",
    "            c_t=self.w*h_t*l_t\n",
    "            \n",
    "        if l_t==0:\n",
    "            c_t=self.b\n",
    "            \n",
    "        return c_t\n",
    "            \n",
    "    def utility(self,l_t,h_t):\n",
    "        u_t = self.consumption(l_t, h_t)**(1-self.rho)/(1-self.rho) - self.gamma*l_t\n",
    "        \n",
    "        return u_t\n",
    "    \n",
    "    def humancapital(self,h_t, l_t, prob):\n",
    "        h_2 = h_t + l_t + prob*self.delta\n",
    "        \n",
    "        return h_2\n",
    "\n",
    "    def period1(self,l_t,h_t):\n",
    "        #expected humancapital\n",
    "        h2 = 0.5 * self.humancapital(h_t, l_t, 1) + 0.5 * self.humancapital(h_t,l_t,0)\n",
    "        \n",
    "        #utility\n",
    "        v1 = self.utility(l_t, h_t) + self.beta * self.utility(l_t,h2)\n",
    "        \n",
    "        return v1\n",
    "    \n",
    "    def period2(self, l_t, h_t):\n",
    "        v2 = self.utility(l_t, h_t)\n",
    "        \n",
    "        return v2\n",
    "    \n",
    "    def solution(self, period):\n",
    "        humancap = []\n",
    "        optimallabour = []\n",
    "        optimalutil = []\n",
    "        workutil = []\n",
    "        unemputil = []\n",
    "        \n",
    "        for h in self.h_vec:\n",
    "            list = [period(0, h), period(1, h)]\n",
    "            \n",
    "            if list[1]>list[0]:\n",
    "                optimallabour.append(1)\n",
    "            else:\n",
    "                optimallabour.append(0)\n",
    "            \n",
    "            optimalutil.append(max(list))\n",
    "            workutil.append(list[1])\n",
    "            unemputil.append(list[0])\n",
    "            humancap.append(h)\n",
    "        \n",
    "        data = pd.DataFrame()\n",
    "        data[\"h\"]=humancap\n",
    "        data[\"best l\"]=optimallabour\n",
    "        data[\"best u\"]=optimalutil\n",
    "        data[\"work u\"]=workutil\n",
    "        data[\"unemp u\"]=unemputil\n",
    "        \n",
    "        return data"
   ]
  },
  {
   "cell_type": "code",
   "execution_count": 116,
   "metadata": {},
   "outputs": [],
   "source": [
    "a = question1(rho,beta,gamma, w, b, Delta, h_vec)"
   ]
  },
  {
   "cell_type": "code",
   "execution_count": 117,
   "metadata": {},
   "outputs": [],
   "source": [
    "data = a.solution(a.period1)"
   ]
  },
  {
   "cell_type": "code",
   "execution_count": 119,
   "metadata": {},
   "outputs": [
    {
     "data": {
      "text/plain": [
       "<matplotlib.axes._subplots.AxesSubplot at 0x2cf7ccc32e8>"
      ]
     },
     "execution_count": 119,
     "metadata": {},
     "output_type": "execute_result"
    },
    {
     "data": {
      "image/png": "[encoded data removed]",
      "text/plain": [
       "<Figure size 432x288 with 1 Axes>"
      ]
     },
     "metadata": {
      "needs_background": "light"
     },
     "output_type": "display_data"
    }
   ],
   "source": []
  },
  {
   "cell_type": "code",
   "execution_count": null,
   "metadata": {},
   "outputs": [],
   "source": []
  }
 ],
 "metadata": {
  "kernelspec": {
   "display_name": "Python 3",
   "language": "python",
   "name": "python3"
  },
  "language_info": {
   "codemirror_mode": {
    "name": "ipython",
    "version": 3
   },
   "file_extension": ".py",
   "mimetype": "text/x-python",
   "name": "python",
   "nbconvert_exporter": "python",
   "pygments_lexer": "ipython3",
   "version": "3.7.3"
  }
 },
 "nbformat": 4,
 "nbformat_minor": 2
}
