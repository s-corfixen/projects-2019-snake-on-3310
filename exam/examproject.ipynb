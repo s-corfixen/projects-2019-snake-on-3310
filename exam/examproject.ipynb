{
 "cells": [
  {
   "cell_type": "markdown",
   "metadata": {},
   "source": [
    "# Human capital accumulation"
   ]
  },
  {
   "cell_type": "code",
   "execution_count": 1,
   "metadata": {},
   "outputs": [],
   "source": [
    "import numpy as np\n",
    "import pandas as pd\n",
    "from matplotlib import pyplot as plt\n",
    "import time\n",
    "from mpl_toolkits.mplot3d import Axes3D"
   ]
  },
  {
   "cell_type": "code",
   "execution_count": 2,
   "metadata": {},
   "outputs": [],
   "source": [
    "rho = 2\n",
    "beta = 0.96\n",
    "gamma = 0.1\n",
    "w = 2\n",
    "b = 1\n",
    "Delta = 0.1\n",
    "\n",
    "h_vec = np.linspace(0.1,1.5,100) "
   ]
  },
  {
   "cell_type": "code",
   "execution_count": 3,
   "metadata": {},
   "outputs": [],
   "source": [
    "class HumanCapitalAccumulation:\n",
    "    def __init__(self, rho, beta, gamma, w, b, delta, h_vec):\n",
    "        self.rho = rho\n",
    "        self.beta = beta\n",
    "        self.gamma = gamma\n",
    "        self.w = w\n",
    "        self.b = b\n",
    "        self.delta = delta\n",
    "        self.h_vec = h_vec\n",
    "        \n",
    "    def consumption(self,l_t, h_t):\n",
    "        if l_t==1:\n",
    "            c_t = self.w*h_t*l_t\n",
    "            \n",
    "        if l_t==0:\n",
    "            c_t = self.b\n",
    "            \n",
    "        return c_t\n",
    "            \n",
    "    def utility(self,l_t,h_t):\n",
    "        u_t = self.consumption(l_t, h_t)**(1-self.rho)/(1-self.rho) - self.gamma*l_t\n",
    "        \n",
    "        return u_t\n",
    "    \n",
    "    def humancapital(self, l_t, h_t, prob):\n",
    "        h_2 = h_t + l_t + prob*self.delta\n",
    "        \n",
    "        return h_2\n",
    "\n",
    "    def period1(self,l_t,h_t):\n",
    "        #expected humancapital\n",
    "        #h2 = 0.5 * self.humancapital(h_t, l_t, 1) + 0.5 * self.humancapital(h_t,l_t,0)\n",
    "        h2 = self.humancapital(h_t, l_t, 0.5)\n",
    "        \n",
    "        #utility\n",
    "        v1 = self.utility(l_t, h_t) + self.beta * self.utility(l_t,h2)\n",
    "        \n",
    "        return v1\n",
    "    \n",
    "    def period2(self, l_t, h_t):\n",
    "        v2 = self.utility(l_t, h_t)\n",
    "        \n",
    "        return v2\n",
    "    \n",
    "    def solution(self, period):\n",
    "        humancap = []\n",
    "        optimallabour = []\n",
    "        optimalutil = []\n",
    "        workutil = []\n",
    "        unemputil = []\n",
    "        \n",
    "        for h in self.h_vec:\n",
    "            list = [period(0, h), period(1, h)]\n",
    "            \n",
    "            if list[1]>list[0]:\n",
    "                optimallabour.append(1)\n",
    "            else:\n",
    "                optimallabour.append(0)\n",
    "            \n",
    "            optimalutil.append(max(list))\n",
    "            workutil.append(list[1])\n",
    "            unemputil.append(list[0])\n",
    "            humancap.append(h)\n",
    "        \n",
    "        data = pd.DataFrame()\n",
    "        data[\"h\"]=humancap\n",
    "        data[\"best l\"]=optimallabour\n",
    "        data[\"best u\"]=optimalutil\n",
    "        data[\"work u\"]=workutil\n",
    "        data[\"unemp u\"]=unemputil\n",
    "        \n",
    "        return data"
   ]
  },
  {
   "cell_type": "code",
   "execution_count": 4,
   "metadata": {},
   "outputs": [],
   "source": [
    "question1 = HumanCapitalAccumulation(rho,beta,gamma, w, b, Delta, h_vec)"
   ]
  },
  {
   "cell_type": "markdown",
   "metadata": {},
   "source": [
    "### Question 1"
   ]
  },
  {
   "cell_type": "code",
   "execution_count": 5,
   "metadata": {},
   "outputs": [],
   "source": [
    "data1 = question1.solution(question1.period2)"
   ]
  },
  {
   "cell_type": "code",
   "execution_count": 6,
   "metadata": {},
   "outputs": [
    {
     "data": {
      "text/html": [
       "<div>\n",
       "<style scoped>\n",
       "    .dataframe tbody tr th:only-of-type {\n",
       "        vertical-align: middle;\n",
       "    }\n",
       "\n",
       "    .dataframe tbody tr th {\n",
       "        vertical-align: top;\n",
       "    }\n",
       "\n",
       "    .dataframe thead th {\n",
       "        text-align: right;\n",
       "    }\n",
       "</style>\n",
       "<table border=\"1\" class=\"dataframe\">\n",
       "  <thead>\n",
       "    <tr style=\"text-align: right;\">\n",
       "      <th></th>\n",
       "      <th>h</th>\n",
       "      <th>best l</th>\n",
       "      <th>best u</th>\n",
       "      <th>work u</th>\n",
       "      <th>unemp u</th>\n",
       "    </tr>\n",
       "  </thead>\n",
       "  <tbody>\n",
       "    <tr>\n",
       "      <th>33</th>\n",
       "      <td>0.566667</td>\n",
       "      <td>1</td>\n",
       "      <td>-0.982353</td>\n",
       "      <td>-0.982353</td>\n",
       "      <td>-1.0</td>\n",
       "    </tr>\n",
       "  </tbody>\n",
       "</table>\n",
       "</div>"
      ],
      "text/plain": [
       "           h  best l    best u    work u  unemp u\n",
       "33  0.566667       1 -0.982353 -0.982353     -1.0"
      ]
     },
     "execution_count": 6,
     "metadata": {},
     "output_type": "execute_result"
    },
    {
     "data": {
      "image/png": "[encoded data removed]",
      "text/plain": [
       "<Figure size 432x288 with 1 Axes>"
      ]
     },
     "metadata": {
      "needs_background": "light"
     },
     "output_type": "display_data"
    },
    {
     "data": {
      "image/png": "[encoded data removed]",
      "text/plain": [
       "<Figure size 432x288 with 1 Axes>"
      ]
     },
     "metadata": {
      "needs_background": "light"
     },
     "output_type": "display_data"
    }
   ],
   "source": [
    "data1.plot(0,[2,3,4])\n",
    "data1.plot(0,1)\n",
    "\n",
    "data1[data1[\"unemp u\"]<data1[\"work u\"]].head(1)"
   ]
  },
  {
   "cell_type": "markdown",
   "metadata": {},
   "source": [
    "### Question 2"
   ]
  },
  {
   "cell_type": "code",
   "execution_count": 7,
   "metadata": {},
   "outputs": [],
   "source": [
    "data2 = question1.solution(question1.period1)"
   ]
  },
  {
   "cell_type": "code",
   "execution_count": 8,
   "metadata": {},
   "outputs": [
    {
     "data": {
      "text/html": [
       "<div>\n",
       "<style scoped>\n",
       "    .dataframe tbody tr th:only-of-type {\n",
       "        vertical-align: middle;\n",
       "    }\n",
       "\n",
       "    .dataframe tbody tr th {\n",
       "        vertical-align: top;\n",
       "    }\n",
       "\n",
       "    .dataframe thead th {\n",
       "        text-align: right;\n",
       "    }\n",
       "</style>\n",
       "<table border=\"1\" class=\"dataframe\">\n",
       "  <thead>\n",
       "    <tr style=\"text-align: right;\">\n",
       "      <th></th>\n",
       "      <th>h</th>\n",
       "      <th>best l</th>\n",
       "      <th>best u</th>\n",
       "      <th>work u</th>\n",
       "      <th>unemp u</th>\n",
       "    </tr>\n",
       "  </thead>\n",
       "  <tbody>\n",
       "    <tr>\n",
       "      <th>0</th>\n",
       "      <td>0.100000</td>\n",
       "      <td>0</td>\n",
       "      <td>-1.96</td>\n",
       "      <td>-5.613391</td>\n",
       "      <td>-1.96</td>\n",
       "    </tr>\n",
       "    <tr>\n",
       "      <th>1</th>\n",
       "      <td>0.114141</td>\n",
       "      <td>0</td>\n",
       "      <td>-1.96</td>\n",
       "      <td>-4.988852</td>\n",
       "      <td>-1.96</td>\n",
       "    </tr>\n",
       "    <tr>\n",
       "      <th>2</th>\n",
       "      <td>0.128283</td>\n",
       "      <td>0</td>\n",
       "      <td>-1.96</td>\n",
       "      <td>-4.501010</td>\n",
       "      <td>-1.96</td>\n",
       "    </tr>\n",
       "    <tr>\n",
       "      <th>3</th>\n",
       "      <td>0.142424</td>\n",
       "      <td>0</td>\n",
       "      <td>-1.96</td>\n",
       "      <td>-4.109180</td>\n",
       "      <td>-1.96</td>\n",
       "    </tr>\n",
       "    <tr>\n",
       "      <th>4</th>\n",
       "      <td>0.156566</td>\n",
       "      <td>0</td>\n",
       "      <td>-1.96</td>\n",
       "      <td>-3.787372</td>\n",
       "      <td>-1.96</td>\n",
       "    </tr>\n",
       "  </tbody>\n",
       "</table>\n",
       "</div>"
      ],
      "text/plain": [
       "          h  best l  best u    work u  unemp u\n",
       "0  0.100000       0   -1.96 -5.613391    -1.96\n",
       "1  0.114141       0   -1.96 -4.988852    -1.96\n",
       "2  0.128283       0   -1.96 -4.501010    -1.96\n",
       "3  0.142424       0   -1.96 -4.109180    -1.96\n",
       "4  0.156566       0   -1.96 -3.787372    -1.96"
      ]
     },
     "execution_count": 8,
     "metadata": {},
     "output_type": "execute_result"
    }
   ],
   "source": [
    "data2.head()"
   ]
  },
  {
   "cell_type": "code",
   "execution_count": 9,
   "metadata": {},
   "outputs": [
    {
     "data": {
      "text/html": [
       "<div>\n",
       "<style scoped>\n",
       "    .dataframe tbody tr th:only-of-type {\n",
       "        vertical-align: middle;\n",
       "    }\n",
       "\n",
       "    .dataframe tbody tr th {\n",
       "        vertical-align: top;\n",
       "    }\n",
       "\n",
       "    .dataframe thead th {\n",
       "        text-align: right;\n",
       "    }\n",
       "</style>\n",
       "<table border=\"1\" class=\"dataframe\">\n",
       "  <thead>\n",
       "    <tr style=\"text-align: right;\">\n",
       "      <th></th>\n",
       "      <th>h</th>\n",
       "      <th>best l</th>\n",
       "      <th>best u</th>\n",
       "      <th>work u</th>\n",
       "      <th>unemp u</th>\n",
       "    </tr>\n",
       "  </thead>\n",
       "  <tbody>\n",
       "    <tr>\n",
       "      <th>18</th>\n",
       "      <td>0.354545</td>\n",
       "      <td>1</td>\n",
       "      <td>-1.948004</td>\n",
       "      <td>-1.948004</td>\n",
       "      <td>-1.96</td>\n",
       "    </tr>\n",
       "  </tbody>\n",
       "</table>\n",
       "</div>"
      ],
      "text/plain": [
       "           h  best l    best u    work u  unemp u\n",
       "18  0.354545       1 -1.948004 -1.948004    -1.96"
      ]
     },
     "execution_count": 9,
     "metadata": {},
     "output_type": "execute_result"
    },
    {
     "data": {
      "image/png": "[encoded data removed]",
      "text/plain": [
       "<Figure size 432x288 with 1 Axes>"
      ]
     },
     "metadata": {
      "needs_background": "light"
     },
     "output_type": "display_data"
    },
    {
     "data": {
      "image/png": "[encoded data removed]",
      "text/plain": [
       "<Figure size 432x288 with 1 Axes>"
      ]
     },
     "metadata": {
      "needs_background": "light"
     },
     "output_type": "display_data"
    }
   ],
   "source": [
    "data2.plot(0,[2,3,4])\n",
    "data2.plot(0,1)\n",
    "\n",
    "data2[data2[\"unemp u\"]<data2[\"work u\"]].head(1)"
   ]
  },
  {
   "cell_type": "markdown",
   "metadata": {},
   "source": [
    "### Question 3"
   ]
  },
  {
   "cell_type": "code",
   "execution_count": 10,
   "metadata": {},
   "outputs": [],
   "source": [
    "data3 = question1.solution(question1.utility)"
   ]
  },
  {
   "cell_type": "code",
   "execution_count": 11,
   "metadata": {},
   "outputs": [],
   "source": [
    "slice1 = data2.loc[data2[\"best l\"]==1]\n",
    "slice2 = data3.loc[data3[\"best l\"]==1]\n",
    "\n",
    "diff = slice1[~slice1[\"h\"].isin(slice2[\"h\"])]"
   ]
  },
  {
   "cell_type": "code",
   "execution_count": 12,
   "metadata": {},
   "outputs": [
    {
     "name": "stdout",
     "output_type": "stream",
     "text": [
      "           h  best l    best u    work u  unemp u\n",
      "18  0.354545       1 -1.948004 -1.948004    -1.96\n",
      "19  0.368687       1 -1.890505 -1.890505    -1.96\n",
      "20  0.382828       1 -1.837070 -1.837070    -1.96\n",
      "21  0.396970       1 -1.787270 -1.787270    -1.96\n",
      "22  0.411111       1 -1.740733 -1.740733    -1.96\n",
      "23  0.425253       1 -1.697140 -1.697140    -1.96\n",
      "24  0.439394       1 -1.656210 -1.656210    -1.96\n",
      "25  0.453535       1 -1.617697 -1.617697    -1.96\n",
      "26  0.467677       1 -1.581387 -1.581387    -1.96\n",
      "27  0.481818       1 -1.547089 -1.547089    -1.96\n",
      "28  0.495960       1 -1.514633 -1.514633    -1.96\n",
      "29  0.510101       1 -1.483870 -1.483870    -1.96\n",
      "30  0.524242       1 -1.454666 -1.454666    -1.96\n",
      "31  0.538384       1 -1.426899 -1.426899    -1.96\n",
      "32  0.552525       1 -1.400463 -1.400463    -1.96\n"
     ]
    }
   ],
   "source": [
    "print(diff)"
   ]
  },
  {
   "cell_type": "code",
   "execution_count": 13,
   "metadata": {},
   "outputs": [
    {
     "data": {
      "text/plain": [
       "<matplotlib.legend.Legend at 0x1c402c89a58>"
      ]
     },
     "execution_count": 13,
     "metadata": {},
     "output_type": "execute_result"
    },
    {
     "data": {
      "image/png": "[encoded data removed]",
      "text/plain": [
       "<Figure size 600x400 with 1 Axes>"
      ]
     },
     "metadata": {
      "needs_background": "light"
     },
     "output_type": "display_data"
    },
    {
     "data": {
      "image/png": "[encoded data removed]",
      "text/plain": [
       "<Figure size 600x400 with 1 Axes>"
      ]
     },
     "metadata": {
      "needs_background": "light"
     },
     "output_type": "display_data"
    }
   ],
   "source": [
    "fig = plt.figure(dpi=100)\n",
    "ax = fig.add_subplot(1,1,1)\n",
    "ax.plot(data3[\"h\"],data3[\"best u\"], label = \"empl\", color =\"b\")\n",
    "ax.plot(data3[\"h\"],data3[\"unemp u\"], label = \"unempl\", color =\"g\")\n",
    "ax.set_title(\"without period 2\")\n",
    "ax.set_xlabel(\"h_t\")\n",
    "ax.set_ylabel(\"u_t\")\n",
    "ax.legend()\n",
    "\n",
    "\n",
    "fig1 = plt.figure(dpi=100)\n",
    "ax2 = fig1.add_subplot(1,1,1)\n",
    "ax2.plot(data2[\"h\"],data2[\"best u\"], label = \"empl\", color=\"b\")\n",
    "ax2.plot(diff[\"h\"],diff[\"best u\"], label = \"b>wh in p1\", color=\"orange\")\n",
    "ax2.plot(data2[\"h\"],data2[\"unemp u\"], label = \"unempl\", color=\"g\")\n",
    "ax2.set_title(\"with period 2\")\n",
    "ax2.set_xlabel(\"h_t\")\n",
    "ax2.set_ylabel(\"u_t\")\n",
    "ax2.legend()\n",
    "\n",
    "\n"
   ]
  },
  {
   "cell_type": "markdown",
   "metadata": {},
   "source": [
    "# AS-AD Model"
   ]
  },
  {
   "cell_type": "code",
   "execution_count": null,
   "metadata": {},
   "outputs": [],
   "source": []
  },
  {
   "cell_type": "code",
   "execution_count": null,
   "metadata": {},
   "outputs": [],
   "source": []
  },
  {
   "cell_type": "markdown",
   "metadata": {},
   "source": [
    "# Exchange economy"
   ]
  },
  {
   "cell_type": "code",
   "execution_count": null,
   "metadata": {},
   "outputs": [],
   "source": []
  },
  {
   "cell_type": "code",
   "execution_count": 14,
   "metadata": {},
   "outputs": [],
   "source": [
    "# a. parameters\n",
    "N = 50000\n",
    "mu = np.array([3,2,1])\n",
    "Sigma = np.array([[0.25, 0, 0], [0, 0.25, 0], [0, 0, 0.25]])\n",
    "gamma = 0.8\n",
    "zeta = 1\n",
    "\n",
    "# b. random draws\n",
    "seed = 1986\n",
    "np.random.seed(seed)\n",
    "\n",
    "# preferences\n",
    "alphas = np.exp(np.random.multivariate_normal(mu, Sigma, size=N))\n",
    "betas = alphas/np.reshape(np.sum(alphas,axis=1),(N,1))\n",
    "\n",
    "# endowments\n",
    "e1 = np.random.exponential(zeta,size=N)\n",
    "e2 = np.random.exponential(zeta,size=N)\n",
    "e3 = np.random.exponential(zeta,size=N)\n",
    "\n",
    "elist = [e1,e2,e3]"
   ]
  },
  {
   "cell_type": "code",
   "execution_count": null,
   "metadata": {},
   "outputs": [],
   "source": []
  },
  {
   "cell_type": "code",
   "execution_count": 15,
   "metadata": {},
   "outputs": [
    {
     "data": {
      "image/png": "[encoded data removed]",
      "text/plain": [
       "<Figure size 1008x432 with 3 Axes>"
      ]
     },
     "metadata": {
      "needs_background": "light"
     },
     "output_type": "display_data"
    }
   ],
   "source": [
    "fig, axs = plt.subplots(1,3, figsize=(14,6))\n",
    "fig.suptitle('Budget shares')\n",
    "\n",
    "ylims = (0,1700)\n",
    "\n",
    "axs[0].hist(betas[:,0], bins=150)\n",
    "axs[0].set_title(\"beta_1\")\n",
    "axs[0].set_ylim(ylims)\n",
    "\n",
    "axs[1].hist(betas[:,1], bins=150)\n",
    "axs[1].set_title(\"beta_2\")\n",
    "axs[1].set_ylim(ylims)\n",
    "\n",
    "axs[2].hist(betas[:,2], bins=150)\n",
    "axs[2].set_title(\"beta_3\")\n",
    "axs[2].set_ylim(ylims)\n",
    "\n",
    "plt.show()"
   ]
  },
  {
   "cell_type": "code",
   "execution_count": 16,
   "metadata": {},
   "outputs": [
    {
     "name": "stdout",
     "output_type": "stream",
     "text": [
      "mean for beta_1 is 0.6423\n",
      "variance for beta_1 is 0.0182\n",
      "mean for beta_2 is 0.2581\n",
      "variance for beta_2 is 0.0142\n",
      "mean for beta_3 is 0.0996\n",
      "variance for beta_3 is 0.0033\n"
     ]
    }
   ],
   "source": [
    "for i in range(3):\n",
    "    print(f\"mean for beta_{str(i+1)} is {np.mean(betas[:,i]):.4f}\")\n",
    "    print(f\"variance for beta_{str(i+1)} is {np.var(betas[:,i]):.4f}\")"
   ]
  },
  {
   "cell_type": "code",
   "execution_count": 17,
   "metadata": {},
   "outputs": [],
   "source": [
    "class ExchangeEconomy:\n",
    "    def __init__(self,betas, e1,e2,e3, N):\n",
    "        self.betas = betas\n",
    "        self.e1 = e1\n",
    "        self.e2 = e2\n",
    "        self.e3 = e3\n",
    "        self.N = N\n",
    "        self.betas1 = betas[:,0]\n",
    "        self.betas2 = betas[:,1]\n",
    "        self.betas3 = betas[:,2]\n",
    "        \n",
    "    def budget(self,p1,p2):\n",
    "        I = np.empty(self.N)\n",
    "        for j in range(self.N):\n",
    "            I[j] = p1 * self.e1[j] + p2 * self.e2[j] + self.e3[j]\n",
    "            \n",
    "        return I\n",
    "    \n",
    "    def demand_func(self,p1,p2):\n",
    "        x1 = np.empty(self.N)\n",
    "        x2 = np.empty(self.N)\n",
    "        x3 = np.empty(self.N)\n",
    "        \n",
    "        I = self.budget(p1,p2)\n",
    "        \n",
    "        for j in range(self.N):\n",
    "            x1[j] = self.betas1[j] * I[j] / p1\n",
    "            x2[j] = self.betas2[j] * I[j] / p2\n",
    "            x3[j] = self.betas3[j] * I[j]\n",
    "        \n",
    "        return x1,x2,x3\n",
    "    \n",
    "    def excess_demand(self,p1,p2):\n",
    "        z = np.empty(3)\n",
    "        x1,x2,x3 = self.demand_func(p1,p2)\n",
    "        \n",
    "        z[0] = np.sum(x1)-np.sum(e1)\n",
    "        z[1] = np.sum(x2)-np.sum(e2)\n",
    "        z[2] = np.sum(x3)-np.sum(e3)\n",
    "            \n",
    "        return z\n",
    "    \n",
    "    \n",
    "    def plot3d(vec):\n",
    "        array1 = np.empty((len(vec), len(vec)))\n",
    "        array2 = np.empty((len(vec), len(vec)))\n",
    "        array3 = np.empty((len(vec), len(vec)))\n",
    "\n",
    "        for i, p1 in enumerate(price_vec):\n",
    "            for j,p2 in enumerate(price_vec):\n",
    "                a = ExchangeEconomy(betas, elist, N, p1, p2)\n",
    "                z = a.excess_demand()\n",
    "                array1[i,j] = z[0]\n",
    "                array2[i,j] = z[1]\n",
    "                array3[i,j] = z[2]\n",
    "        return array1, array2, array3\n",
    "    def utility(self):\n",
    "        \n",
    "        util = []\n",
    "        for i in range(3):\n",
    "            util.append()\n",
    "        return"
   ]
  },
  {
   "cell_type": "code",
   "execution_count": 3,
   "metadata": {},
   "outputs": [
    {
     "ename": "NameError",
     "evalue": "name 'betas' is not defined",
     "output_type": "error",
     "traceback": [
      "\u001b[1;31m---------------------------------------------------------------------------\u001b[0m",
      "\u001b[1;31mNameError\u001b[0m                                 Traceback (most recent call last)",
      "\u001b[1;32m<ipython-input-3-118ca44a173c>\u001b[0m in \u001b[0;36m<module>\u001b[1;34m\u001b[0m\n\u001b[0;32m      1\u001b[0m \u001b[0mprice_vec\u001b[0m \u001b[1;33m=\u001b[0m \u001b[0mnp\u001b[0m\u001b[1;33m.\u001b[0m\u001b[0mlinspace\u001b[0m\u001b[1;33m(\u001b[0m\u001b[1;36m0\u001b[0m\u001b[1;33m,\u001b[0m\u001b[1;36m5\u001b[0m\u001b[1;33m,\u001b[0m\u001b[1;36m10\u001b[0m\u001b[1;33m,\u001b[0m\u001b[1;36m50\u001b[0m\u001b[1;33m)\u001b[0m\u001b[1;33m\u001b[0m\u001b[1;33m\u001b[0m\u001b[0m\n\u001b[1;32m----> 2\u001b[1;33m \u001b[0ma\u001b[0m \u001b[1;33m=\u001b[0m \u001b[0mExchangeEconomy\u001b[0m\u001b[1;33m(\u001b[0m\u001b[0mbetas\u001b[0m\u001b[1;33m,\u001b[0m \u001b[0melist\u001b[0m\u001b[1;33m,\u001b[0m \u001b[0mN\u001b[0m\u001b[1;33m)\u001b[0m\u001b[1;33m\u001b[0m\u001b[1;33m\u001b[0m\u001b[0m\n\u001b[0m\u001b[0;32m      3\u001b[0m \u001b[1;32mdef\u001b[0m \u001b[0mplot3d\u001b[0m\u001b[1;33m(\u001b[0m\u001b[1;33m)\u001b[0m\u001b[1;33m:\u001b[0m\u001b[1;33m\u001b[0m\u001b[1;33m\u001b[0m\u001b[0m\n\u001b[0;32m      4\u001b[0m     \u001b[0marray1\u001b[0m \u001b[1;33m=\u001b[0m \u001b[0mnp\u001b[0m\u001b[1;33m.\u001b[0m\u001b[0mempty\u001b[0m\u001b[1;33m(\u001b[0m\u001b[1;33m(\u001b[0m\u001b[0mlen\u001b[0m\u001b[1;33m(\u001b[0m\u001b[0mprice_vec\u001b[0m\u001b[1;33m)\u001b[0m\u001b[1;33m,\u001b[0m \u001b[0mlen\u001b[0m\u001b[1;33m(\u001b[0m\u001b[0mprice_vec\u001b[0m\u001b[1;33m)\u001b[0m\u001b[1;33m)\u001b[0m\u001b[1;33m)\u001b[0m\u001b[1;33m\u001b[0m\u001b[1;33m\u001b[0m\u001b[0m\n\u001b[0;32m      5\u001b[0m     \u001b[0marray2\u001b[0m \u001b[1;33m=\u001b[0m \u001b[0mnp\u001b[0m\u001b[1;33m.\u001b[0m\u001b[0mempty\u001b[0m\u001b[1;33m(\u001b[0m\u001b[1;33m(\u001b[0m\u001b[0mlen\u001b[0m\u001b[1;33m(\u001b[0m\u001b[0mprice_vec\u001b[0m\u001b[1;33m)\u001b[0m\u001b[1;33m,\u001b[0m \u001b[0mlen\u001b[0m\u001b[1;33m(\u001b[0m\u001b[0mprice_vec\u001b[0m\u001b[1;33m)\u001b[0m\u001b[1;33m)\u001b[0m\u001b[1;33m)\u001b[0m\u001b[1;33m\u001b[0m\u001b[1;33m\u001b[0m\u001b[0m\n",
      "\u001b[1;31mNameError\u001b[0m: name 'betas' is not defined"
     ]
    }
   ],
   "source": [
    "price_vec = np.linspace(0,5,10,50)\n",
    "a = ExchangeEconomy(betas, elist, N)\n",
    "def plot3d():\n",
    "    array1 = np.empty((len(price_vec), len(price_vec)))\n",
    "    array2 = np.empty((len(price_vec), len(price_vec)))\n",
    "    array3 = np.empty((len(price_vec), len(price_vec)))\n",
    "\n",
    "    for i, p1 in enumerate(price_vec):\n",
    "        for j,p2 in enumerate(price_vec):\n",
    "            z = a.excess_demand(p1,p2)\n",
    "            array1[i,j] = z[0]\n",
    "            array2[i,j] = z[1]\n",
    "            array3[i,j] = z[2]\n",
    "    return array1, array2, array3\n",
    "%time plot3d()"
   ]
  },
  {
   "cell_type": "code",
   "execution_count": null,
   "metadata": {},
   "outputs": [],
   "source": [
    "fig = plt.figure()\n",
    "ax = fig.add_subplot(1,1,1,projection='3d')\n",
    "cs = ax.plot_surface(price_vec,price_vec,array1, cmap=cm.jet)\n",
    "\n",
    "fig.suptitle('Excess Demand')"
   ]
  },
  {
   "cell_type": "code",
   "execution_count": 21,
   "metadata": {},
   "outputs": [
    {
     "name": "stdout",
     "output_type": "stream",
     "text": [
      "Wall time: 313 ms\n"
     ]
    }
   ],
   "source": [
    "a = ExchangeEconomy(betas, e1,e2,e3, N)\n",
    "%time z = a.excess_demand(p1=2,p2=2)"
   ]
  },
  {
   "cell_type": "code",
   "execution_count": 27,
   "metadata": {},
   "outputs": [
    {
     "data": {
      "text/plain": [
       "100"
      ]
     },
     "execution_count": 27,
     "metadata": {},
     "output_type": "execute_result"
    }
   ],
   "source": [
    "price_vec = np.linspace(0.1,10,100)\n",
    "len(price_vec)"
   ]
  },
  {
   "cell_type": "code",
   "execution_count": null,
   "metadata": {},
   "outputs": [],
   "source": []
  }
 ],
 "metadata": {
  "kernelspec": {
   "display_name": "Python 3",
   "language": "python",
   "name": "python3"
  },
  "language_info": {
   "codemirror_mode": {
    "name": "ipython",
    "version": 3
   },
   "file_extension": ".py",
   "mimetype": "text/x-python",
   "name": "python",
   "nbconvert_exporter": "python",
   "pygments_lexer": "ipython3",
   "version": "3.7.1"
  }
 },
 "nbformat": 4,
 "nbformat_minor": 2
}
