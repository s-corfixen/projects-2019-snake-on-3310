{
 "cells": [
  {
   "cell_type": "code",
   "execution_count": 1,
   "metadata": {},
   "outputs": [],
   "source": [
    "import sympy as sm"
   ]
  },
  {
   "cell_type": "code",
   "execution_count": 2,
   "metadata": {},
   "outputs": [],
   "source": [
    "par = {}\n",
    "par[\"alpha\"] = 5.76\n",
    "par[\"h\"] = 0.5\n",
    "par[\"b\"] = 0.5\n",
    "par[\"phi\"] = 0\n",
    "par[\"gamma\"]=0.075\n",
    "alpha = par[\"alpha\"]\n",
    "h = par[\"h\"] \n",
    "b = par[\"b\"] \n",
    "phi = par[\"phi\"]\n",
    "gamma = par[\"gamma\"]"
   ]
  },
  {
   "cell_type": "code",
   "execution_count": null,
   "metadata": {},
   "outputs": [],
   "source": []
  },
  {
   "cell_type": "code",
   "execution_count": 3,
   "metadata": {},
   "outputs": [],
   "source": [
    "sm.init_printing(use_unicode=True)\n",
    "pi_t = sm.symbols('pi_t')\n",
    "pi_t1 = sm.symbols('pi_t-1')\n",
    "\n",
    "\n",
    "v_t = sm.symbols('v_t')\n",
    "y_t = sm.symbols('y_t')\n",
    "y_t1 = sm.symbols('y_t-1')\n",
    "s_t = sm.symbols('s_t')\n",
    "s_t1 = sm.symbols('s_t-1')\n",
    "ad = 1/(h*alpha)*(v_t-(1+b*alpha)*y_t)\n",
    "sras = pi_t1 + gamma*y_t - phi*gamma*y_t1 + s_t - phi*s_t1"
   ]
  },
  {
   "cell_type": "code",
   "execution_count": 4,
   "metadata": {},
   "outputs": [],
   "source": [
    "AD = sm.Eq(ad, pi_t)\n",
    "SRAS = sm.Eq(sras, pi_t)"
   ]
  },
  {
   "cell_type": "code",
   "execution_count": 5,
   "metadata": {},
   "outputs": [
    {
     "data": {
      "image/png": "[encoded data removed]",
      "text/latex": [
       "$\\displaystyle \\pi_{t-1} + s_{t} + 0.075 y_{t} = \\pi_{t}$"
      ],
      "text/plain": [
       "πₜ₋₁ + sₜ + 0.075⋅yₜ = πₜ"
      ]
     },
     "execution_count": 5,
     "metadata": {},
     "output_type": "execute_result"
    }
   ],
   "source": [
    "SRAS"
   ]
  },
  {
   "cell_type": "code",
   "execution_count": 6,
   "metadata": {},
   "outputs": [],
   "source": [
    "ADSRAS=sm.Eq(sras,ad)\n"
   ]
  },
  {
   "cell_type": "code",
   "execution_count": 7,
   "metadata": {},
   "outputs": [],
   "source": [
    "y_star = sm.solve(ADSRAS, y_t)"
   ]
  },
  {
   "cell_type": "code",
   "execution_count": 8,
   "metadata": {},
   "outputs": [
    {
     "data": {
      "image/png": "[encoded data removed]",
      "text/latex": [
       "$\\displaystyle \\left[ - 0.703125 \\pi_{t-1} - 0.703125 s_{t} + 0.244140625 v_{t}\\right]$"
      ],
      "text/plain": [
       "[-0.703125⋅πₜ₋₁ - 0.703125⋅sₜ + 0.244140625⋅vₜ]"
      ]
     },
     "execution_count": 8,
     "metadata": {},
     "output_type": "execute_result"
    }
   ],
   "source": [
    "y_star"
   ]
  },
  {
   "cell_type": "code",
   "execution_count": 16,
   "metadata": {},
   "outputs": [
    {
     "data": {
      "image/png": "[encoded data removed]",
      "text/latex": [
       "$\\displaystyle 0.947265625 \\pi_{t-1} + 0.947265625 s_{t} + 0.018310546875 v_{t}$"
      ],
      "text/plain": [
       "0.947265625⋅πₜ₋₁ + 0.947265625⋅sₜ + 0.018310546875⋅vₜ"
      ]
     },
     "execution_count": 16,
     "metadata": {},
     "output_type": "execute_result"
    }
   ],
   "source": [
    "\n",
    "pi_star = 1/(h * alpha) * (v_t - (1 + b * alpha) * y_star[0])\n",
    "pi_star"
   ]
  },
  {
   "cell_type": "code",
   "execution_count": null,
   "metadata": {},
   "outputs": [],
   "source": []
  }
 ],
 "metadata": {
  "kernelspec": {
   "display_name": "Python 3",
   "language": "python",
   "name": "python3"
  },
  "language_info": {
   "codemirror_mode": {
    "name": "ipython",
    "version": 3
   },
   "file_extension": ".py",
   "mimetype": "text/x-python",
   "name": "python",
   "nbconvert_exporter": "python",
   "pygments_lexer": "ipython3",
   "version": "3.7.1"
  }
 },
 "nbformat": 4,
 "nbformat_minor": 2
}
